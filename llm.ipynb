{
 "cells": [
  {
   "cell_type": "code",
   "execution_count": null,
   "id": "d998475b",
   "metadata": {},
   "outputs": [
    {
     "name": "stderr",
     "output_type": "stream",
     "text": [
      "LLM POS Tagging:   2%|▏         | 1/50 [00:28<22:54, 28.05s/it]"
     ]
    },
    {
     "name": "stdout",
     "output_type": "stream",
     "text": [
      "Gold: ['PRT', '.', 'ADV', 'PRON', 'VERB', 'VERB', 'ADP', 'DET', 'NOUN', 'ADP', 'PRT', 'PRON', 'VERB', '.', '.', '.']\n",
      "Pred: ['ADV', '.', 'ADV', 'PRON', 'VERB', 'VERB', 'ADP', 'DET', 'NOUN', 'ADP', 'PRON', 'PRON', 'VERB', '.', '.', '.']\n",
      "Gold: ['.', 'DET', 'VERB', 'ADP', 'PRON', '.', 'NOUN', '.', '.', 'NOUN', 'VERB', 'ADV', '.']\n",
      "Pred: ['.', 'PRON', 'VERB', 'ADP', 'PRON', '.', 'NOUN', '.', '.', 'NOUN', 'VERB', 'ADV', '.']\n",
      "Gold: ['ADV', 'PRON', 'VERB', 'ADJ', '.', 'ADV', '.']\n",
      "Pred: ['ADV', 'PRON', 'VERB', 'ADJ', '.', 'ADV', '.']\n",
      "Gold: ['PRON', 'VERB', 'VERB', 'PRT', 'VERB', 'ADP', 'DET', '.', 'ADJ', 'CONJ', 'ADJ', '.']\n",
      "Pred: ['PRON', 'VERB', 'VERB', 'PRT', 'VERB', 'ADP', 'DET', '.', 'ADJ', 'CONJ', 'ADJ', '.']\n",
      "Gold: ['CONJ', '.', 'VERB', 'PRON', 'PRT', '.', 'ADV', 'VERB', 'PRON', 'VERB', 'DET', 'NOUN', 'ADP', 'VERB', 'NOUN', 'PRON', 'VERB', 'VERB', 'ADP', 'DET', 'NOUN', 'ADP', 'PRON', '.', '.']\n",
      "Pred: ['CONJ', '.', 'ADV', 'PRON', 'DET', '.', 'ADV', 'VERB', 'PRON', 'VERB', 'DET', 'NOUN', 'ADP', 'ADJ', 'NOUN', 'PRON', 'VERB', 'VERB', 'PRT', 'PRON', 'NOUN', 'ADP', 'PRON', '.', '.']\n",
      "Gold: ['CONJ', '.', 'ADP', 'DET', 'NOUN', '.', 'PRON', 'VERB', '.']\n",
      "Pred: ['CONJ', '.', 'ADP', 'DET', 'NOUN', '.', 'PRON', 'VERB', '.']\n",
      "Gold: ['PRON', 'ADV', 'VERB', 'ADP', 'ADP', 'PRT', 'VERB', 'NOUN', 'ADV', 'PRT', 'VERB', '.']\n",
      "Pred: ['PRON', 'ADV', 'VERB', 'ADP', 'CONJ', 'ADV', 'VERB', 'NOUN', 'ADV', 'PRT', 'VERB', '.']\n",
      "Gold: ['DET', 'NOUN', 'NOUN', 'VERB', 'PRT', 'DET', 'NOUN', '.', 'CONJ', 'PRON', 'VERB', 'VERB', 'DET', 'NOUN', 'ADP', 'DET', 'NOUN', '.']\n",
      "Pred: ['DET', 'NOUN', 'NOUN', 'VERB', 'DET', 'PRON', 'NOUN', '.', 'CONJ', 'PRON', 'VERB', 'VERB', 'DET', 'NOUN', 'ADP', 'PRON', 'NOUN', '.']\n",
      "Gold: ['ADJ', 'NOUN', 'VERB', 'ADJ', '.']\n",
      "Pred: ['ADV', 'NOUN', 'VERB', 'ADJ', '.']\n",
      "Gold: ['ADP', 'DET', 'NOUN', 'ADP', 'VERB', '.', 'PRON', 'VERB', 'VERB', 'ADJ', '.']\n",
      "Pred: ['PRT', 'DET', 'NOUN', 'ADP', 'NOUN', '.', 'PRON', 'VERB', 'ADJ', 'ADJ', '.']\n"
     ]
    },
    {
     "name": "stderr",
     "output_type": "stream",
     "text": [
      "LLM POS Tagging:   4%|▍         | 2/50 [00:57<23:18, 29.14s/it]"
     ]
    },
    {
     "name": "stdout",
     "output_type": "stream",
     "text": [
      "Gold: ['DET', 'NOUN', 'VERB', 'VERB', 'PRON', '.', 'CONJ', 'PRON', 'VERB', 'ADV', 'PRT', 'VERB', 'PRT', 'ADP', 'NOUN', 'ADP', 'PRT', 'VERB', 'PRT', 'CONJ', 'VERB', 'DET', 'NOUN', '.']\n",
      "Pred: ['PRON', 'NOUN', 'VERB', 'VERB', 'PRON', '.', 'CONJ', 'PRON', 'VERB', 'ADJ', 'PRT', 'VERB', 'PRT', 'ADP', 'NOUN', 'CONJ', 'PRT', 'VERB', 'PRT', 'CONJ', 'VERB', 'DET', 'NOUN', '.']\n",
      "Gold: ['NOUN', 'VERB', 'NOUN', 'ADP', 'NOUN', 'ADP', 'DET', 'ADJ', 'NOUN', '.', 'VERB', 'DET', 'NOUN', 'CONJ', 'NOUN', 'CONJ', 'DET', 'NOUN', 'ADP', 'NOUN', 'NOUN', 'VERB', 'VERB', 'ADP', 'NOUN', '.']\n",
      "Pred: ['NOUN', 'VERB', 'NOUN', 'ADP', 'NOUN', 'ADP', 'DET', 'ADJ', 'NOUN', '.', 'VERB', 'DET', 'NOUN', 'CONJ', 'NOUN', 'CONJ', 'DET', 'NOUN', 'ADP', 'NOUN', 'NOUN', 'VERB', 'VERB', 'ADP', 'ADJ', '.']\n",
      "Gold: ['ADP', 'ADJ', 'PRT', 'VERB', '.', 'PRON', 'VERB', 'ADV', 'ADP', 'PRON', 'VERB', 'PRT', 'DET', 'NOUN', 'ADV', '.']\n",
      "Pred: ['ADP', 'ADV', 'PRON', 'VERB', '.', 'PRON', 'VERB', 'ADV', 'CONJ', 'PRON', 'VERB', 'DET', 'DET', 'NOUN', 'PRT', '.']\n",
      "Gold: ['ADP', 'PRON', 'VERB', '.', 'NOUN', 'VERB', 'CONJ', 'VERB', '.']\n",
      "Pred: ['CONJ', 'PRON', 'VERB', '.', 'NOUN', 'VERB', 'CONJ', 'VERB', '.']\n",
      "Gold: ['ADV', 'PRON', 'VERB', 'VERB', '.', 'PRON', 'VERB', 'ADP', 'DET', 'NOUN', 'VERB', 'ADP', 'NOUN', '.']\n",
      "Pred: ['CONJ', 'PRON', 'VERB', 'VERB', '.', 'PRON', 'VERB', 'ADP', 'DET', 'NOUN', 'VERB', 'ADP', 'NOUN', '.']\n",
      "Gold: ['.', 'NOUN', 'NOUN', 'NOUN', '.', '.', 'PRT', 'VERB', 'ADP', 'PRON', '.']\n",
      "Pred: ['.', 'NOUN', 'NOUN', 'NOUN', '.', '.', 'PRON', 'VERB', 'ADP', 'PRON', '.']\n",
      "Gold: ['.', 'PRT', 'ADV', 'ADJ', 'PRT', 'VERB', 'PRT', 'CONJ', 'VERB', 'ADP', 'DET', 'NOUN', '.']\n",
      "Pred: ['.', 'PRON', 'ADV', 'ADJ', 'PRT', 'VERB', 'PRT', 'CONJ', 'VERB', 'ADP', 'DET', 'NOUN', '.', '.']\n",
      "Gold: ['PRT', 'ADV', 'DET', 'ADJ', 'NOUN', '.', '.', '.']\n",
      "Pred: ['PRON', 'ADV', 'DET', 'ADJ', 'NOUN', '.', '.', '.']\n",
      "Gold: ['PRON', 'VERB', 'DET', 'NOUN', '.', 'ADV', 'ADV', '.']\n",
      "Pred: ['PRON', 'VERB', 'DET', 'NOUN', '.', 'ADV', 'ADJ', '.']\n",
      "Gold: ['CONJ', 'PRON', 'VERB', 'VERB', 'PRT', 'ADV', '.', 'DET', 'NOUN', 'ADP', 'NOUN', '.', 'NOUN', 'VERB', 'VERB', '.']\n",
      "Pred: ['CONJ', 'PRON', 'VERB', 'VERB', 'PRT', 'ADV', '.', 'DET', 'NOUN', 'ADP', 'NOUN', '.', 'NOUN', 'VERB', 'VERB', '.']\n"
     ]
    },
    {
     "name": "stderr",
     "output_type": "stream",
     "text": [
      "LLM POS Tagging:   6%|▌         | 3/50 [01:26<22:28, 28.69s/it]"
     ]
    },
    {
     "name": "stdout",
     "output_type": "stream",
     "text": [
      "Gold: ['PRON', 'VERB', 'PRON', 'VERB', 'VERB', 'ADV', 'NOUN', 'ADP', 'DET', 'NOUN', 'ADP', 'NOUN', '.']\n",
      "Pred: ['PRON', 'VERB', 'PRON', 'VERB', 'VERB', 'ADV', 'PRON', 'ADP', 'DET', 'NOUN', 'ADP', 'NOUN', '.']\n",
      "Gold: ['CONJ', 'DET', 'NUM', 'NOUN', 'VERB', 'ADP', 'NUM', '.', 'CONJ', 'PRON', 'VERB', 'ADV', 'ADP', 'PRON', '.']\n",
      "Pred: ['CONJ', 'DET', 'NUM', 'NOUN', 'VERB', 'ADP', 'NUM', '.', 'CONJ', 'PRON', 'VERB', 'ADV', 'ADP', 'PRON', '.']\n",
      "Gold: ['NOUN', 'ADJ', 'NOUN', 'VERB', 'ADV', 'VERB', 'NOUN', 'ADP', 'ADP', 'NOUN', '.']\n",
      "Pred: ['NOUN', 'ADJ', 'NOUN', 'VERB', 'ADV', 'VERB', 'NOUN', 'PRT', 'ADP', 'NOUN', '.']\n",
      "Gold: ['PRON', 'VERB', 'PRT', 'DET', 'NOUN', 'VERB', 'ADP', 'NOUN', '.', 'CONJ', 'VERB', 'NOUN', 'ADP', 'NOUN', '.', 'ADJ', 'ADP', 'NOUN', 'CONJ', 'NOUN', '.']\n",
      "Pred: ['PRON', 'VERB', 'PRT', 'DET', 'NOUN', 'VERB', 'ADP', 'NOUN', '.', 'CONJ', 'VERB', 'ADV', 'ADP', 'NOUN', '.', 'ADJ', 'ADP', 'NOUN', 'CONJ', 'NOUN', '.']\n",
      "Gold: ['NOUN', 'NOUN', 'VERB', 'VERB', 'PRON', '.']\n",
      "Pred: ['NOUN', 'NOUN', 'VERB', 'VERB', 'PRON', '.']\n",
      "Gold: ['NOUN', 'VERB', 'ADV', 'VERB', 'DET', 'NOUN', '.']\n",
      "Pred: ['PRON', 'VERB', 'ADV', 'VERB', 'PRON', 'NOUN', '.']\n",
      "Gold: ['.', 'PRON', 'VERB', 'VERB', 'NOUN', '.', '.', 'NOUN', 'VERB', 'VERB', '.']\n",
      "Pred: ['.', 'PRON', 'VERB', 'VERB', 'PRON', '.', '.', 'NOUN', 'VERB', 'VERB', '.']\n",
      "Gold: ['.', 'PRON', 'VERB', 'VERB', 'DET', 'NOUN', 'VERB', 'ADP', 'DET', 'NOUN', 'NOUN', '.', 'ADP', 'NOUN', 'ADV', '.', '.']\n",
      "Pred: ['.', 'PRON', 'VERB', 'VERB', 'DET', 'NOUN', 'VERB', 'ADP', 'DET', 'ADJ', 'NOUN', '.', 'CONJ', 'PRON', 'ADV', '.', '.']\n",
      "Gold: ['.', 'DET', 'ADJ', 'NOUN', 'NOUN', 'VERB', 'VERB', 'NOUN', 'VERB', 'PRT', '.', '.', 'PRON', 'VERB', '.', 'DET', 'NOUN', 'ADP', 'DET', 'NOUN', '.']\n",
      "Pred: ['.', 'DET', 'ADJ', 'NOUN', 'NOUN', 'VERB', 'VERB', 'PRON', 'VERB', 'PRT', '.', '.', 'PRON', 'VERB', '.', 'DET', 'NOUN', 'ADP', 'PRON', 'NOUN', '.']\n",
      "Gold: ['.', 'DET', 'ADJ', 'NOUN', '.', 'VERB', 'NOUN', 'ADV', 'ADP', 'NOUN', 'PRON', 'VERB', 'PRON', '.', '.']\n",
      "Pred: ['.', 'DET', 'ADJ', 'NOUN', '.', 'VERB', 'NOUN', 'ADP', 'ADP', 'NOUN', 'PRON', 'VERB', 'PRON', '.', '.']\n"
     ]
    },
    {
     "name": "stderr",
     "output_type": "stream",
     "text": [
      "LLM POS Tagging:   8%|▊         | 4/50 [02:01<24:04, 31.39s/it]"
     ]
    },
    {
     "name": "stdout",
     "output_type": "stream",
     "text": [
      "Gold: ['.', 'ADP', 'NOUN', 'PRT', 'VERB', 'ADV', 'ADP', 'NOUN', '.', '.', 'PRT', 'VERB', '.', 'VERB', 'PRT', 'VERB', 'ADJ', '.']\n",
      "Pred: ['.', 'ADP', 'NOUN', 'PRON', 'VERB', 'ADV', 'ADP', 'NOUN', '.', '.', 'PRON', 'VERB', '.', 'VERB', 'PRT', 'VERB', 'ADJ', '.']\n",
      "Gold: ['CONJ', 'DET', 'VERB', 'ADV', 'DET', 'NOUN', 'ADP', 'NOUN', '.']\n",
      "Pred: ['CONJ', 'PRON', 'VERB', 'ADV', 'DET', 'NOUN', 'ADP', 'NOUN', '.']\n",
      "Gold: ['CONJ', 'PRON', 'VERB', 'VERB', 'NUM', 'ADJ', 'NOUN', 'ADP', 'DET', '.']\n",
      "Pred: ['CONJ', 'PRON', 'VERB', 'VERB', 'NUM', 'ADJ', 'NOUN', 'ADP', 'PRON', '.']\n",
      "Gold: ['PRON', 'VERB', 'PRON', 'ADP', 'NOUN', 'NUM', 'VERB', 'ADJ', 'NOUN', '.', 'ADV', 'PRON', 'VERB', 'VERB', 'ADV', 'ADP', 'DET', 'NOUN', 'ADP', 'ADJ', 'NOUN', '.']\n",
      "Pred: ['PRON', 'VERB', 'PRON', 'ADP', 'NOUN', 'NUM', 'ADJ', 'ADJ', 'NOUN', '.', 'CONJ', 'PRON', 'VERB', 'VERB', 'ADV', 'ADP', 'DET', 'NOUN', 'ADP', 'ADJ', 'NOUN', '.']\n",
      "Gold: ['PRON', 'VERB', 'ADV', 'VERB', 'ADP', 'NOUN', '.']\n",
      "Pred: ['PRON', 'VERB', 'ADV', 'VERB', 'ADP', 'NOUN', '.']\n",
      "Gold: ['CONJ', 'PRON', 'VERB', 'ADP', 'PRON', 'ADP', 'DET', 'NOUN', 'PRON', 'VERB', 'DET', 'NOUN', '.', 'PRON', 'VERB', 'PRON', 'VERB', 'VERB', 'PRT', 'VERB', 'DET', 'ADJ', 'NOUN', '.']\n",
      "Pred: ['CONJ', 'PRON', 'VERB', 'ADP', 'PRON', 'ADP', 'DET', 'NOUN', 'PRON', 'VERB', 'PRON', 'NOUN', '.', 'PRON', 'VERB', 'PRON', 'VERB', 'VERB', 'PRT', 'VERB', 'DET', 'ADJ', 'NOUN', '.']\n",
      "Gold: ['NOUN', 'ADP', 'PRON', 'VERB', 'DET', 'NOUN', '.', 'ADV', 'ADJ', 'PRON', 'VERB', 'VERB', 'PRON', 'ADV', 'ADV', 'ADJ', 'PRT', 'VERB', 'ADP', 'DET', 'NOUN', '.']\n",
      "Pred: ['NOUN', 'ADP', 'PRON', 'VERB', 'DET', 'NOUN', '.', 'ADV', 'ADJ', 'PRON', 'VERB', 'VERB', 'PRON', 'ADV', 'ADP', 'ADJ', 'PRT', 'VERB', 'ADP', 'DET', 'NOUN', '.']\n",
      "Gold: ['NOUN', 'ADP', 'PRON', 'VERB', 'VERB', 'ADV', 'VERB', '.', 'PRT', 'ADV', 'ADV', 'VERB', 'DET', 'ADJ', 'ADJ', 'NOUN', 'NOUN', '.', 'CONJ', 'DET', 'NOUN', 'NOUN', 'ADV', 'ADV', '.', 'PRON', 'VERB', 'PRON', 'PRT', 'ADV', '.']\n",
      "Pred: ['NOUN', 'ADP', 'PRON', 'VERB', 'VERB', 'ADV', 'ADJ', '.', 'PRON', 'ADV', 'ADV', 'VERB', 'PRON', 'ADJ', 'ADJ', 'NOUN', 'ADV', '.', 'CONJ', 'DET', 'NOUN', 'NOUN', 'ADP', 'ADV', '.', 'PRON', 'VERB', 'PRON', 'PRT', 'ADV', '.']\n",
      "Gold: ['CONJ', 'DET', 'NOUN', 'ADP', 'PRON', '.', 'DET', 'ADJ', 'NOUN', '.', 'VERB', 'VERB', 'ADP', 'NOUN', 'ADP', 'PRT', '.']\n",
      "Pred: ['CONJ', 'DET', 'NOUN', 'ADP', 'PRON', '.', 'DET', 'ADJ', 'NOUN', '.', 'VERB', 'VERB', 'ADP', 'NOUN', 'ADP', 'ADV', '.']\n",
      "Gold: ['PRON', 'VERB', 'ADV', 'VERB', 'PRT', 'VERB', 'NOUN', 'ADP', 'DET', 'NOUN', '.']\n",
      "Pred: ['PRON', 'VERB', 'ADV', 'VERB', 'PRT', 'VERB', 'NUM', 'ADP', 'DET', 'NOUN', '.']\n"
     ]
    },
    {
     "name": "stderr",
     "output_type": "stream",
     "text": [
      "LLM POS Tagging:  10%|█         | 5/50 [02:33<23:40, 31.56s/it]"
     ]
    },
    {
     "name": "stdout",
     "output_type": "stream",
     "text": [
      "Gold: ['ADP', 'DET', 'ADJ', 'NOUN', '.', 'PRON', 'VERB', 'PRT', 'VERB', 'DET', 'ADJ', '.', 'ADJ', '.', 'ADJ', 'NOUN', '.']\n",
      "Pred: ['ADP', 'DET', 'ADJ', 'NOUN', '.', 'PRON', 'VERB', 'PRON', 'VERB', 'DET', 'ADJ', '.', 'ADJ', '.', 'ADJ', 'NOUN', '.']\n",
      "Gold: ['CONJ', 'ADP', 'DET', 'ADJ', 'NOUN', '.', 'PRON', 'VERB', 'PRON', '.']\n",
      "Pred: ['CONJ', 'ADP', 'DET', 'ADJ', 'NOUN', '.', 'PRON', 'VERB', 'PRON', '.']\n",
      "Gold: ['PRON', 'VERB', 'VERB', 'NOUN', '.', 'PRON', 'VERB', 'VERB', 'PRON', '.']\n",
      "Pred: ['PRON', 'VERB', 'VERB', 'NOUN', '.', 'PRON', 'VERB', 'VERB', 'PRON', '.']\n",
      "Gold: ['ADV', '.', 'PRON', 'VERB', 'VERB', '.', 'PRON', 'VERB', 'PRON', 'ADP', 'DET', 'VERB', 'NOUN', '.']\n",
      "Pred: ['ADV', '.', 'PRON', 'VERB', 'VERB', '.', 'PRON', 'VERB', 'PRON', 'ADP', 'DET', 'ADJ', 'NOUN', '.']\n",
      "Gold: ['PRON', 'VERB', 'DET', 'NOUN', 'PRT', 'VERB', 'ADJ', 'ADP', '.']\n",
      "Pred: ['PRON', 'VERB', 'DET', 'NOUN', 'PRT', 'VERB', 'ADJ', 'ADP', '.']\n",
      "Gold: ['DET', 'NOUN', 'PRON', 'VERB', 'PRON', 'ADV', 'ADJ', 'DET', 'NOUN', 'ADP', 'PRON', 'VERB', 'PRT', 'VERB', 'VERB', 'ADP', '.']\n",
      "Pred: ['DET', 'NOUN', 'PRON', 'VERB', 'PRON', 'ADP', 'ADJ', 'DET', 'NOUN', 'ADP', 'PRON', 'VERB', 'PRT', 'VERB', 'VERB', 'ADP', '.']\n",
      "Gold: ['ADV', 'PRON', 'VERB', 'VERB', 'ADV', 'ADJ', 'ADP', 'NOUN', 'ADP', 'PRT', 'VERB', '.', 'CONJ', 'ADV', 'ADV', 'ADJ', 'PRON', 'VERB', 'VERB', 'VERB', 'ADP', 'PRT', 'VERB', 'PRT', 'VERB', 'PRON', 'PRT', 'ADV', 'ADP', 'NOUN', 'VERB', '.', 'VERB', 'DET', 'NOUN', 'ADP', 'DET', 'NOUN', 'CONJ', 'DET', 'NOUN', '.']\n",
      "Pred: ['ADV', 'PRON', 'VERB', 'VERB', 'ADP', 'ADV', 'ADP', 'NOUN', 'ADP', 'PRON', 'VERB', '.', 'CONJ', 'ADV', 'ADV', 'ADJ', 'PRON', 'VERB', 'VERB', 'VERB', 'CONJ', 'PRON', 'VERB', 'PRT', 'VERB', 'PRON', 'PRT', 'ADV', 'ADP', 'NOUN', 'VERB', '.', 'VERB', 'DET', 'NOUN', 'PRT', 'DET', 'NOUN', 'CONJ', 'DET', 'NOUN', '.']\n",
      "Gold: ['ADP', 'ADJ', '.', 'PRON', 'VERB', 'ADV', 'CONJ', 'PRON', 'VERB', 'NOUN', 'NOUN', '.', 'VERB', 'PRON', '.', 'PRT', 'VERB', 'ADP', 'PRON', '.', 'DET', 'NOUN', 'VERB', 'VERB', 'ADJ', 'ADP', 'NOUN', 'ADP', 'NOUN', 'NOUN', 'VERB', '.']\n",
      "Pred: ['ADP', 'ADV', '.', 'PRON', 'VERB', 'ADV', 'CONJ', 'PRON', 'VERB', 'NOUN', 'NOUN', '.', 'VERB', 'PRON', '.', 'PRT', 'VERB', 'ADP', 'PRON', '.', 'DET', 'NOUN', 'VERB', 'VERB', 'ADJ', 'ADP', 'NOUN', 'ADP', 'NOUN', 'NOUN', 'VERB', '.']\n",
      "Gold: ['PRON', 'VERB', 'ADJ', 'ADP', 'NOUN', 'ADP', 'NOUN', '.', 'DET', 'NOUN', 'ADP', 'PRON', '.']\n",
      "Pred: ['PRON', 'VERB', 'ADJ', 'ADP', 'NOUN', 'ADP', 'NOUN', '.', 'DET', 'NOUN', 'ADP', 'PRON', '.']\n",
      "Gold: ['ADV', 'ADP', 'DET', 'NOUN', 'NOUN', 'VERB', 'VERB', 'PRT', '.']\n",
      "Pred: ['ADV', 'ADP', 'DET', 'NOUN', 'NOUN', 'VERB', 'VERB', 'PRT', '.']\n"
     ]
    },
    {
     "name": "stderr",
     "output_type": "stream",
     "text": [
      "LLM POS Tagging:  12%|█▏        | 6/50 [03:18<26:30, 36.15s/it]"
     ]
    },
    {
     "name": "stdout",
     "output_type": "stream",
     "text": [
      "Gold: ['VERB', 'PRT', 'ADP', 'DET', 'NOUN', 'ADP', 'DET', 'NOUN', 'PRON', 'VERB', 'NUM', '.', 'PRON', 'VERB', 'DET', 'ADJ', 'NOUN', 'ADP', 'DET', 'NOUN', '.', 'ADV', 'VERB', 'DET', 'NOUN', 'ADP', 'NOUN', 'NOUN', 'VERB', 'VERB', '.']\n",
      "Pred: ['VERB', 'PRT', 'ADP', 'DET', 'NOUN', 'ADP', 'DET', 'NOUN', 'PRON', 'VERB', 'NUM', '.', 'PRON', 'VERB', 'DET', 'ADJ', 'NOUN', 'ADP', 'DET', 'NOUN', '.', 'ADV', 'VERB', 'DET', 'NOUN', 'ADP', 'NOUN', 'NOUN', 'VERB', 'VERB', '.']\n",
      "Gold: ['CONJ', 'PRON', 'VERB', 'VERB', 'ADP', 'NOUN', '.']\n",
      "Pred: ['CONJ', 'PRON', 'VERB', 'VERB', 'ADP', 'NOUN', '.']\n",
      "Gold: ['PRON', 'VERB', 'DET', 'VERB', 'NOUN', '.', 'DET', 'NOUN', 'PRON', 'VERB', 'ADP', 'DET', 'NOUN', '.', 'CONJ', 'ADV', 'VERB', 'ADP', '.']\n",
      "Pred: ['PRON', 'VERB', 'DET', 'ADJ', 'NOUN', '.', 'DET', 'NOUN', 'PRON', 'VERB', 'ADP', 'PRON', 'NOUN', '.', 'CONJ', 'ADV', 'VERB', 'ADP', '.']\n",
      "Gold: ['ADP', 'PRT', 'VERB', 'PRT', 'ADP', 'PRT', 'VERB', 'VERB', '.', 'DET', 'NOUN', 'PRT', 'VERB', 'NOUN', 'VERB', 'ADV', 'VERB', 'VERB', 'ADJ', 'ADP', 'ADV', '.', 'ADV']\n",
      "Pred: ['CONJ', 'VERB', 'VERB', 'PRT', 'CONJ', 'VERB', 'VERB', 'VERB', '.', 'DET', 'NOUN', 'VERB', 'VERB', 'NOUN', 'VERB', 'ADV', 'VERB', 'VERB', 'ADJ', 'ADP', 'ADV', '.', 'ADV']\n",
      "Gold: ['ADV', 'ADJ', '.', 'NOUN', 'ADJ', 'NOUN', 'VERB', 'PRON', 'ADP', 'DET', 'NOUN', 'NOUN', '.']\n",
      "Pred: ['ADV', 'ADJ', '.', 'NOUN', 'PRT', 'ADJ', 'NOUN', 'VERB', 'PRON', 'ADP', 'DET', 'NOUN', 'NOUN', '.']\n",
      "Gold: ['DET', 'ADJ', 'NOUN', 'VERB', 'ADP', 'NUM', '.', 'CONJ', 'PRON', 'ADV', 'VERB', 'PRT', 'PRT', 'VERB', 'NOUN', 'ADP', 'PRON', '.']\n",
      "Pred: ['PRON', 'ADJ', 'NOUN', 'VERB', 'ADP', 'NUM', '.', 'CONJ', 'PRON', 'ADV', 'VERB', 'PRT', 'PRT', 'VERB', 'NOUN', 'ADP', 'PRON', '.']\n",
      "Gold: ['PRON', 'VERB', 'PRON', 'VERB', 'ADV', 'CONJ', 'VERB', 'ADP', 'PRT', 'VERB', '.', 'PRT', 'ADP', 'DET', 'ADJ', '.', 'PRT', 'VERB', 'ADP', 'NOUN', 'ADV', 'ADV', 'ADP', 'NOUN', 'VERB', 'PRON', 'VERB', 'ADV', '.', 'ADV', '.']\n",
      "Pred: ['PRON', 'VERB', 'PRON', 'VERB', 'ADJ', 'CONJ', 'VERB', 'CONJ', 'VERB', 'VERB', '.', 'ADV', 'ADP', 'PRON', 'ADJ', '.', 'PRT', 'VERB', 'ADP', 'NOUN', 'ADV', 'ADV', 'ADP', 'NOUN', 'VERB', 'PRON', 'VERB', 'ADJ', '.', 'ADV', '.']\n",
      "Gold: ['PRT', '.', 'PRON', 'VERB', 'ADP', 'PRON', 'VERB', 'VERB', 'PRON', 'PRT', 'DET', 'NOUN', 'ADP', 'DET', 'NOUN', '.']\n",
      "Pred: ['X', '.', 'PRON', 'VERB', 'CONJ', 'PRON', 'VERB', 'VERB', 'PRON', 'DET', 'DET', 'NOUN', 'ADP', 'PRON', 'NOUN', '.']\n",
      "Gold: ['PRON', 'VERB', 'DET', 'NOUN', 'ADV', 'ADJ', 'NOUN', 'NOUN', '.', 'DET', 'ADV', 'ADJ', 'NOUN', 'ADP', 'NOUN', '.', 'VERB', 'NOUN', 'PRT', 'VERB', 'ADP', 'PRON', '.', 'ADV', '.']\n",
      "Pred: ['PRON', 'VERB', 'DET', 'NOUN', 'CONJ', 'ADJ', 'NOUN', 'NOUN', '.', 'DET', 'ADV', 'ADJ', 'NOUN', 'ADP', 'NOUN', '.', 'VERB', 'PRON', 'PRT', 'VERB', 'ADP', 'PRON', '.', 'ADV', '.']\n",
      "Gold: ['PRT', 'VERB', 'PRT', 'ADP', 'NOUN', 'DET', 'NOUN', 'ADV', 'CONJ', 'DET', 'ADJ', 'NOUN', 'ADP', 'DET', 'NOUN', 'VERB', 'DET', 'NOUN', 'DET', 'ADJ', '.']\n",
      "Pred: ['VERB', 'VERB', 'ADV', 'ADP', 'NOUN', 'DET', 'NOUN', 'ADV', 'CONJ', 'PRON', 'ADJ', 'NOUN', 'ADP', 'PRON', 'NOUN', 'VERB', 'PRON', 'NOUN', 'DET', 'ADV', '.']\n"
     ]
    },
    {
     "name": "stderr",
     "output_type": "stream",
     "text": [
      "LLM POS Tagging:  14%|█▍        | 7/50 [03:59<27:06, 37.82s/it]"
     ]
    },
    {
     "name": "stdout",
     "output_type": "stream",
     "text": [
      "Gold: ['CONJ', 'ADP', 'PRON', 'VERB', 'ADV', 'ADV', '.', 'VERB', 'ADP', 'DET', 'NOUN', '.', 'DET', 'NOUN', 'VERB', '.']\n",
      "Pred: ['CONJ', 'ADV', 'PRON', 'VERB', 'ADJ', 'ADV', '.', 'VERB', 'ADP', 'DET', 'NOUN', '.', 'DET', 'NOUN', 'VERB', '.']\n",
      "Gold: ['ADP', 'PRON', 'CONJ', 'NOUN', 'VERB', 'ADV', 'VERB', 'ADJ', '.', 'PRT', 'VERB', 'PRT', 'VERB', 'DET', 'ADJ', 'NOUN', '.']\n",
      "Pred: ['ADP', 'PRON', 'CONJ', 'NOUN', 'VERB', 'ADV', 'VERB', 'ADJ', '.', 'PRON', 'VERB', 'VERB', 'PRT', 'VERB', 'DET', 'ADJ', 'NOUN', '.']\n",
      "Gold: ['VERB', 'PRON', 'VERB', 'PRON', 'DET', 'NOUN', 'ADP', 'NOUN', '.', '.']\n",
      "Pred: ['VERB', 'PRON', 'VERB', 'PRON', 'DET', 'NOUN', 'ADP', 'NOUN', '.', '.']\n",
      "Gold: ['VERB', 'PRON', 'VERB', 'DET', 'NOUN', 'PRT', 'VERB', 'DET', 'NOUN', 'PRT', 'VERB', 'ADP', 'NOUN', 'PRT', 'DET', 'NOUN', '.', '.']\n",
      "Pred: ['VERB', 'PRON', 'VERB', 'DET', 'NOUN', 'PRT', 'VERB', 'DET', 'NOUN', 'PRON', 'VERB', 'VERB', 'ADP', 'NOUN', 'DET', 'DET', 'NOUN', '.', '.']\n",
      "Gold: ['DET', 'NOUN', 'VERB', 'ADV', 'VERB', 'ADP', 'DET', 'NOUN', 'ADP', 'DET', 'NOUN', 'ADV', 'PRON', 'VERB', 'ADP', 'NOUN', '.']\n",
      "Pred: ['DET', 'NOUN', 'VERB', 'ADV', 'VERB', 'ADP', 'DET', 'NOUN', 'ADP', 'PRON', 'NOUN', 'CONJ', 'PRON', 'VERB', 'ADP', 'NOUN', '.']\n",
      "Gold: ['NUM', 'NOUN', 'CONJ', 'NOUN', 'NOUN', '.', 'DET', 'ADJ', 'NOUN', '.']\n",
      "Pred: ['NUM', 'NOUN', 'CONJ', 'NOUN', 'NOUN', '.', 'DET', 'ADJ', 'NOUN', '.']\n",
      "Gold: ['PRT', 'NOUN', 'ADP', 'NOUN', 'ADV', 'CONJ', 'DET', 'NOUN', 'VERB', 'VERB', 'ADP', 'PRT', 'NOUN', '.', 'ADP', 'PRON', 'VERB', 'DET', 'NOUN', 'ADP', 'DET', 'NOUN', '.']\n",
      "Pred: ['PRON', 'VERB', 'NOUN', 'ADP', 'NOUN', 'ADV', 'CONJ', 'DET', 'NOUN', 'VERB', 'VERB', 'ADP', 'DET', 'NOUN', '.', 'ADP', 'PRON', 'VERB', 'DET', 'NOUN', 'ADP', 'DET', 'NOUN', '.']\n",
      "Gold: ['NOUN', 'VERB', 'PRT', 'ADP', 'NUM', '.', 'NOUN', 'VERB', 'PRON', '.', 'CONJ', 'PRT', 'VERB', 'PRON', 'ADV', '.']\n",
      "Pred: ['NOUN', 'VERB', 'ADV', 'ADP', 'NOUN', '.', 'NOUN', 'VERB', 'PRON', '.', 'CONJ', 'PRON', 'VERB', 'VERB', 'PRON', 'ADV', '.']\n",
      "Gold: ['PRT', 'VERB', 'NOUN', 'ADP', 'ADJ', 'NOUN', 'DET', 'NOUN', '.', 'DET', 'NOUN', 'ADJ', 'ADP', 'PRON', 'VERB', 'VERB', 'VERB', '.']\n",
      "Pred: ['ADV', 'VERB', 'PRON', 'ADP', 'ADJ', 'NOUN', 'DET', 'NOUN', '.', 'DET', 'NOUN', 'ADJ', 'ADP', 'PRON', 'VERB', 'VERB', 'VERB', '.']\n",
      "Gold: ['NOUN', 'VERB', 'PRT', 'VERB', 'PRON', 'ADV', 'PRON', 'VERB', 'ADP', 'ADP', 'DET', 'NOUN', 'ADP', 'NUM', '.', 'PRT', 'VERB', 'DET', 'NOUN', 'ADP', 'ADJ', 'NOUN', '.', 'CONJ', 'PRON', 'VERB', 'ADV', 'VERB', 'NOUN', 'ADP', 'ADV', '.']\n",
      "Pred: ['NOUN', 'VERB', 'ADP', 'VERB', 'PRON', 'CONJ', 'PRON', 'VERB', 'PRT', 'ADP', 'DET', 'NOUN', 'ADP', 'NOUN', '.', 'PRON', 'VERB', 'VERB', 'DET', 'NOUN', 'ADP', 'ADJ', 'NOUN', '.', 'CONJ', 'PRON', 'VERB', 'DET', 'VERB', 'NOUN', 'ADP', 'ADV', '.']\n"
     ]
    },
    {
     "name": "stderr",
     "output_type": "stream",
     "text": [
      "LLM POS Tagging:  16%|█▌        | 8/50 [04:36<26:11, 37.42s/it]"
     ]
    },
    {
     "name": "stdout",
     "output_type": "stream",
     "text": [
      "Gold: ['NUM', 'VERB', 'DET', 'NOUN', 'NOUN', 'CONJ', '.', 'ADP', 'PRON', 'VERB', '.', 'ADV', 'ADV', 'ADJ', 'ADV', 'ADV', '.']\n",
      "Pred: ['NUM', 'VERB', 'DET', 'NOUN', 'NOUN', 'CONJ', '.', 'ADV', 'PRON', 'VERB', '.', 'ADV', 'ADV', 'ADJ', 'ADV', 'ADV', '.']\n",
      "Gold: ['ADV', 'PRT', 'VERB', 'DET', 'ADJ', 'NOUN', '.', 'NOUN', 'VERB', 'PRON', 'ADP', 'DET', 'ADJ', 'NOUN', 'ADP', 'DET', 'NOUN', 'ADP', 'DET', 'NOUN', '.']\n",
      "Pred: ['ADV', 'VERB', 'VERB', 'DET', 'ADJ', 'NOUN', '.', 'NOUN', 'VERB', 'PRON', 'ADP', 'DET', 'ADJ', 'NOUN', 'ADP', 'DET', 'NOUN', 'ADP', 'DET', 'NOUN', '.']\n",
      "Gold: ['.', 'VERB', 'DET', 'ADJ', 'NOUN', 'ADP', 'ADJ', 'NOUN', '.', '.', 'PRON', 'VERB', '.']\n",
      "Pred: ['.', 'VERB', 'DET', 'ADJ', 'NOUN', 'PRT', 'ADJ', 'NOUN', '.', '.', 'PRON', 'VERB', '.']\n",
      "Gold: ['.', 'PRON', 'VERB', 'VERB', 'PRON', 'ADV', '.', 'CONJ', 'PRON', 'VERB', 'PRT', 'DET', 'NOUN', '.', '.', '.']\n",
      "Pred: ['.', 'PRON', 'VERB', 'VERB', 'PRON', 'ADV', '.', 'CONJ', 'PRON', 'VERB', 'VERB', 'DET', 'NOUN', '.', '.', '.']\n",
      "Gold: ['PRON', 'VERB', 'VERB', '.']\n",
      "Pred: ['PRON', 'VERB', 'ADJ', '.']\n",
      "Gold: ['DET', 'NOUN', 'VERB', 'DET', 'ADJ', 'NOUN', '.', 'NUM', 'NOUN', '.', 'VERB', 'VERB', 'ADP', 'NOUN', 'NOUN', '.']\n",
      "Pred: ['DET', 'NOUN', 'VERB', 'DET', 'ADJ', 'NOUN', '.', 'NUM', 'NOUN', '.', 'VERB', 'ADJ', 'ADP', 'ADJ', 'NOUN', '.']\n",
      "Gold: ['PRON', 'VERB', 'VERB', 'ADJ', 'ADP', 'NOUN', 'CONJ', 'PRON', 'VERB', 'ADV', 'ADJ', 'NOUN', '.']\n",
      "Pred: ['PRON', 'VERB', 'VERB', 'ADJ', 'ADP', 'NOUN', 'CONJ', 'PRON', 'VERB', 'ADV', 'ADJ', 'NOUN', '.']\n",
      "Gold: ['PRON', 'VERB', 'VERB', 'ADJ', 'PRT', 'VERB', 'PRON', 'VERB', 'ADP', 'DET', 'NOUN', 'ADP', 'DET', 'ADJ', 'NOUN', 'NOUN', '.']\n",
      "Pred: ['PRON', 'VERB', 'VERB', 'ADJ', 'PRT', 'VERB', 'PRON', 'ADJ', 'ADP', 'DET', 'NOUN', 'ADP', 'DET', 'ADJ', 'NOUN', 'NOUN', '.']\n",
      "Gold: ['DET', 'NOUN', 'PRON', 'VERB', 'PRT', '.', 'DET', 'ADJ', 'ADJ', 'NOUN', 'ADP', 'DET', 'NOUN', 'VERB', 'PRT', 'VERB', 'ADP', 'DET', 'NOUN', 'ADP', 'DET', 'NOUN', '.']\n",
      "Pred: ['DET', 'NOUN', 'PRON', 'VERB', 'PRT', '.', 'DET', 'ADJ', 'ADJ', 'NOUN', 'ADP', 'DET', 'NOUN', 'VERB', 'PRT', 'VERB', 'ADP', 'DET', 'NOUN', 'ADP', 'DET', 'NOUN', '.']\n",
      "Gold: ['PRT', 'VERB', 'PRON', 'PRT', 'DET', '.', 'ADP', 'NOUN', '.', 'CONJ', 'PRT', 'ADV', 'ADV', 'VERB', 'PRT', 'DET', 'NOUN', '.']\n",
      "Pred: ['VERB', 'VERB', 'PRON', 'PRT', 'ADV', '.', 'ADP', 'NOUN', '.', 'CONJ', 'VERB', 'ADV', 'ADV', 'VERB', 'PRT', 'DET', 'NOUN', '.']\n"
     ]
    },
    {
     "name": "stderr",
     "output_type": "stream",
     "text": [
      "LLM POS Tagging:  18%|█▊        | 9/50 [05:09<24:38, 36.06s/it]"
     ]
    },
    {
     "name": "stdout",
     "output_type": "stream",
     "text": [
      "Gold: ['CONJ', 'PRT', 'VERB', 'NOUN', 'ADP', 'PRON', '.', 'CONJ', 'PRON', 'VERB', 'DET', 'NOUN', 'VERB', 'DET', 'NOUN', '.']\n",
      "Pred: ['CONJ', 'PRON', 'VERB', 'NOUN', 'ADP', 'PRON', '.', 'CONJ', 'PRON', 'VERB', 'PRON', 'NOUN', 'VERB', 'DET', 'NOUN', '.']\n",
      "Gold: ['NOUN', 'CONJ', 'DET', 'NOUN', 'NOUN', 'VERB', 'NOUN', 'NOUN', '.', '.']\n",
      "Pred: ['NOUN', 'CONJ', 'DET', 'NOUN', 'NOUN', 'VERB', 'NOUN', 'NOUN', '.', '.']\n",
      "Gold: ['PRON', 'VERB', 'ADP', 'DET', 'NOUN', 'ADP', 'NOUN', '.']\n",
      "Pred: ['PRON', 'VERB', 'ADP', 'DET', 'NOUN', 'ADP', 'NOUN', '.']\n",
      "Gold: ['ADV', '.', 'NOUN', 'NOUN', '.', 'NOUN', '.', 'ADJ', 'NOUN', '.']\n",
      "Pred: ['ADV', '.', 'NOUN', 'NOUN', '.', 'NOUN', '.', 'ADJ', 'NOUN', '.']\n",
      "Gold: ['PRON', 'VERB', 'ADV', 'NUM', '.', 'ADP', 'PRON', 'VERB', 'ADP', 'DET', 'NOUN', 'VERB', 'DET', 'NOUN', 'ADP', 'NUM', '.']\n",
      "Pred: ['PRON', 'VERB', 'ADP', 'NUM', '.', 'CONJ', 'PRON', 'VERB', 'CONJ', 'DET', 'NOUN', 'VERB', 'PRON', 'NOUN', 'ADP', 'NUM', '.']\n",
      "Gold: ['DET', 'ADJ', 'NOUN', 'VERB', 'DET', 'ADV', 'ADJ', 'ADJ', 'NOUN', '.', 'ADV', 'VERB', 'ADP', 'DET', 'ADJ', 'NOUN', 'ADP', 'VERB', 'ADJ', 'NOUN', 'PRON', 'ADJ', 'NOUN', 'VERB', '.']\n",
      "Pred: ['DET', 'ADJ', 'NOUN', 'VERB', 'DET', 'ADV', 'ADJ', 'ADJ', 'NOUN', '.', 'ADV', 'VERB', 'ADP', 'DET', 'ADJ', 'NOUN', 'ADP', 'ADJ', 'ADJ', 'NOUN', 'CONJ', 'ADJ', 'NOUN', 'VERB', '.']\n",
      "Gold: ['DET', 'ADJ', 'NOUN', 'VERB', 'ADJ', '.', 'VERB', 'ADJ', 'CONJ', 'DET', 'ADJ', '.', 'ADJ', 'ADJ', '.']\n",
      "Pred: ['PRON', 'ADJ', 'NOUN', 'VERB', 'ADJ', '.', 'ADJ', 'ADJ', 'CONJ', 'PRON', 'ADJ', '.', 'ADJ', 'ADJ', '.']\n",
      "Gold: ['PRT', '.', 'VERB', 'PRON', 'VERB', '.', '.']\n",
      "Pred: ['ADV', '.', 'VERB', 'PRON', 'VERB', '.', '.']\n",
      "Gold: ['ADV', '.', 'ADV', 'PRON', 'VERB', 'DET', 'ADJ', 'NOUN', '.', 'DET', 'VERB', 'PRT', 'PRON', 'VERB', '.', 'CONJ', 'PRON', 'VERB', 'ADP', 'NOUN', '.', 'VERB', 'PRON', 'PRT', 'VERB', 'DET', 'NOUN', 'ADP', 'ADP', 'DET', 'NOUN', '.']\n",
      "Pred: ['ADV', '.', 'ADV', 'PRON', 'VERB', 'DET', 'ADJ', 'NOUN', '.', 'CONJ', 'VERB', 'DET', 'PRON', 'VERB', '.', 'CONJ', 'PRON', 'VERB', 'ADP', 'NOUN', '.', 'VERB', 'PRON', 'PRT', 'VERB', 'PRON', 'NOUN', 'PRT', 'ADP', 'PRON', 'NOUN', '.']\n",
      "Gold: ['ADP', 'DET', 'ADJ', 'NOUN', '.', 'NOUN', 'VERB', 'PRON', 'PRT']\n",
      "Pred: ['ADP', 'DET', 'ADJ', 'NOUN', '.', 'NOUN', 'VERB', 'PRON', 'PRT']\n"
     ]
    },
    {
     "name": "stderr",
     "output_type": "stream",
     "text": [
      "LLM POS Tagging:  20%|██        | 10/50 [05:53<25:44, 38.62s/it]"
     ]
    },
    {
     "name": "stdout",
     "output_type": "stream",
     "text": [
      "Gold: ['PRT', 'VERB', 'VERB', 'PRT', 'NOUN', '.', 'VERB', 'PRT', 'ADP', 'DET', 'NOUN', '.']\n",
      "Pred: ['PRON', 'VERB', 'VERB', 'PRT', 'ADV', '.', 'VERB', 'PRT', 'ADP', 'DET', 'NOUN', '.']\n",
      "Gold: ['ADP', 'ADJ', 'ADV', 'PRON', 'VERB', 'PRON', 'PRT', '.', 'PRT', 'ADV', 'VERB', 'ADJ', 'CONJ', 'VERB', 'PRT', 'VERB', 'VERB', 'PRT', '.']\n",
      "Pred: ['CONJ', 'ADJ', 'CONJ', 'PRON', 'VERB', 'PRON', 'PRT', '.', 'PRON', 'ADV', 'VERB', 'ADJ', 'CONJ', 'VERB', 'PRT', 'VERB', 'VERB', 'PRT', '.']\n",
      "Gold: ['PRON', 'VERB', 'DET', 'ADJ', 'NOUN', '.']\n",
      "Pred: ['PRON', 'VERB', 'DET', 'ADJ', 'NOUN', '.']\n",
      "Gold: ['PRT', 'VERB', 'PRON', 'DET', 'NOUN', 'CONJ', 'NUM', '.', 'CONJ', 'DET', 'NOUN', 'NOUN', 'VERB', 'VERB', 'ADP', 'PRON', '.']\n",
      "Pred: ['PRON', 'VERB', 'PRON', 'DET', 'NOUN', 'CONJ', 'NUM', '.', 'CONJ', 'DET', 'X', 'NOUN', 'VERB', 'VERB', 'ADP', 'PRON', '.']\n",
      "Gold: ['CONJ', 'ADP', 'PRON', 'VERB', 'VERB', '.', 'PRT', 'ADV', 'VERB', 'ADV', 'ADP', 'DET', 'ADJ', 'NOUN', 'PRT', 'VERB', '.']\n",
      "Pred: ['CONJ', 'CONJ', 'PRON', 'VERB', 'ADJ', '.', 'PRON', 'ADV', 'VERB', 'ADV', 'ADP', 'DET', 'ADJ', 'NOUN', 'PRON', 'VERB', '.']\n",
      "Gold: ['VERB', 'ADP', 'DET', 'NOUN', 'ADV', '.', 'PRON', '.', 'PRON', 'VERB', 'VERB', 'DET', 'VERB', 'ADP', 'PRON', 'ADV', '.', 'ADP', 'PRT', 'VERB', 'ADP', 'PRON', 'VERB', 'ADJ', '.']\n",
      "Pred: ['VERB', 'ADP', 'DET', 'NOUN', 'ADV', '.', 'PRON', '.', 'PRON', 'VERB', 'VERB', 'PRON', 'VERB', 'ADP', 'PRON', 'ADV', '.', 'CONJ', 'PRT', 'VERB', 'CONJ', 'PRON', 'VERB', 'ADJ', '.']\n",
      "Gold: ['PRON', 'VERB', 'PRON', '.', 'PRON', 'VERB', 'DET', 'NOUN', 'ADP', 'NOUN', 'PRON', 'VERB', 'PRT', 'VERB', 'ADJ', 'PRT', 'VERB', '.']\n",
      "Pred: ['PRON', 'VERB', 'PRON', '.', 'PRON', 'VERB', 'DET', 'NOUN', 'ADP', 'NOUN', 'PRON', 'VERB', 'PRT', 'VERB', 'ADJ', 'PRT', 'VERB', '.']\n",
      "Gold: ['.', 'ADV', '.', 'NOUN', '.', 'CONJ', 'VERB', 'PRON', 'NOUN', 'NOUN', '.', '.', '.']\n",
      "Pred: ['.', 'ADV', '.', 'NOUN', '.', 'CONJ', 'VERB', 'PRON', 'NOUN', 'NOUN', '.', '.', '.']\n",
      "Gold: ['PRON', 'ADV', 'VERB', 'VERB', 'ADV', 'ADP', 'DET', 'NOUN', 'ADP', 'NOUN', '.', 'PRON', 'VERB', 'PRON', '.', 'PRT', 'ADV', 'VERB', '.', 'PRT', 'VERB', 'ADV', '.']\n",
      "Pred: ['PRON', 'ADV', 'VERB', 'VERB', 'ADV', 'ADP', 'DET', 'NOUN', 'ADP', 'NOUN', '.', 'PRON', 'VERB', 'PRON', '.', 'VERB', 'ADV', 'VERB', '.', 'PRT', 'VERB', 'ADV', '.']\n",
      "Gold: ['DET', 'VERB', 'NUM', 'NOUN', 'PRT', 'VERB', 'ADV', 'VERB', 'DET', 'ADJ', 'NOUN', '.', 'CONJ', 'NOUN', 'VERB', 'ADV', 'ADJ', '.']\n",
      "Pred: ['DET', 'VERB', 'NUM', 'NOUN', 'PRON', 'VERB', 'ADV', 'VERB', 'PRON', 'ADJ', 'NOUN', '.', 'CONJ', 'NOUN', 'VERB', 'ADV', 'ADJ', '.']\n"
     ]
    },
    {
     "name": "stderr",
     "output_type": "stream",
     "text": [
      "LLM POS Tagging:  22%|██▏       | 11/50 [06:17<22:02, 33.91s/it]"
     ]
    },
    {
     "name": "stdout",
     "output_type": "stream",
     "text": [
      "Gold: ['.', 'PRT', '.', '.', '.']\n",
      "Pred: ['.', 'X', '.', '.', '.']\n",
      "Gold: ['DET', 'NOUN', 'VERB', 'ADJ', 'CONJ', 'ADJ', '.']\n",
      "Pred: ['PRON', 'NOUN', 'VERB', 'ADJ', 'CONJ', 'ADJ', '.']\n",
      "Gold: ['CONJ', 'DET', 'ADJ', 'NOUN', '.', 'PRON', 'VERB', 'PRT', 'VERB', 'DET', 'NOUN', 'ADV', '.']\n",
      "Pred: ['CONJ', 'DET', 'ADJ', 'NOUN', '.', 'PRON', 'VERB', 'PRT', 'VERB', 'PRON', 'NOUN', 'ADV', '.']\n",
      "Gold: ['PRON', 'VERB', 'ADV', 'ADP', 'PRON', 'VERB', 'DET', 'DET', 'ADJ', 'NOUN', 'VERB', '.']\n",
      "Pred: ['PRON', 'VERB', 'ADV', 'CONJ', 'PRON', 'VERB', 'PRON', 'DET', 'ADJ', 'NOUN', 'VERB', '.']\n",
      "Gold: ['PRT', 'VERB', 'NOUN', 'ADP', 'DET', 'NOUN', '.']\n",
      "Pred: ['ADV', 'VERB', 'NOUN', 'ADP', 'DET', 'NOUN', '.']\n",
      "Gold: ['.', 'PRT', 'DET', '.', '.', '.']\n",
      "Pred: ['.', 'PRON', 'VERB', 'DET', '.', '.', '.']\n",
      "Gold: ['PRON', 'VERB', '.']\n",
      "Pred: ['PRON', 'VERB', '.']\n",
      "Gold: ['.', 'DET', 'NOUN', '.', '.', '.']\n",
      "Pred: ['.', 'PRON', 'NOUN', '.', '.', '.']\n",
      "Gold: ['PRON', 'VERB', 'DET', 'NOUN', '.']\n",
      "Pred: ['PRON', 'VERB', 'PRON', 'NOUN', '.']\n",
      "Gold: ['.', 'PRON', 'VERB', 'VERB', 'DET', 'ADJ', 'ADV', 'CONJ', 'ADV', '.', '.', 'PRON', 'VERB', 'ADV', '.', 'DET', 'NOUN', 'ADP', 'DET', 'NOUN', '.']\n",
      "Pred: ['.', 'PRON', 'VERB', 'VERB', 'DET', 'ADJ', 'ADV', 'CONJ', 'ADV', '.', '.', 'PRON', 'VERB', 'ADV', '.', 'DET', 'NOUN', 'ADP', 'PRON', 'NOUN', '.']\n"
     ]
    },
    {
     "name": "stderr",
     "output_type": "stream",
     "text": [
      "LLM POS Tagging:  24%|██▍       | 12/50 [06:55<22:21, 35.31s/it]"
     ]
    },
    {
     "name": "stdout",
     "output_type": "stream",
     "text": [
      "Gold: ['.', 'VERB', 'PRON', 'VERB', 'ADP', 'DET', 'NOUN', 'ADP', 'PRON', '.', '.', '.']\n",
      "Pred: ['.', 'VERB', 'PRON', 'VERB', 'ADP', 'DET', 'NOUN', 'ADP', 'PRON', '.', '.', '.']\n",
      "Gold: ['ADV', 'ADV', '.', 'PRT', 'VERB', 'DET', 'ADJ', 'NOUN', '.']\n",
      "Pred: ['ADV', 'ADV', '.', 'PRON', 'VERB', 'DET', 'ADJ', 'NOUN', '.']\n",
      "Gold: ['PRON', 'VERB', 'NOUN', 'NOUN', 'PRT', 'VERB', 'PRON', 'ADP', 'DET', 'NOUN', 'ADV', 'PRON', 'VERB', 'DET', 'VERB', 'NOUN', '.']\n",
      "Pred: ['PRON', 'VERB', 'NOUN', 'NOUN', 'PRT', 'VERB', 'PRON', 'ADP', 'DET', 'NOUN', 'ADV', 'PRON', 'VERB', 'DET', 'ADJ', 'NOUN', '.']\n",
      "Gold: ['.', 'ADV', 'VERB', 'DET', 'NOUN', '.', '.', 'PRON', 'VERB', 'NOUN', '.']\n",
      "Pred: ['.', 'ADV', 'VERB', 'DET', 'NOUN', '.', '.', 'PRON', 'VERB', 'NOUN', '.']\n",
      "Gold: ['PRON', 'VERB', 'ADV', 'DET', 'ADJ', 'NOUN', 'ADP', 'NOUN', 'NOUN', 'VERB', 'PRON', 'ADP', 'DET', 'ADJ', 'NOUN', 'ADP', 'DET', 'NOUN', '.', 'CONJ', 'PRON', 'VERB', 'VERB', 'NOUN', 'ADJ', 'ADP', 'ADJ', 'NOUN', '.']\n",
      "Pred: ['PRON', 'VERB', 'ADV', 'DET', 'ADJ', 'NOUN', 'ADP', 'NOUN', 'NOUN', 'VERB', 'PRON', 'ADP', 'DET', 'ADJ', 'NOUN', 'ADP', 'DET', 'NOUN', '.', 'CONJ', 'PRON', 'VERB', 'PRT', 'VERB', 'PRON', 'ADJ', 'ADP', 'ADJ', 'NOUN', '.']\n",
      "Gold: ['NOUN', 'VERB', 'ADV', 'ADP', 'DET', 'NOUN', 'CONJ', 'VERB', 'DET', 'NOUN', '.', 'VERB', 'PRON', 'PRT', 'ADP', 'DET', 'NOUN', 'ADP', 'DET', 'NOUN', 'ADP', 'DET', 'NOUN', '.']\n",
      "Pred: ['NOUN', 'VERB', 'PRT', 'ADP', 'DET', 'NOUN', 'CONJ', 'VERB', 'DET', 'NOUN', '.', 'VERB', 'PRON', 'ADP', 'ADP', 'DET', 'NOUN', 'ADP', 'DET', 'NOUN', 'ADP', 'DET', 'NOUN', '.']\n",
      "Gold: ['DET', 'VERB', '.', 'PRON', 'VERB', 'NOUN', 'NOUN', 'PRT', 'VERB', 'DET', 'NOUN', 'ADV', 'ADP', 'NOUN', 'CONJ', 'ADV', 'VERB', 'PRON', 'ADP', 'ADP', 'DET', 'NOUN', '.']\n",
      "Pred: ['PRON', 'VERB', '.', 'PRON', 'VERB', 'NOUN', 'NOUN', 'PRT', 'VERB', 'PRON', 'NOUN', 'ADV', 'ADP', 'NOUN', 'CONJ', 'ADV', 'VERB', 'PRON', 'ADP', 'ADP', 'DET', 'NOUN', '.']\n",
      "Gold: ['PRON', 'VERB', 'ADJ', 'DET', 'NOUN', 'ADP', 'DET', 'NOUN', '.']\n",
      "Pred: ['PRON', 'VERB', 'ADJ', 'DET', 'NOUN', 'ADP', 'DET', 'NOUN', '.']\n",
      "Gold: ['ADJ', 'ADP', 'DET', 'NOUN', '.', 'PRON', 'VERB', 'PRT', 'ADP', 'NUM', 'ADV', '.']\n",
      "Pred: ['ADV', 'ADP', 'DET', 'NOUN', '.', 'PRON', 'VERB', 'ADP', 'ADP', 'NOUN', 'ADV', '.']\n",
      "Gold: ['NOUN', 'ADP', 'DET', 'ADJ', 'NOUN', 'VERB', 'VERB', 'VERB', 'CONJ', 'PRON', 'VERB', 'PRT', 'PRT', 'VERB', 'PRON', 'VERB', '.']\n",
      "Pred: ['NUM', 'ADP', 'DET', 'ADJ', 'NOUN', 'VERB', 'VERB', 'VERB', 'CONJ', 'PRON', 'VERB', 'ADP', 'PRT', 'VERB', 'PRON', 'VERB', '.']\n"
     ]
    },
    {
     "name": "stderr",
     "output_type": "stream",
     "text": [
      "LLM POS Tagging:  26%|██▌       | 13/50 [07:28<21:21, 34.63s/it]"
     ]
    },
    {
     "name": "stdout",
     "output_type": "stream",
     "text": [
      "Gold: ['ADP', 'DET', 'NOUN', 'ADP', 'DET', 'NOUN', '.', 'PRON', 'VERB', 'ADP', 'NOUN', '.']\n",
      "Pred: ['ADP', 'PRON', 'NOUN', 'ADP', 'DET', 'NOUN', '.', 'PRON', 'VERB', 'ADP', 'NOUN', '.']\n",
      "Gold: ['.', 'PRT', 'VERB', 'DET', 'NOUN', 'ADP', 'DET', 'NOUN', 'NOUN', 'NOUN', '.', '.', 'PRON', 'VERB', '.']\n",
      "Pred: ['.', 'PRON', 'PRT', 'VERB', 'DET', 'NOUN', 'ADP', 'DET', 'NOUN', 'NOUN', 'NOUN', '.', '.', 'PRON', 'VERB', '.']\n",
      "Gold: ['.', 'PRT', 'NOUN', 'ADV', '.', 'ADV', 'ADV', '.']\n",
      "Pred: ['.', 'PRON', 'PRT', 'NOUN', 'ADV', '.', 'ADV', 'ADV', '.']\n",
      "Gold: ['NOUN', 'NUM', '.', 'PRON', 'VERB', '.']\n",
      "Pred: ['NOUN', 'NUM', '.', 'PRON', 'VERB', '.']\n",
      "Gold: ['VERB', 'PRON', 'VERB', 'PRT', 'VERB', 'ADP', 'PRON', '.', 'NOUN', '.', '.', '.']\n",
      "Pred: ['VERB', 'PRON', 'VERB', 'PRT', 'VERB', 'ADP', 'PRON', '.', 'NOUN', '.', '.', '.']\n",
      "Gold: ['.', 'PRT', '.', '.', 'PRON', 'VERB', '.', 'PRON', 'VERB', 'ADV', 'VERB', 'PRT', 'VERB', 'DET', 'NOUN', 'ADV', '.']\n",
      "Pred: ['.', 'ADV', '.', '.', 'PRON', 'VERB', 'PRT', '.', 'PRON', 'VERB', 'PRT', 'ADV', 'VERB', 'PRT', 'VERB', 'DET', 'NOUN', 'ADV', '.']\n",
      "Gold: ['CONJ', 'DET', 'VERB', 'ADJ', '.', 'ADP', 'NOUN', '.']\n",
      "Pred: ['CONJ', 'PRON', 'VERB', 'ADJ', '.', 'ADP', 'NOUN', '.']\n",
      "Gold: ['.', 'ADV', 'ADV', '.']\n",
      "Pred: ['.', 'ADV', 'ADV', '.']\n",
      "Gold: ['PRT', 'VERB', 'DET', 'NOUN', 'CONJ', 'NOUN', 'CONJ', 'VERB', 'DET', 'NOUN', 'ADP', 'DET', 'NOUN', '.']\n",
      "Pred: ['PRON', 'PRT', 'VERB', 'DET', 'NOUN', '.', 'CONJ', 'NOUN', '.', 'CONJ', 'VERB', 'PRON', 'NOUN', 'ADP', 'DET', 'NOUN', '.']\n",
      "Gold: ['ADV', 'PRT', 'NOUN', '.', 'ADV', 'PRT', 'ADJ', 'CONJ', 'X', 'X', '.', 'VERB', 'VERB', 'DET', 'NOUN', '.', '.']\n",
      "Pred: ['ADV', 'PRON', 'PRT', 'NOUN', '.', 'ADV', 'PRON', 'PRT', 'ADJ', 'CONJ', 'ADP', 'NOUN', '.', 'VERB', 'PRT', 'VERB', 'DET', 'NOUN', '.', '.']\n"
     ]
    },
    {
     "name": "stderr",
     "output_type": "stream",
     "text": [
      "LLM POS Tagging:  28%|██▊       | 14/50 [08:10<22:04, 36.79s/it]"
     ]
    },
    {
     "name": "stdout",
     "output_type": "stream",
     "text": [
      "Gold: ['.', 'ADP', 'PRON', 'VERB', 'VERB', 'PRON', 'ADV', 'DET', 'ADJ', '.', '.', 'NOUN', 'VERB', 'ADV', '.']\n",
      "Pred: ['.', 'CONJ', 'PRON', 'VERB', 'VERB', 'PRON', 'ADV', 'DET', 'ADJ', '.', '.', 'NOUN', 'VERB', 'ADV', '.']\n",
      "Gold: ['.', 'NOUN', 'VERB', 'PRON', 'PRT', 'VERB', 'VERB', 'ADV', '.', 'VERB', 'PRT', 'VERB', 'PRT', '.']\n",
      "Pred: ['.', 'NOUN', 'VERB', 'PRON', 'PRON', 'VERB', 'VERB', 'VERB', 'ADV', '.', 'VERB', 'PRT', 'VERB', 'PRT', '.']\n",
      "Gold: ['NOUN', 'PRT', 'VERB', 'ADP', 'DET', 'NOUN', '.', 'PRON', 'VERB', '.', '.']\n",
      "Pred: ['VERB', 'PRT', 'VERB', 'ADP', 'PRON', 'NOUN', '.', 'PRON', 'VERB', '.', '.']\n",
      "Gold: ['PRON', 'VERB', 'ADP', 'NOUN', '.']\n",
      "Pred: ['PRON', 'VERB', 'ADP', 'NOUN', '.']\n",
      "Gold: ['.', 'PRT', '.', 'ADV', 'VERB', 'DET', 'PRON', 'VERB', 'VERB', '.', '.']\n",
      "Pred: ['.', 'ADV', '.', 'ADV', 'VERB', 'PRON', 'PRON', 'VERB', 'VERB', '.', '.']\n",
      "Gold: ['PRT', 'VERB', 'VERB', 'ADV', 'ADP', 'NOUN', 'NOUN', 'NOUN', 'CONJ', 'ADP', 'PRON', 'VERB', 'PRT', 'VERB', 'DET', 'NOUN', 'PRT', 'VERB', '.', 'PRON', 'VERB', 'VERB', 'PRT', 'VERB', 'ADP', 'DET', 'NOUN', 'VERB', 'ADV', 'ADV', '.']\n",
      "Pred: ['PRON', 'VERB', 'VERB', 'VERB', 'ADV', 'ADP', 'NOUN', 'NOUN', 'PRT', 'NOUN', 'CONJ', 'ADP', 'PRON', 'VERB', 'PRT', 'VERB', 'DET', 'NOUN', 'PRT', 'VERB', '.', 'PRON', 'VERB', 'ADJ', 'PRT', 'VERB', 'CONJ', 'DET', 'NOUN', 'VERB', 'ADV', 'ADJ', '.']\n",
      "Gold: ['CONJ', 'PRON', 'VERB', 'PRT', 'VERB', 'VERB', 'CONJ', 'ADP', 'DET', 'NOUN', '.', 'PRT', 'VERB', 'VERB', 'ADP', 'ADJ', 'NOUN', '.']\n",
      "Pred: ['CONJ', 'PRON', 'VERB', 'PRT', 'VERB', 'VERB', 'CONJ', 'ADP', 'DET', 'NOUN', '.', 'PRON', 'VERB', 'VERB', 'VERB', 'ADP', 'ADJ', 'NOUN', '.']\n",
      "Gold: ['DET', 'NOUN', 'VERB', 'ADV', 'ADV', 'ADP', 'PRON', 'VERB', 'PRON', '.', 'ADP', '.', 'CONJ', 'ADV', 'ADV', '.', 'PRON', 'VERB', 'DET', 'ADJ', 'NOUN', '.']\n",
      "Pred: ['PRON', 'NOUN', 'VERB', 'CONJ', 'ADV', 'CONJ', 'PRON', 'VERB', 'PRON', '.', 'ADV', '.', 'CONJ', 'ADV', 'ADV', '.', 'PRON', 'VERB', 'DET', 'ADJ', 'NOUN', '.']\n",
      "Gold: ['.', 'PRON', 'ADV', 'VERB', 'VERB', 'ADP', 'DET', 'NOUN', 'ADP', 'DET', 'NOUN', '.', '.', 'PRON', 'VERB', '.']\n",
      "Pred: ['.', 'PRON', 'ADV', 'VERB', 'PRT', 'VERB', 'ADP', 'DET', 'NOUN', 'ADP', 'DET', 'NOUN', '.', '.', 'PRON', 'VERB', '.']\n",
      "Gold: ['.', 'PRON', 'ADV', 'VERB', 'ADP', 'VERB', 'NUM', 'ADP', 'PRON', 'NOUN', '.']\n",
      "Pred: ['.', 'PRON', 'ADV', 'VERB', 'PRT', 'VERB', 'NUM', 'ADP', 'PRON', 'NOUN', '.']\n"
     ]
    },
    {
     "name": "stderr",
     "output_type": "stream",
     "text": [
      "LLM POS Tagging:  30%|███       | 15/50 [08:33<19:07, 32.80s/it]"
     ]
    },
    {
     "name": "stdout",
     "output_type": "stream",
     "text": [
      "Gold: ['DET', 'VERB', 'PRON', 'VERB', '.', '.', '.']\n",
      "Pred: ['PRON', 'VERB', 'PRON', 'VERB', '.', '.', '.']\n",
      "Gold: ['PRT', 'VERB', 'NOUN', 'ADV', 'ADJ', 'ADP', 'DET', 'NOUN', '.', 'CONJ', 'PRON', 'VERB', 'PRON', '.']\n",
      "Pred: ['PRON', 'VERB', 'NOUN', 'ADV', 'ADJ', 'ADP', 'PRON', 'NOUN', '.', 'CONJ', 'PRON', 'VERB', 'PRON', '.']\n",
      "Gold: ['.', 'PRT', 'ADV', 'VERB', 'VERB', 'ADP', 'NOUN', 'NOUN', '.', '.', 'PRON', 'VERB', '.']\n",
      "Pred: ['.', 'PRON', 'VERB', 'ADV', 'VERB', 'VERB', 'ADP', 'NOUN', 'NOUN', '.', '.', 'PRON', 'VERB', '.']\n",
      "Gold: ['.', 'PRT', 'VERB', 'PRON', 'PRT', 'VERB', 'DET', 'NOUN', 'CONJ', 'NOUN', '.']\n",
      "Pred: ['.', 'PRON', 'VERB', 'VERB', 'PRON', 'PRT', 'VERB', 'DET', 'NOUN', 'CONJ', 'NOUN', '.']\n",
      "Gold: ['PRT', 'ADV', 'ADJ', '.', 'NOUN', 'PRT', 'VERB', 'ADV', '.']\n",
      "Pred: ['PRON', 'VERB', 'ADV', 'ADJ', '.', 'NOUN', 'PRT', 'VERB', 'ADP', '.']\n",
      "Gold: ['CONJ', 'PRON', 'VERB', 'VERB', 'DET', 'NOUN', 'PRT', 'VERB', '.', 'DET', 'VERB', '.', 'PRT', 'VERB', 'ADV', 'ADP', 'PRON', 'VERB', 'ADJ', '.', '.']\n",
      "Pred: ['CONJ', 'PRON', 'VERB', 'VERB', 'DET', 'NOUN', 'PRT', 'VERB', '.', 'PRON', 'VERB', '.', 'PRT', 'VERB', 'ADV', 'CONJ', 'PRON', 'VERB', 'ADJ', '.', '.']\n",
      "Gold: ['.', 'ADV', '.', '.']\n",
      "Pred: ['.', 'ADV', '.', '.']\n",
      "Gold: ['PRON', 'VERB', 'ADJ', '.', 'ADJ', '.']\n",
      "Pred: ['PRON', 'VERB', 'ADJ', '.', 'ADJ', '.']\n",
      "Gold: ['.', 'VERB', 'PRON', 'VERB', 'PRON', 'VERB', '.']\n",
      "Pred: ['.', 'VERB', 'PRON', 'VERB', 'PRON', 'VERB', '.']\n",
      "Gold: ['ADV', '.', 'PRON', 'ADV', 'VERB', 'ADP', 'PRT', 'VERB', 'PRT', 'VERB', 'DET', '.']\n",
      "Pred: ['ADV', '.', 'PRON', 'ADV', 'VERB', 'CONJ', 'PRON', 'VERB', 'VERB', 'PRT', 'VERB', 'DET', '.']\n"
     ]
    },
    {
     "name": "stderr",
     "output_type": "stream",
     "text": [
      "LLM POS Tagging:  32%|███▏      | 16/50 [09:05<18:23, 32.45s/it]"
     ]
    },
    {
     "name": "stdout",
     "output_type": "stream",
     "text": [
      "Gold: ['ADV', 'ADP', 'PRON', 'VERB', '.', 'PRT', 'VERB', 'ADP', 'ADP', 'ADV', 'ADP', 'DET', 'NOUN', '.', 'ADV', '.', '.']\n",
      "Pred: ['ADV', 'CONJ', 'PRON', 'VERB', '.', 'PRON', 'PRT', 'VERB', 'ADV', 'ADP', 'ADV', 'ADP', 'DET', 'NOUN', '.', 'ADV', '.', '.']\n",
      "Gold: ['PRON', 'VERB', 'ADJ', 'DET', 'VERB', 'DET', 'NOUN', '.', 'PRON', 'ADV', 'VERB', 'VERB', 'PRT', 'VERB', 'ADV', '.', 'ADV', 'PRON', 'VERB', 'VERB', 'ADP', 'DET', 'NOUN', '.']\n",
      "Pred: ['PRON', 'VERB', 'ADJ', 'DET', 'VERB', 'DET', 'NOUN', '.', 'PRON', 'ADV', 'VERB', 'PRT', 'VERB', 'PRT', 'VERB', 'ADV', '.', 'ADV', 'PRON', 'VERB', 'PRT', 'VERB', 'ADP', 'DET', 'NOUN', '.']\n",
      "Gold: ['.', 'ADV', '.', '.']\n",
      "Pred: ['.', 'ADV', '.', '.']\n",
      "Gold: ['PRON', 'VERB', 'ADP', 'PRON', 'ADP', 'NOUN', '.']\n",
      "Pred: ['PRON', 'VERB', 'ADP', 'PRON', 'ADP', 'NOUN', '.']\n",
      "Gold: ['PRT', 'VERB', 'NOUN', 'PRT', 'VERB', 'NOUN', 'ADV', '.', 'ADP', 'NOUN', '.', 'CONJ', 'ADV', 'NOUN', 'PRON', 'VERB', 'VERB', '.', 'ADP', 'NUM', 'NOUN', 'CONJ', 'DET', '.', 'DET', 'NOUN', 'ADV', '.']\n",
      "Pred: ['PRON', 'PRT', 'VERB', 'NOUN', 'PRON', 'PRT', 'VERB', 'NOUN', 'ADV', '.', 'ADP', 'NOUN', '.', 'CONJ', 'ADV', 'NUM', 'PRON', 'VERB', 'PRT', 'VERB', '.', 'ADP', 'NUM', 'NOUN', 'CONJ', 'DET', '.', 'DET', 'NOUN', 'ADV', '.']\n",
      "Gold: ['ADV', '.', 'PRON', 'VERB', 'NOUN', '.', 'CONJ', 'DET', 'NOUN', 'NOUN', 'VERB', 'VERB', 'CONJ', 'DET', 'NOUN', 'VERB', 'ADV', 'ADP', 'DET', 'NOUN', '.']\n",
      "Pred: ['ADV', '.', 'PRON', 'VERB', 'NOUN', '.', 'CONJ', 'DET', 'NOUN', 'PRT', 'NOUN', 'VERB', 'PRT', 'VERB', 'CONJ', 'PRON', 'NOUN', 'VERB', 'ADV', 'ADP', 'DET', 'NOUN', '.']\n",
      "Gold: ['.', 'VERB', 'PRON', 'VERB', 'PRON', 'ADV', '.', '.', '.']\n",
      "Pred: ['.', 'VERB', 'PRON', 'VERB', 'PRON', 'ADV', '.', '.', '.']\n",
      "Gold: ['PRON', 'VERB', '.']\n",
      "Pred: ['PRON', 'VERB', '.']\n",
      "Gold: ['PRON', 'VERB', '.', 'DET', 'NOUN', 'ADP', 'NOUN', '.']\n",
      "Pred: ['PRON', 'VERB', '.', 'DET', 'NOUN', 'ADP', 'NOUN', '.']\n",
      "Gold: ['.', 'PRON', 'VERB', 'VERB', 'DET', 'ADJ', 'NOUN', 'ADP', 'ADP', 'DET', 'NOUN', 'NOUN', '.', '.', 'PRON', 'VERB', '.']\n",
      "Pred: ['.', 'PRON', 'VERB', 'PRT', 'VERB', 'PRON', 'ADJ', 'NOUN', 'ADP', 'ADP', 'DET', 'NOUN', 'PRT', 'NOUN', '.', '.', 'PRON', 'VERB', '.']\n"
     ]
    },
    {
     "name": "stderr",
     "output_type": "stream",
     "text": [
      "LLM POS Tagging:  34%|███▍      | 17/50 [09:30<16:32, 30.08s/it]"
     ]
    },
    {
     "name": "stdout",
     "output_type": "stream",
     "text": [
      "Gold: ['.', 'PRT', 'VERB', 'NOUN', '.', 'VERB', 'PRON', '.', '.', '.']\n",
      "Pred: ['.', 'PRON', 'VERB', 'NOUN', '.', 'VERB', 'PRON', '.', '.', '.']\n",
      "Gold: ['PRON', 'VERB', 'PRT', '.', 'VERB', 'DET', 'NOUN', '.']\n",
      "Pred: ['PRON', 'VERB', 'PRT', '.', 'VERB', 'DET', 'NOUN', '.']\n",
      "Gold: ['.', 'PRT', 'ADV', 'VERB', 'PRT', 'VERB', 'NOUN', 'ADP', 'DET', 'NOUN', 'NOUN', '.']\n",
      "Pred: ['.', 'PRON', 'ADV', 'VERB', 'PRT', 'VERB', 'NUM', 'ADP', 'DET', 'NOUN', 'NOUN', '.']\n",
      "Gold: ['VERB', 'DET', 'NOUN', 'VERB', 'ADP', 'NOUN', 'ADV', '.', 'NOUN', '.']\n",
      "Pred: ['VERB', 'DET', 'NOUN', 'VERB', 'ADP', 'PRON', 'ADV', '.', 'NOUN', '.']\n",
      "Gold: ['ADV', 'VERB', 'PRON', 'VERB', 'ADP', 'NOUN', '.', '.']\n",
      "Pred: ['ADV', 'VERB', 'PRON', 'VERB', 'ADP', 'NOUN', '.', '.']\n",
      "Gold: ['PRON', 'VERB', 'ADP', 'PRON', '.', 'ADV', 'ADJ', '.']\n",
      "Pred: ['PRON', 'VERB', 'ADP', 'PRON', '.', 'ADV', 'ADJ', '.']\n",
      "Gold: ['DET', 'ADJ', 'NOUN', 'VERB', 'ADV', 'ADP', 'ADP', 'NOUN', 'ADP', 'DET', 'NOUN', 'ADP', 'NOUN', 'PRON', 'VERB', 'PRON', 'VERB', '.']\n",
      "Pred: ['DET', 'ADJ', 'NOUN', 'VERB', 'ADV', 'ADP', 'ADP', 'NOUN', 'ADP', 'DET', 'NOUN', 'ADP', 'NOUN', 'PRON', 'VERB', 'PRON', 'VERB', '.']\n",
      "Gold: ['ADV', 'DET', 'NOUN', 'VERB', 'VERB', 'PRT', 'DET', 'ADV', 'VERB', 'NOUN', '.']\n",
      "Pred: ['ADV', 'DET', 'NOUN', 'VERB', 'VERB', 'PRT', 'DET', 'ADJ', 'ADJ', 'NOUN', '.']\n",
      "Gold: ['DET', 'VERB', 'NOUN', 'PRT', 'VERB', 'PRT', 'ADP', 'DET', 'NOUN', '.', 'PRON', 'VERB', '.']\n",
      "Pred: ['DET', 'VERB', 'NOUN', 'PRON', 'VERB', 'ADV', 'ADP', 'DET', 'NOUN', '.', 'PRON', 'VERB', '.']\n",
      "Gold: ['DET', 'ADJ', '.', 'ADJ', 'NOUN', 'PRT', '.']\n",
      "Pred: ['DET', 'ADJ', '.', 'ADJ', 'NOUN', 'ADV', '.']\n"
     ]
    },
    {
     "name": "stderr",
     "output_type": "stream",
     "text": [
      "LLM POS Tagging:  36%|███▌      | 18/50 [09:57<15:39, 29.35s/it]"
     ]
    },
    {
     "name": "stdout",
     "output_type": "stream",
     "text": [
      "Gold: ['ADV', 'PRT', 'VERB', 'NOUN', 'ADJ', 'ADP', 'PRON', '.', 'NOUN', '.']\n",
      "Pred: ['ADV', 'PRON', 'VERB', 'NOUN', 'ADJ', 'ADP', 'PRON', '.', 'NOUN', '.']\n",
      "Gold: ['.', 'PRON', 'VERB', 'VERB', 'NOUN', '.', '.', 'PRON', 'VERB', 'ADV', 'ADV', 'ADP', 'PRON', 'VERB', '.']\n",
      "Pred: ['.', 'PRON', 'VERB', 'VERB', 'NOUN', '.', '.', 'PRON', 'VERB', 'ADP', 'ADV', 'ADP', 'PRON', 'VERB', '.']\n",
      "Gold: ['.', 'PRON', 'VERB', 'VERB', 'DET', 'PRON', 'VERB', 'DET', 'VERB', 'VERB', 'PRON', 'VERB', 'ADV', '.', 'CONJ', 'PRON', 'VERB', 'PRON', 'PRON', 'VERB', 'VERB', 'VERB', 'PRON', '.', 'ADP', 'ADV', 'VERB', 'PRON', 'VERB', 'ADV', 'ADJ', '.', '.']\n",
      "Pred: ['.', 'PRON', 'VERB', 'VERB', 'PRON', 'PRON', 'VERB', 'CONJ', 'VERB', 'VERB', 'PRON', 'VERB', 'ADV', '.', 'CONJ', 'PRON', 'VERB', 'PRON', 'PRON', 'VERB', 'ADV', 'VERB', 'PRON', '.', 'ADV', 'ADV', 'VERB', 'PRON', 'VERB', 'ADV', 'ADJ', '.', '.']\n",
      "Gold: ['CONJ', 'ADV', 'ADP', '.', '.']\n",
      "Pred: ['CONJ', 'ADV', 'CONJ', '.', '.']\n",
      "Gold: ['.', 'VERB', 'VERB', 'PRON', 'DET', 'NOUN', 'ADP', 'NOUN', '.', 'NOUN', '.', '.']\n",
      "Pred: ['.', 'VERB', 'VERB', 'PRON', 'DET', 'NOUN', 'ADP', 'NOUN', '.', 'NOUN', '.', '.']\n",
      "Gold: ['PRON', 'VERB', 'ADP', 'PRON', '.']\n",
      "Pred: ['PRON', 'VERB', 'ADP', 'PRON', '.']\n",
      "Gold: ['PRON', 'VERB', 'VERB', 'VERB', 'PRT', 'DET', 'ADJ', 'NOUN', '.', 'ADP', 'NOUN', '.', 'DET', 'VERB', 'VERB', 'ADJ', '.']\n",
      "Pred: ['PRON', 'VERB', 'VERB', 'VERB', 'PRT', 'PRON', 'ADJ', 'NOUN', '.', 'ADP', 'NOUN', '.', 'CONJ', 'VERB', 'VERB', 'ADJ', '.']\n",
      "Gold: ['CONJ', 'PRT', 'VERB', 'DET', 'NOUN', '.', 'DET', 'NOUN', 'ADP', 'DET', 'NOUN', 'PRON', 'VERB', '.']\n",
      "Pred: ['CONJ', 'PRON', 'VERB', 'DET', 'NOUN', '.', 'DET', 'NOUN', 'ADP', 'DET', 'NOUN', 'PRON', 'VERB', '.']\n",
      "Gold: ['PRON', 'VERB', 'VERB', 'PRON', 'ADV', '.', 'DET', 'ADJ', 'ADJ', 'NOUN', 'ADP', 'DET', 'NOUN', '.']\n",
      "Pred: ['PRON', 'VERB', 'VERB', 'PRON', 'ADV', '.', 'DET', 'ADJ', 'ADJ', 'NOUN', 'ADP', 'PRON', 'NOUN', '.']\n",
      "Gold: ['.', 'VERB', '.', 'NOUN', '.', '.']\n",
      "Pred: ['.', 'ADJ', '.', 'NOUN', '.', '.']\n"
     ]
    },
    {
     "name": "stderr",
     "output_type": "stream",
     "text": [
      "LLM POS Tagging:  38%|███▊      | 19/50 [10:18<13:49, 26.75s/it]"
     ]
    },
    {
     "name": "stdout",
     "output_type": "stream",
     "text": [
      "Gold: ['VERB', 'PRT', 'VERB', '.', 'VERB', 'PRON', '.', '.']\n",
      "Pred: ['VERB', 'VERB', 'VERB', '.', 'VERB', 'PRON', '.', '.']\n",
      "Gold: ['CONJ', 'PRON', 'VERB', 'VERB', 'ADV', '.', 'NOUN', '.', '.']\n",
      "Pred: ['CONJ', 'PRON', 'VERB', 'VERB', 'ADV', '.', 'NOUN', '.', '.']\n",
      "Gold: ['PRON', 'VERB', 'ADV', '.', 'VERB', 'ADP', 'DET', 'ADJ', 'NOUN', '.']\n",
      "Pred: ['PRON', 'VERB', 'ADV', '.', 'VERB', 'ADP', 'DET', 'ADJ', 'NOUN', '.']\n",
      "Gold: ['.', 'NOUN', '.', '.', 'PRON', 'VERB', 'ADP', 'ADJ', 'NOUN', '.']\n",
      "Pred: ['.', 'NOUN', '.', '.', 'PRON', 'VERB', 'ADP', 'ADJ', 'NOUN', '.']\n",
      "Gold: ['.', 'NOUN', '.', 'ADP', 'NOUN', 'NOUN', '.', '.']\n",
      "Pred: ['.', 'NOUN', '.', 'ADP', 'NOUN', 'NOUN', '.', '.']\n",
      "Gold: ['.', 'NOUN', '.', '.', 'PRON', 'VERB', 'ADV', '.']\n",
      "Pred: ['.', 'NOUN', '.', '.', 'PRON', 'VERB', 'ADV', '.']\n",
      "Gold: ['.', 'PRT', 'DET', 'NOUN', '.', 'NOUN', '.', 'PRON', 'VERB', 'ADP', 'PRON', '.', '.']\n",
      "Pred: ['.', 'VERB', 'DET', 'NOUN', '.', 'NOUN', '.', 'PRON', 'ADJ', 'ADP', 'PRON', '.', '.']\n",
      "Gold: ['VERB', 'PRT', 'VERB', 'PRT', 'VERB', 'PRON', 'VERB', 'DET', 'NOUN', 'ADP', 'DET', 'NOUN', '.', '.']\n",
      "Pred: ['VERB', 'VERB', 'VERB', 'ADP', 'VERB', 'PRON', 'VERB', 'DET', 'NOUN', 'ADP', 'PRON', 'NOUN', '.', '.']\n",
      "Gold: ['PRT', '.', 'VERB', 'VERB', '.']\n",
      "Pred: ['ADV', '.', 'VERB', 'VERB', '.']\n",
      "Gold: ['ADV', 'VERB', 'PRON', 'PRT', 'ADV', '.', '.']\n",
      "Pred: ['ADV', 'VERB', 'PRON', 'ADP', 'ADV', '.', '.']\n"
     ]
    },
    {
     "name": "stderr",
     "output_type": "stream",
     "text": [
      "LLM POS Tagging:  40%|████      | 20/50 [10:51<14:17, 28.59s/it]"
     ]
    },
    {
     "name": "stdout",
     "output_type": "stream",
     "text": [
      "Gold: ['.', 'CONJ', 'ADV', 'VERB', 'PRON', 'VERB', 'ADV', '.', '.', '.']\n",
      "Pred: ['.', 'CONJ', 'ADV', 'VERB', 'PRON', 'VERB', 'ADV', '.', '.', '.']\n",
      "Gold: ['PRT', 'VERB', 'DET', 'NOUN', '.']\n",
      "Pred: ['VERB', 'VERB', 'DET', 'NOUN', '.']\n",
      "Gold: ['.', 'ADV', 'VERB', 'PRON', 'VERB', 'PRT', 'DET', 'NOUN', '.', '.', '.']\n",
      "Pred: ['.', 'ADV', 'VERB', 'PRON', 'VERB', 'DET', 'DET', 'NOUN', '.', '.', '.']\n",
      "Gold: ['PRON', 'VERB', '.']\n",
      "Pred: ['PRON', 'VERB', '.']\n",
      "Gold: ['.', 'ADV', 'CONJ', 'ADV', '.']\n",
      "Pred: ['.', 'ADV', 'CONJ', 'ADV', '.']\n",
      "Gold: ['ADP', 'ADP', 'VERB', 'ADV', 'ADV', '.', 'PRT', '.', 'PRT', 'VERB', 'PRON', 'DET', 'NOUN', '.', 'PRON', 'VERB', 'ADV', 'VERB', 'ADV', 'PRON', 'VERB', 'ADV', 'PRON', 'VERB', 'ADP', '.']\n",
      "Pred: ['ADP', 'ADP', 'VERB', 'PRT', 'ADV', '.', 'ADV', '.', 'VERB', 'VERB', 'PRON', 'DET', 'NOUN', '.', 'PRON', 'VERB', 'ADV', 'VERB', 'ADV', 'PRON', 'VERB', 'CONJ', 'PRON', 'VERB', 'PRT', '.']\n",
      "Gold: ['DET', 'ADJ', 'NOUN', 'PRON', 'VERB', 'VERB', 'DET', 'NOUN', 'ADP', 'NOUN', 'NOUN', '.', '.']\n",
      "Pred: ['DET', 'ADJ', 'NOUN', 'PRON', 'VERB', 'VERB', 'DET', 'NOUN', 'ADP', 'NOUN', 'NOUN', '.', '.']\n",
      "Gold: ['DET', 'NOUN', 'PRON', 'VERB', '.', 'DET', 'ADJ', 'NOUN', 'ADP', 'DET', 'ADJ', 'NOUN', '.', 'VERB', 'PRON', 'VERB', '.']\n",
      "Pred: ['DET', 'NOUN', 'PRON', 'VERB', '.', 'DET', 'ADJ', 'NOUN', 'ADP', 'DET', 'ADJ', 'NOUN', '.', 'VERB', 'PRON', 'VERB', '.']\n",
      "Gold: ['CONJ', 'DET', 'VERB', 'NOUN', 'NOUN', '.', '.']\n",
      "Pred: ['CONJ', 'DET', 'VERB', 'NOUN', 'NOUN', '.', '.']\n",
      "Gold: ['.', 'PRON', 'ADV', 'VERB', 'PRON', 'ADP', 'DET', 'NOUN', '.', 'NOUN', '.', '.', 'PRON', 'VERB', 'PRT', '.', '.', 'CONJ', 'PRT', 'VERB', 'NOUN', 'ADV', '.']\n",
      "Pred: ['.', 'PRON', 'ADV', 'VERB', 'PRON', 'ADP', 'DET', 'NOUN', '.', 'NOUN', '.', '.', 'PRON', 'VERB', 'PRT', '.', '.', 'CONJ', 'VERB', 'VERB', 'NUM', 'ADV', '.']\n"
     ]
    },
    {
     "name": "stderr",
     "output_type": "stream",
     "text": [
      "LLM POS Tagging:  42%|████▏     | 21/50 [11:15<13:14, 27.38s/it]"
     ]
    },
    {
     "name": "stdout",
     "output_type": "stream",
     "text": [
      "Gold: ['VERB', 'PRON', 'PRT', 'ADV', '.', '.']\n",
      "Pred: ['VERB', 'PRON', 'PRT', 'ADV', '.', '.']\n",
      "Gold: ['PRON', 'NOUN', 'VERB', 'PRT', 'ADJ', '.', 'PRT', 'PRON', 'NOUN', 'VERB', 'PRT', 'VERB', 'PRT', 'NOUN', 'CONJ', 'PRT', 'DET', 'NOUN', '.', '.']\n",
      "Pred: ['PRON', 'NOUN', 'VERB', 'ADJ', 'ADJ', '.', 'ADJ', 'PRON', 'VERB', 'VERB', 'PRT', 'VERB', 'PRT', 'NOUN', 'CONJ', 'PRON', 'VERB', 'DET', 'NOUN', '.', '.']\n",
      "Gold: ['ADV', '.', 'PRON', 'VERB', 'PRT', '.', 'NOUN', '.', '.', '.']\n",
      "Pred: ['ADV', '.', 'PRON', 'VERB', 'PRT', '.', 'NOUN', '.', '.', '.']\n",
      "Gold: ['PRON', 'VERB', 'ADP', 'DET', 'ADJ', 'NOUN', 'ADP', 'DET', 'NOUN', 'ADP', 'PRON', '.']\n",
      "Pred: ['PRON', 'VERB', 'ADP', 'DET', 'ADJ', 'NOUN', 'ADP', 'DET', 'NOUN', 'ADP', 'PRON', '.']\n",
      "Gold: ['VERB', 'PRON', 'PRT', '.', 'VERB', 'PRON', 'PRT', '.', 'DET', 'VERB', 'VERB', 'DET', 'NOUN', '.', 'VERB', 'PRON', '.', '.']\n",
      "Pred: ['VERB', 'PRON', 'PRT', '.', 'VERB', 'PRON', 'PRT', '.', 'DET', 'VERB', 'VERB', 'DET', 'NOUN', '.', 'VERB', 'PRT', 'PRON', '.', '.']\n",
      "Gold: ['DET', 'PRT', 'VERB', 'VERB', 'ADJ', '.', 'ADP', 'PRT', 'DET', 'NOUN', '.', 'PRT', 'ADV', 'VERB', 'ADP', 'NOUN', 'ADP', 'PRON', '.']\n",
      "Pred: ['PRON', 'PRON', 'VERB', 'VERB', 'VERB', 'ADJ', '.', 'ADP', 'DET', 'DET', 'NOUN', '.', 'PRON', 'VERB', 'ADV', 'VERB', 'ADP', 'PRON', 'ADP', 'PRON', '.']\n",
      "Gold: ['ADP', 'PRON', 'VERB', 'PRON', 'VERB', '.', 'PRT', 'VERB', 'ADV', 'ADV', '.']\n",
      "Pred: ['CONJ', 'PRON', 'VERB', 'PRON', 'PRT', '.', 'PRON', 'VERB', 'VERB', 'ADV', 'ADV', '.']\n",
      "Gold: ['CONJ', 'NOUN', 'VERB', 'VERB', 'ADJ', '.', '.']\n",
      "Pred: ['CONJ', 'NOUN', 'VERB', 'VERB', 'ADJ', '.', '.']\n",
      "Gold: ['PRON', 'VERB', 'ADV', 'VERB', 'PRT', 'ADP', 'DET', 'NOUN', 'ADP', 'DET', 'NOUN', '.']\n",
      "Pred: ['PRON', 'VERB', 'ADV', 'VERB', 'PRT', 'ADP', 'DET', 'NOUN', 'ADP', 'DET', 'NOUN', '.']\n",
      "Gold: ['PRON', 'VERB', 'PRON', 'ADJ', '.']\n",
      "Pred: ['PRON', 'VERB', 'PRON', 'ADJ', '.']\n"
     ]
    },
    {
     "name": "stderr",
     "output_type": "stream",
     "text": [
      "LLM POS Tagging:  44%|████▍     | 22/50 [11:43<12:46, 27.37s/it]"
     ]
    },
    {
     "name": "stdout",
     "output_type": "stream",
     "text": [
      "Gold: ['DET', 'ADJ', 'ADJ', 'NOUN', 'VERB', 'ADJ', 'ADP', 'DET', 'NOUN', '.', '.']\n",
      "Pred: ['DET', 'ADJ', 'ADJ', 'NOUN', 'VERB', 'ADJ', 'ADP', 'DET', 'NOUN', '.', '.']\n",
      "Gold: ['DET', 'ADJ', 'ADJ', 'NOUN', 'PRON', 'VERB', 'VERB', 'DET', 'NOUN', 'DET', 'ADJ', 'NOUN', '.', 'DET', 'ADV', 'ADV', 'ADJ', 'NOUN', 'ADJ', 'ADP', 'DET', 'NOUN', 'VERB', 'ADV', 'PRON', 'CONJ', 'DET', 'NOUN', 'PRON', 'VERB', 'ADP', 'DET', 'NOUN', 'NOUN', '.']\n",
      "Pred: ['DET', 'ADJ', 'ADJ', 'NOUN', 'PRON', 'VERB', 'VERB', 'DET', 'NOUN', 'DET', 'ADJ', 'PRON', '.', 'DET', 'ADV', 'ADJ', 'ADJ', 'NOUN', 'ADJ', 'ADP', 'DET', 'NOUN', 'VERB', 'PRT', 'PRON', 'CONJ', 'DET', 'NOUN', 'PRON', 'VERB', 'ADP', 'DET', 'ADJ', 'NOUN', '.']\n",
      "Gold: ['NOUN', '.', 'PRON', 'VERB', 'PRON', '.', 'CONJ', 'VERB', 'PRON', 'ADV', 'ADP', 'PRON', '.']\n",
      "Pred: ['NOUN', '.', 'PRON', 'VERB', 'PRON', '.', 'CONJ', 'VERB', 'PRON', 'ADJ', 'ADP', 'DET', '.']\n",
      "Gold: ['PRON', 'DET', 'ADJ', 'VERB', 'ADV', 'ADJ', 'PRON', 'VERB', '.', 'NOUN', 'ADP', 'NUM', 'NOUN', '.', 'VERB', 'ADJ', '.', 'ADJ', 'CONJ', 'ADV', 'VERB', 'ADP', 'DET', 'ADJ', '.']\n",
      "Pred: ['PRON', 'DET', 'ADV', 'VERB', 'ADV', 'ADJ', 'PRON', 'VERB', '.', 'ADV', 'ADP', 'NUM', 'NOUN', '.', 'VERB', 'ADJ', '.', 'ADJ', 'CONJ', 'ADV', 'ADJ', 'ADP', 'DET', 'NOUN', '.']\n",
      "Gold: ['DET', 'NOUN', 'ADP', 'DET', 'NOUN', 'VERB', 'ADJ', 'ADV', '.']\n",
      "Pred: ['DET', 'NOUN', 'ADP', 'DET', 'NOUN', 'VERB', 'ADJ', 'ADV', '.']\n",
      "Gold: ['ADV', 'DET', 'NOUN', 'PRON', 'VERB', 'DET', 'NOUN', '.']\n",
      "Pred: ['ADV', 'DET', 'NOUN', 'PRON', 'VERB', 'DET', 'NOUN', '.']\n",
      "Gold: ['DET', 'ADJ', 'NOUN', 'VERB', 'PRON', 'VERB', 'ADP', 'PRON', 'VERB', 'VERB', 'DET', 'NOUN', 'CONJ', 'VERB', 'PRT', 'DET', 'ADJ', 'NOUN', '.']\n",
      "Pred: ['DET', 'ADJ', 'NOUN', 'VERB', 'PRON', 'VERB', 'CONJ', 'PRON', 'VERB', 'VERB', 'DET', 'NOUN', 'CONJ', 'VERB', 'PRT', 'DET', 'ADJ', 'NOUN', '.']\n",
      "Gold: ['ADV', 'ADP', 'PRON', 'VERB', 'PRT', 'DET', 'NOUN', 'PRON', 'VERB', 'VERB', 'ADV', '.', 'VERB', 'DET', 'NOUN', 'ADV', '.']\n",
      "Pred: ['ADV', 'CONJ', 'PRON', 'VERB', 'PRT', 'DET', 'NOUN', 'PRON', 'VERB', 'VERB', 'ADV', '.', 'VERB', 'DET', 'NOUN', 'ADV', '.']\n",
      "Gold: ['PRON', 'VERB', 'ADV', '.', 'CONJ', 'DET', 'NOUN', 'VERB', 'PRT', '.']\n",
      "Pred: ['PRON', 'VERB', 'ADV', '.', 'CONJ', 'DET', 'NOUN', 'VERB', 'PRT', '.']\n",
      "Gold: ['ADP', 'DET', 'ADJ', 'NOUN', 'ADP', 'DET', 'NOUN', 'VERB', 'ADP', 'VERB', 'PRT', '.', 'DET', 'ADJ', 'NOUN', 'VERB', 'PRT', 'ADJ', 'NOUN', '.', 'ADP', 'PRON', 'DET', 'ADV', 'ADJ', 'NOUN', 'ADP', 'DET', 'ADJ', 'NOUN', '.']\n",
      "Pred: ['ADP', 'DET', 'ADJ', 'NOUN', 'ADP', 'DET', 'NOUN', 'VERB', 'ADP', 'VERB', 'ADV', '.', 'DET', 'ADJ', 'NOUN', 'VERB', 'ADP', 'ADJ', 'NOUN', '.', 'ADP', 'PRON', 'DET', 'ADJ', 'ADJ', 'NOUN', 'ADP', 'DET', 'ADJ', 'NOUN', '.']\n"
     ]
    },
    {
     "name": "stderr",
     "output_type": "stream",
     "text": [
      "LLM POS Tagging:  46%|████▌     | 23/50 [12:18<13:23, 29.76s/it]"
     ]
    },
    {
     "name": "stdout",
     "output_type": "stream",
     "text": [
      "Gold: ['PRON', 'VERB', 'ADV', 'PRON', 'VERB', 'PRT', 'DET', 'NOUN', 'PRON', 'VERB', 'CONJ', 'VERB', 'ADP', 'NOUN', '.']\n",
      "Pred: ['PRON', 'VERB', 'CONJ', 'PRON', 'VERB', 'PRT', 'DET', 'NOUN', 'PRON', 'VERB', 'CONJ', 'VERB', 'ADP', 'NOUN', '.']\n",
      "Gold: ['PRON', 'VERB', 'DET', 'NOUN', '.', 'ADV', 'PRON', 'VERB', 'PRT', 'ADP', 'DET', 'NOUN', '.']\n",
      "Pred: ['PRON', 'VERB', 'DET', 'NOUN', '.', 'ADV', 'PRON', 'VERB', 'PRT', 'ADP', 'DET', 'NOUN', '.']\n",
      "Gold: ['PRON', 'VERB', 'PRON', 'VERB', 'VERB', 'DET', 'ADJ', '.']\n",
      "Pred: ['PRON', 'VERB', 'PRON', 'VERB', 'VERB', 'DET', 'ADJ', '.']\n",
      "Gold: ['ADJ', 'NOUN', 'ADV', 'VERB', '.', 'CONJ', 'PRON', 'VERB', 'PRT', 'VERB', 'PRT', 'DET', 'ADJ', 'NOUN', 'ADP', 'NOUN', '.']\n",
      "Pred: ['ADJ', 'NOUN', 'ADV', 'VERB', '.', 'CONJ', 'PRON', 'VERB', 'PRT', 'VERB', 'PRT', 'DET', 'ADJ', 'NOUN', 'ADP', 'NOUN', '.']\n",
      "Gold: ['ADV', 'ADP', 'PRON', 'VERB', 'VERB', 'ADP', 'NOUN', '.', 'ADJ', 'ADP', 'PRON', 'VERB', 'NOUN', '.']\n",
      "Pred: ['ADV', 'ADV', 'PRON', 'VERB', 'VERB', 'ADP', 'NOUN', '.', 'ADV', 'ADP', 'PRON', 'VERB', 'NOUN', '.']\n",
      "Gold: ['DET', 'ADJ', 'NOUN', 'VERB', 'ADJ', 'CONJ', 'PRON', 'VERB', 'ADP', 'PRON', '.']\n",
      "Pred: ['DET', 'ADJ', 'NOUN', 'VERB', 'ADJ', 'CONJ', 'PRON', 'VERB', 'ADP', 'PRON', '.']\n",
      "Gold: ['PRON', 'VERB', 'NUM', 'ADV', 'ADV', '.', 'ADP', 'DET', 'NOUN', '.', 'CONJ', 'NOUN', 'VERB', 'DET', 'NOUN', 'PRT', 'ADP', 'NOUN', 'ADV', 'ADP', 'NOUN', '.']\n",
      "Pred: ['PRON', 'VERB', 'NUM', 'ADV', 'ADV', '.', 'ADP', 'DET', 'NOUN', '.', 'CONJ', 'NOUN', 'VERB', 'PRON', 'NOUN', 'ADV', 'ADP', 'NOUN', 'ADV', 'ADP', 'NOUN', '.']\n",
      "Gold: ['PRON', 'VERB', 'DET', 'NOUN', 'NOUN', 'ADP', 'NOUN', 'ADP', 'DET', 'ADJ', 'NOUN', '.', 'CONJ', 'PRON', 'VERB', 'DET', 'ADJ', 'ADJ', 'ADP', 'DET', 'ADJ', 'NOUN', 'ADP', 'NOUN', '.']\n",
      "Pred: ['PRON', 'VERB', 'DET', 'NOUN', 'NOUN', 'ADP', 'NOUN', 'ADP', 'DET', 'ADJ', 'NOUN', '.', 'CONJ', 'PRON', 'VERB', 'DET', 'ADJ', 'ADJ', 'ADP', 'DET', 'ADJ', 'NOUN', 'ADP', 'NOUN', '.']\n",
      "Gold: ['PRON', 'VERB', 'DET', 'NOUN', 'ADP', 'NOUN', '.', 'DET', 'VERB', 'ADJ', 'ADV', 'PRON', 'VERB', 'ADP', 'DET', 'NOUN', '.', 'CONJ', 'DET', 'NOUN', 'VERB', 'VERB', 'VERB', 'PRT', 'NOUN', '.']\n",
      "Pred: ['PRON', 'VERB', 'DET', 'NOUN', 'ADP', 'NOUN', '.', 'DET', 'VERB', 'ADJ', 'CONJ', 'PRON', 'VERB', 'ADP', 'DET', 'NOUN', '.', 'CONJ', 'DET', 'NOUN', 'VERB', 'VERB', 'VERB', 'ADV', 'NOUN', '.']\n",
      "Gold: ['ADP', 'ADJ', 'ADP', 'DET', 'NOUN', 'PRON', 'VERB', 'VERB', 'DET', 'NOUN', '.', 'VERB', '.', 'VERB', 'CONJ', 'VERB', 'PRT', 'ADP', 'DET', 'X', 'NOUN', 'ADP', 'DET', 'ADJ', 'NOUN', '.']\n",
      "Pred: ['ADP', 'ADJ', 'ADP', 'DET', 'NOUN', 'PRON', 'VERB', 'VERB', 'DET', 'NOUN', '.', 'VERB', '.', 'VERB', 'CONJ', 'VERB', 'PRT', 'ADP', 'DET', 'NOUN', 'NOUN', 'ADP', 'DET', 'ADJ', 'NOUN', '.']\n"
     ]
    },
    {
     "name": "stderr",
     "output_type": "stream",
     "text": [
      "LLM POS Tagging:  48%|████▊     | 24/50 [12:55<13:49, 31.89s/it]"
     ]
    },
    {
     "name": "stdout",
     "output_type": "stream",
     "text": [
      "Gold: ['PRON', 'VERB', 'ADP', 'DET', 'NOUN', 'ADP', 'NOUN', '.']\n",
      "Pred: ['PRON', 'VERB', 'ADP', 'DET', 'NOUN', 'ADP', 'NOUN', '.']\n",
      "Gold: ['ADV', 'DET', 'NOUN', 'VERB', 'ADJ', '.', 'CONJ', 'DET', 'NOUN', 'VERB', 'ADJ', 'ADP', 'PRON', '.', '.']\n",
      "Pred: ['DET', 'DET', 'NOUN', 'VERB', 'ADJ', '.', 'CONJ', 'DET', 'NOUN', 'VERB', 'ADJ', 'ADP', 'PRON', '.', '.']\n",
      "Gold: ['NOUN', 'VERB', 'ADJ', 'ADP', 'DET', 'VERB', 'NOUN', '.']\n",
      "Pred: ['PRON', 'VERB', 'ADJ', 'ADP', 'DET', 'ADJ', 'NOUN', '.']\n",
      "Gold: ['PRT', 'VERB', 'DET', 'ADJ', 'NOUN', 'ADJ', 'ADP', 'NOUN', '.', 'DET', 'ADJ', 'NOUN', '.', 'DET', 'ADJ', 'NOUN', 'NOUN', 'ADP', 'DET', 'ADJ', 'NOUN', '.', 'DET', 'NOUN', '.', 'DET', 'NOUN', 'NOUN', 'NOUN', 'CONJ', 'NOUN', 'ADJ', '.']\n",
      "Pred: ['PRON', 'VERB', 'DET', 'ADJ', 'NOUN', 'ADJ', 'ADP', 'NOUN', '.', 'DET', 'ADJ', 'NOUN', '.', 'DET', 'ADJ', 'NOUN', 'NOUN', 'ADP', 'DET', 'ADJ', 'NOUN', '.', 'DET', 'NOUN', '.', 'DET', 'NOUN', 'NOUN', 'NOUN', 'CONJ', 'NOUN', 'ADV', '.']\n",
      "Gold: ['PRT', 'VERB', 'DET', 'X', 'X', 'X', 'CONJ', 'DET', 'X', 'X', '.', 'PRON', 'VERB', 'DET', 'NOUN', '.', 'CONJ', 'PRON', 'VERB', 'ADJ', '.', 'CONJ', 'DET', 'VERB', 'NOUN', '.', '.']\n",
      "Pred: ['PRON', 'VERB', 'DET', 'NOUN', 'ADP', 'NOUN', 'CONJ', 'DET', 'NOUN', 'NOUN', '.', 'PRON', 'VERB', 'DET', 'NOUN', '.', 'CONJ', 'PRON', 'VERB', 'ADJ', '.', 'CONJ', 'PRON', 'VERB', 'NOUN', '.', '.']\n",
      "Gold: ['PRON', 'VERB', 'NOUN', 'ADP', 'NOUN', '.', 'ADV', 'VERB', 'ADP', 'DET', 'NOUN', 'VERB', 'DET', 'X', 'X', 'X', 'PRT', 'VERB', 'DET', 'NOUN', 'ADP', 'NOUN', '.']\n",
      "Pred: ['PRON', 'VERB', 'NOUN', 'ADP', 'NOUN', '.', 'ADV', 'VERB', 'ADP', 'DET', 'NOUN', 'VERB', 'DET', 'NOUN', 'ADP', 'NOUN', 'PRT', 'VERB', 'DET', 'NOUN', 'ADP', 'NOUN', '.']\n",
      "Gold: ['PRON', 'ADV', 'VERB', 'ADV', '.']\n",
      "Pred: ['PRON', 'ADV', 'VERB', 'PRON', '.']\n",
      "Gold: ['PRON', 'VERB', 'NOUN', '.', 'DET', 'VERB', 'ADJ', '.']\n",
      "Pred: ['PRON', 'VERB', 'NOUN', '.', 'PRON', 'VERB', 'ADJ', '.']\n",
      "Gold: ['PRON', 'VERB', 'VERB', 'NOUN', 'CONJ', 'NOUN', 'ADV', 'ADV', 'ADV', 'ADP', 'PRON', 'ADV', 'VERB', '.', 'CONJ', 'VERB', 'PRON', 'PRT', 'ADP', 'ADJ', 'NOUN', '.']\n",
      "Pred: ['PRON', 'VERB', 'VERB', 'NOUN', 'CONJ', 'NOUN', 'ADV', 'CONJ', 'ADV', 'CONJ', 'PRON', 'ADV', 'VERB', '.', 'CONJ', 'VERB', 'PRON', 'PRT', 'ADP', 'ADJ', 'NOUN', '.']\n",
      "Gold: ['PRON', 'VERB', '.']\n",
      "Pred: ['PRON', 'VERB', '.']\n"
     ]
    },
    {
     "name": "stderr",
     "output_type": "stream",
     "text": [
      "LLM POS Tagging:  50%|█████     | 25/50 [13:23<12:44, 30.58s/it]"
     ]
    },
    {
     "name": "stdout",
     "output_type": "stream",
     "text": [
      "Gold: ['PRON', 'VERB', 'VERB', 'DET', 'NOUN', 'VERB', 'VERB', 'ADV', 'ADV', 'CONJ', 'ADV', 'VERB', 'ADJ', '.']\n",
      "Pred: ['PRON', 'VERB', 'VERB', 'DET', 'NOUN', 'VERB', 'VERB', 'ADV', 'ADV', 'CONJ', 'ADV', 'VERB', 'ADJ', '.']\n",
      "Gold: ['PRON', 'VERB', 'ADJ', '.', 'CONJ', 'ADJ', '.', 'CONJ', 'ADJ', 'CONJ', 'ADJ', 'ADP', 'DET', 'ADJ', 'ADJ', 'NOUN', '.']\n",
      "Pred: ['PRON', 'VERB', 'ADJ', '.', 'CONJ', 'ADJ', '.', 'CONJ', 'ADJ', 'CONJ', 'ADJ', 'ADP', 'DET', 'ADJ', 'ADJ', 'NOUN', '.']\n",
      "Gold: ['ADV', 'DET', 'ADJ', 'NOUN', 'VERB', 'ADJ', 'ADP', 'PRON', 'VERB', 'ADV', 'ADJ', 'ADP', 'PRON', '.']\n",
      "Pred: ['ADV', 'PRON', 'ADJ', 'NOUN', 'VERB', 'ADJ', 'CONJ', 'PRON', 'VERB', 'ADV', 'ADJ', 'ADP', 'PRON', '.']\n",
      "Gold: ['ADV', 'PRON', 'VERB', 'VERB', 'DET', 'ADJ', 'ADP', 'DET', 'NOUN', 'CONJ', 'VERB', 'DET', 'NOUN', '.', 'PRON', 'VERB', 'ADV', 'ADP', 'DET', 'NOUN', 'CONJ', 'VERB', '.']\n",
      "Pred: ['CONJ', 'PRON', 'VERB', 'VERB', 'DET', 'ADJ', 'ADP', 'DET', 'NOUN', 'CONJ', 'VERB', 'PRON', 'NOUN', '.', 'PRON', 'VERB', 'ADV', 'ADP', 'PRON', 'NOUN', 'CONJ', 'VERB', '.']\n",
      "Gold: ['.', 'ADJ', 'NOUN', '.', 'PRON', 'VERB', 'VERB', 'NUM', 'NOUN', 'ADP', 'NOUN', '.']\n",
      "Pred: ['.', 'ADJ', 'NOUN', '.', 'PRON', 'VERB', 'VERB', 'NUM', 'NOUN', 'ADP', 'NOUN', '.']\n",
      "Gold: ['PRON', 'VERB', 'DET', 'ADP', 'ADJ', 'NOUN', '.']\n",
      "Pred: ['PRON', 'VERB', 'DET', 'ADP', 'ADJ', 'NOUN', '.']\n",
      "Gold: ['VERB', 'DET', 'NOUN', 'ADJ', '.', '.', '.']\n",
      "Pred: ['VERB', 'PRON', 'NOUN', 'ADJ', '.', '.', '.']\n",
      "Gold: ['.', 'NOUN', '.', '.', 'PRON', 'VERB', 'ADP', 'NOUN', 'NOUN', 'ADP', 'ADP', 'DET', '.', 'ADJ', '.', '.', '.', 'ADV', '.', '.']\n",
      "Pred: ['.', 'NOUN', '.', '.', 'PRON', 'VERB', 'ADP', 'NOUN', 'NOUN', 'CONJ', 'ADP', 'DET', '.', 'ADJ', '.', '.', '.', 'ADV', '.', '.']\n",
      "Gold: ['CONJ', 'ADV', 'PRT', 'PRON', 'VERB', 'ADP', 'DET', 'NOUN', '.']\n",
      "Pred: ['CONJ', 'ADV', 'PRT', 'PRON', 'VERB', 'ADP', 'PRON', 'NOUN', '.']\n",
      "Gold: ['PRON', 'VERB', 'DET', 'NOUN', '.', 'ADP', 'NOUN', '.', 'DET', 'ADJ', 'NOUN', '.']\n",
      "Pred: ['PRON', 'VERB', 'DET', 'NOUN', '.', 'ADP', 'ADV', '.', 'DET', 'ADJ', 'NOUN', '.']\n"
     ]
    },
    {
     "name": "stderr",
     "output_type": "stream",
     "text": [
      "LLM POS Tagging:  52%|█████▏    | 26/50 [13:46<11:25, 28.57s/it]"
     ]
    },
    {
     "name": "stdout",
     "output_type": "stream",
     "text": [
      "Gold: ['ADP', 'DET', 'NOUN', 'ADP', 'NOUN', 'PRON', 'VERB', 'ADJ', '.', 'CONJ', 'VERB', 'NOUN', 'ADP', 'DET', 'NOUN', 'ADP', 'VERB', 'NOUN', 'CONJ', 'NOUN', '.']\n",
      "Pred: ['ADP', 'DET', 'NOUN', 'ADP', 'NOUN', 'PRON', 'VERB', 'ADJ', '.', 'CONJ', 'VERB', 'NOUN', 'ADP', 'PRON', 'NOUN', 'ADP', 'VERB', 'NOUN', 'CONJ', 'NOUN', '.']\n",
      "Gold: ['ADV', 'PRON', 'VERB', 'NUM', 'NOUN', 'ADV', '.', 'CONJ', 'PRON', 'VERB', 'NOUN', 'CONJ', 'NOUN', 'ADV', 'PRON', 'VERB', '.']\n",
      "Pred: ['ADV', 'PRON', 'VERB', 'NUM', 'NOUN', 'ADV', '.', 'CONJ', 'PRON', 'VERB', 'PRT', 'NOUN', 'CONJ', 'NOUN', 'ADP', 'PRON', 'VERB', '.']\n",
      "Gold: ['PRON', 'VERB', 'ADV', 'ADP', 'DET', 'NOUN', 'NOUN', '.']\n",
      "Pred: ['PRON', 'VERB', 'ADV', 'ADP', 'DET', 'NOUN', 'NOUN', '.']\n",
      "Gold: ['PRON', 'VERB', 'DET', 'NOUN', 'ADP', 'VERB', 'ADP', 'DET', 'X', 'X', 'X', '.']\n",
      "Pred: ['PRON', 'VERB', 'DET', 'NOUN', 'ADP', 'VERB', 'ADP', 'DET', 'NOUN', 'CONJ', 'NOUN', '.']\n",
      "Gold: ['DET', 'NOUN', 'VERB', 'ADJ', 'CONJ', 'PRON', 'VERB', 'VERB', 'ADP', 'DET', 'NOUN', '.']\n",
      "Pred: ['DET', 'NOUN', 'VERB', 'ADJ', 'CONJ', 'PRON', 'VERB', 'PRT', 'VERB', 'ADP', 'DET', 'NOUN', '.']\n",
      "Gold: ['PRON', 'VERB', 'VERB', 'ADP', 'NOUN', 'PRT', 'VERB', 'ADV', 'CONJ', 'VERB', 'PRON', 'PRT', '.']\n",
      "Pred: ['PRON', 'VERB', 'VERB', 'ADP', 'NOUN', 'PRT', 'VERB', 'PRT', 'CONJ', 'VERB', 'PRON', 'PRT', '.']\n",
      "Gold: ['PRON', 'VERB', 'NOUN', 'ADP', 'DET', 'NOUN', 'ADP', 'ADJ', 'NOUN', 'VERB', 'NOUN', 'NOUN', '.', 'ADV', 'VERB', 'PRON', '.', '.', 'ADV', 'VERB', 'ADP', 'NOUN', '.']\n",
      "Pred: ['PRON', 'VERB', 'NOUN', 'ADP', 'DET', 'NOUN', 'ADP', 'ADJ', 'NOUN', 'VERB', 'NOUN', 'NOUN', '.', 'ADV', 'VERB', 'PRON', '.', '.', 'ADV', 'VERB', 'ADP', 'NOUN', '.']\n",
      "Gold: ['ADP', 'DET', 'ADJ', 'NOUN', '.', 'NOUN', 'VERB', 'VERB', '.', 'CONJ', 'PRON', 'VERB', 'VERB', '.']\n",
      "Pred: ['ADP', 'DET', 'ADJ', 'NOUN', '.', 'NOUN', 'VERB', 'PRT', 'VERB', '.', 'CONJ', 'PRON', 'VERB', 'ADJ', '.']\n",
      "Gold: ['PRON', 'VERB', 'ADP', 'DET', 'NOUN', 'CONJ', 'VERB', '.']\n",
      "Pred: ['PRON', 'VERB', 'ADP', 'PRON', 'NOUN', 'CONJ', 'VERB', '.']\n",
      "Gold: ['DET', 'ADJ', 'NOUN', 'DET', 'ADJ', 'NOUN', 'VERB', 'PRON', 'VERB', 'ADV', '.', 'CONJ', 'DET', 'VERB', 'PRON', 'VERB', 'ADP', 'NOUN', 'ADP', 'NOUN', 'NOUN', '.', '.']\n",
      "Pred: ['DET', 'ADJ', 'NOUN', 'DET', 'ADJ', 'NOUN', 'VERB', 'PRON', 'VERB', 'ADV', '.', 'CONJ', 'PRON', 'VERB', 'PRON', 'VERB', 'ADP', 'NOUN', 'ADP', 'NOUN', 'NOUN', '.', '.']\n"
     ]
    },
    {
     "name": "stderr",
     "output_type": "stream",
     "text": [
      "LLM POS Tagging:  54%|█████▍    | 27/50 [14:25<12:09, 31.73s/it]"
     ]
    },
    {
     "name": "stdout",
     "output_type": "stream",
     "text": [
      "Gold: ['ADP', 'PRON', 'VERB', 'ADJ', 'NOUN', '.']\n",
      "Pred: ['ADV', 'PRON', 'VERB', 'DET', 'NOUN', '.']\n",
      "Gold: ['ADV', 'DET', 'NOUN', 'CONJ', 'NOUN', 'PRON', 'VERB', 'ADV', 'ADJ', 'PRT', 'VERB', 'CONJ', 'ADV', 'VERB', 'ADJ', 'NOUN', '.']\n",
      "Pred: ['DET', 'DET', 'NOUN', 'CONJ', 'NOUN', 'PRON', 'VERB', 'ADV', 'ADV', 'PRT', 'VERB', 'CONJ', 'ADV', 'VERB', 'ADJ', 'NOUN', '.']\n",
      "Gold: ['PRON', 'VERB', 'DET', 'NOUN', 'ADP', 'NOUN', 'CONJ', 'DET', 'NOUN', 'ADP', 'NOUN', '.']\n",
      "Pred: ['PRON', 'VERB', 'DET', 'NOUN', 'ADP', 'NOUN', 'CONJ', 'DET', 'NOUN', 'ADP', 'NOUN', '.']\n",
      "Gold: ['ADJ', '.', 'CONJ', 'NOUN', '.']\n",
      "Pred: ['ADJ', '.', 'CONJ', 'NOUN', '.']\n",
      "Gold: ['PRT', 'DET', 'VERB', 'ADP', 'DET', 'NOUN', '.']\n",
      "Pred: ['PRON', 'PRON', 'VERB', 'ADP', 'DET', 'NOUN', '.']\n",
      "Gold: ['PRON', 'VERB', 'VERB', 'PRT', 'DET', 'NOUN', 'ADP', 'DET', 'ADJ', 'NOUN', 'ADV', 'PRON', 'VERB', 'PRT', '.']\n",
      "Pred: ['PRON', 'VERB', 'VERB', 'PRT', 'DET', 'NOUN', 'ADP', 'DET', 'ADJ', 'NOUN', 'CONJ', 'PRON', 'VERB', 'PRT', '.']\n",
      "Gold: ['PRON', 'VERB', 'ADV', 'NOUN', 'NOUN', 'ADV', 'PRON', 'VERB', 'PRT', '.']\n",
      "Pred: ['PRON', 'VERB', 'ADJ', 'NOUN', 'NOUN', 'CONJ', 'PRON', 'VERB', 'PRT', '.']\n",
      "Gold: ['DET', 'NOUN', 'VERB', 'ADJ', '.', 'DET', 'NOUN', 'ADJ', 'CONJ', 'PRON', 'VERB', 'VERB', 'ADP', 'DET', 'NOUN', 'NOUN', 'ADP', 'DET', 'NOUN', 'ADP', 'NOUN', 'ADP', 'PRT', 'DET', 'NOUN', '.']\n",
      "Pred: ['DET', 'NOUN', 'VERB', 'ADJ', '.', 'DET', 'NOUN', 'ADJ', 'CONJ', 'PRON', 'VERB', 'VERB', 'ADP', 'DET', 'NOUN', 'NOUN', 'ADP', 'DET', 'NOUN', 'ADP', 'NOUN', 'ADP', 'DET', 'DET', 'NOUN', '.']\n",
      "Gold: ['DET', 'ADJ', 'NOUN', 'VERB', 'DET', 'NOUN', 'ADP', 'ADJ', 'NOUN', '.']\n",
      "Pred: ['DET', 'ADJ', 'NOUN', 'VERB', 'DET', 'NOUN', 'ADP', 'ADJ', 'NOUN', '.']\n",
      "Gold: ['ADV', 'ADV', 'DET', 'NOUN', 'VERB', 'VERB', 'ADJ', 'CONJ', 'PRON', 'VERB', 'VERB', '.']\n",
      "Pred: ['ADV', 'ADV', 'DET', 'NOUN', 'VERB', 'VERB', 'ADJ', 'CONJ', 'PRON', 'VERB', 'VERB', '.']\n"
     ]
    },
    {
     "name": "stderr",
     "output_type": "stream",
     "text": [
      "LLM POS Tagging:  56%|█████▌    | 28/50 [15:06<12:34, 34.29s/it]"
     ]
    },
    {
     "name": "stdout",
     "output_type": "stream",
     "text": [
      "Gold: ['PRON', 'VERB', 'PRT', 'ADP', 'PRON', '.']\n",
      "Pred: ['PRON', 'VERB', 'PRT', 'ADP', 'PRON', '.']\n",
      "Gold: ['PRON', 'VERB', 'ADV', 'VERB', 'DET', 'ADJ', 'NOUN', 'ADP', 'DET', 'NOUN', 'ADP', 'PRON', 'VERB', 'DET', 'NOUN', '.', 'CONJ', 'PRON', 'VERB', 'PRT', 'ADP', 'DET', 'ADJ', 'NOUN', 'ADV', 'DET', 'NOUN', 'VERB', 'ADJ', 'CONJ', 'VERB', 'ADP', 'DET', 'NOUN', '.']\n",
      "Pred: ['PRON', 'VERB', 'ADV', 'VERB', 'DET', 'ADJ', 'NOUN', 'ADP', 'DET', 'NOUN', 'ADP', 'PRON', 'VERB', 'DET', 'NOUN', '.', 'CONJ', 'PRON', 'VERB', 'PRT', 'ADP', 'DET', 'ADJ', 'NOUN', 'ADV', 'DET', 'NOUN', 'VERB', 'ADJ', 'CONJ', 'VERB', 'ADP', 'DET', 'NOUN', '.']\n",
      "Gold: ['PRT', 'VERB', 'NOUN', 'CONJ', 'NOUN', 'ADP', 'DET', 'ADV', 'ADJ', 'NOUN', 'VERB', 'ADP', 'DET', 'ADJ', 'NOUN', '.']\n",
      "Pred: ['ADV', 'VERB', 'NOUN', 'CONJ', 'NOUN', 'ADP', 'DET', 'ADJ', 'ADJ', 'NOUN', 'VERB', 'ADP', 'DET', 'ADJ', 'NOUN', '.']\n",
      "Gold: ['PRON', 'VERB', 'PRT', 'ADV', 'DET', 'NOUN', '.', 'CONJ', 'PRON', 'VERB', 'ADJ', '.']\n",
      "Pred: ['PRON', 'VERB', 'PRT', 'ADV', 'DET', 'NOUN', '.', 'CONJ', 'PRON', 'VERB', 'ADJ', '.']\n",
      "Gold: ['PRON', 'VERB', 'ADV', 'ADJ', '.']\n",
      "Pred: ['PRON', 'VERB', 'ADV', 'ADJ', '.']\n",
      "Gold: ['ADV', 'ADV', 'DET', 'NOUN', 'VERB', 'ADV', 'VERB', 'DET', 'VERB', 'NOUN', 'ADP', 'DET', 'VERB', 'NOUN', '.']\n",
      "Pred: ['ADV', 'ADV', 'DET', 'NOUN', 'VERB', 'PRT', 'VERB', 'DET', 'ADJ', 'NOUN', 'ADP', 'DET', 'ADJ', 'NOUN', '.']\n",
      "Gold: ['PRON', 'VERB', 'PRON', 'CONJ', 'VERB', 'PRT', 'ADP', 'PRON', '.', 'NUM', 'NOUN', 'ADV', '.']\n",
      "Pred: ['PRON', 'VERB', 'PRON', '.', 'CONJ', 'VERB', 'PRT', 'ADP', 'PRON', '.', 'NUM', 'NOUN', 'ADV', '.']\n",
      "Gold: ['ADV', 'PRON', 'VERB', 'ADV', 'PRON', 'VERB', 'DET', 'NOUN', '.']\n",
      "Pred: ['ADV', 'PRON', 'VERB', 'ADV', 'PRON', 'VERB', 'DET', 'NOUN', '.']\n",
      "Gold: ['PRON', 'VERB', 'PRON', 'NOUN', 'CONJ', 'NOUN', '.']\n",
      "Pred: ['PRON', 'VERB', 'PRON', 'NOUN', 'CONJ', 'NOUN', '.']\n",
      "Gold: ['ADP', 'PRON', 'PRON', 'VERB', 'VERB', 'VERB', 'ADJ', 'CONJ', 'ADJ', '.']\n",
      "Pred: ['ADP', 'PRON', 'PRON', 'VERB', 'VERB', 'VERB', 'ADJ', 'CONJ', 'ADJ', '.']\n"
     ]
    },
    {
     "name": "stderr",
     "output_type": "stream",
     "text": [
      "LLM POS Tagging:  58%|█████▊    | 29/50 [15:34<11:19, 32.36s/it]"
     ]
    },
    {
     "name": "stdout",
     "output_type": "stream",
     "text": [
      "Gold: ['PRON', 'VERB', 'PRON', 'NOUN', '.']\n",
      "Pred: ['PRON', 'VERB', 'PRON', 'NOUN', '.']\n",
      "Gold: ['PRON', 'VERB', 'PRON', 'DET', 'NOUN', 'PRT', 'VERB', 'PRT', 'ADP', 'PRON', '.', 'NOUN', 'ADJ', '.', 'NUM', 'NOUN', 'PRT', 'ADP', 'DET', 'NOUN', '.']\n",
      "Pred: ['PRON', 'VERB', 'PRON', 'DET', 'NOUN', 'PRT', 'VERB', 'PRT', 'ADP', 'PRON', '.', 'NOUN', 'ADJ', '.', 'NUM', 'NOUN', 'ADV', 'ADP', 'DET', 'NOUN', '.']\n",
      "Gold: ['PRON', 'VERB', 'VERB', 'PRON', 'ADP', 'PRON', '.']\n",
      "Pred: ['PRON', 'VERB', 'VERB', 'PRON', 'ADP', 'PRON', '.']\n",
      "Gold: ['PRON', 'VERB', 'PRT', 'ADP', 'PRON', '.']\n",
      "Pred: ['PRON', 'VERB', 'DET', 'ADP', 'PRON', '.']\n",
      "Gold: ['PRON', 'VERB', 'DET', 'NOUN', 'NOUN', 'CONJ', 'VERB', 'PRT', 'VERB', 'DET', 'NOUN', '.']\n",
      "Pred: ['PRON', 'VERB', 'ADJ', 'ADJ', 'NOUN', 'CONJ', 'VERB', 'PRT', 'VERB', 'DET', 'NOUN', '.']\n",
      "Gold: ['PRON', 'VERB', 'ADV', 'VERB', 'ADP', 'PRON', 'VERB', 'ADV', 'CONJ', 'ADV', '.']\n",
      "Pred: ['PRON', 'VERB', 'ADV', 'VERB', 'CONJ', 'PRON', 'VERB', 'ADV', 'CONJ', 'ADV', '.']\n",
      "Gold: ['ADP', 'DET', 'NOUN', 'PRON', 'VERB', 'ADP', 'NOUN', 'ADP', 'DET', 'ADJ', 'NOUN', '.', '.', 'PRON', 'VERB', 'NOUN', 'ADP', 'DET', 'NOUN', 'CONJ', 'NOUN', '.', '.']\n",
      "Pred: ['ADP', 'DET', 'NOUN', 'PRON', 'VERB', 'ADP', 'NOUN', 'ADP', 'DET', 'ADJ', 'NOUN', '.', '.', 'PRON', 'VERB', 'NOUN', 'ADP', 'PRON', 'NOUN', 'CONJ', 'NOUN', '.', '.']\n",
      "Gold: ['.', 'PRON', 'VERB', 'VERB', 'PRT', 'DET', 'NOUN', '.']\n",
      "Pred: ['.', 'PRON', 'VERB', 'VERB', 'ADP', 'DET', 'NOUN', '.']\n",
      "Gold: ['.']\n",
      "Pred: ['.']\n",
      "Gold: ['ADV', 'VERB', 'ADP', 'PRON', '.', 'PRON', 'VERB', 'DET', 'ADJ', 'NOUN', 'DET', 'VERB', '.', 'NOUN', '.', 'NOUN', '.', 'CONJ', 'PRT', 'ADV', 'VERB', 'ADV', '.']\n",
      "Pred: ['ADV', 'VERB', 'ADP', 'PRON', '.', 'PRON', 'VERB', 'DET', 'ADJ', 'NOUN', 'PRON', 'VERB', '.', 'X', '.', 'NOUN', '.', 'CONJ', 'VERB', 'ADV', 'VERB', 'ADJ', '.']\n"
     ]
    },
    {
     "name": "stderr",
     "output_type": "stream",
     "text": [
      "LLM POS Tagging:  60%|██████    | 30/50 [15:58<09:59, 29.96s/it]"
     ]
    },
    {
     "name": "stdout",
     "output_type": "stream",
     "text": [
      "Gold: ['PRON', 'VERB', 'ADJ', 'ADP', 'DET', 'NOUN', '.', 'ADV', 'VERB', '.', '.', 'ADV', 'VERB', 'PRON', 'ADV', 'ADJ', '.', '.', '.']\n",
      "Pred: ['PRON', 'VERB', 'ADJ', 'ADP', 'DET', 'NOUN', '.', 'ADV', 'VERB', '.', '.', 'ADV', 'VERB', 'PRON', 'ADV', 'ADJ', '.', '.', '.']\n",
      "Gold: ['.', 'PRT', 'ADV', 'ADJ', '.', '.', 'PRON', 'VERB', '.', 'VERB', 'ADP', 'DET', 'NOUN', '.']\n",
      "Pred: ['.', 'PRON', 'VERB', 'ADV', 'ADJ', '.', '.', 'PRON', 'VERB', '.', 'VERB', 'ADP', 'DET', 'NOUN', '.']\n",
      "Gold: ['PRON', 'VERB', 'VERB', 'PRT', 'VERB', 'DET', 'NOUN', 'ADP', 'DET', 'NOUN', '.', 'CONJ', 'PRON', 'VERB', 'VERB', 'PRON', '.']\n",
      "Pred: ['PRON', 'VERB', 'VERB', 'PRT', 'VERB', 'DET', 'NOUN', 'ADP', 'PRON', 'NOUN', '.', 'CONJ', 'PRON', 'VERB', 'PRT', 'VERB', 'PRON', '.']\n",
      "Gold: ['.', 'VERB', 'PRON', 'DET', 'NOUN', '.', '.', '.']\n",
      "Pred: ['.', 'VERB', 'PRON', 'DET', 'NOUN', '.', '.', '.']\n",
      "Gold: ['PRON', 'VERB', 'ADV', '.']\n",
      "Pred: ['PRON', 'VERB', 'ADV', '.']\n",
      "Gold: ['PRON', 'VERB', 'VERB', 'VERB', 'DET', 'NOUN', 'ADP', 'DET', 'ADJ', 'NOUN', '.']\n",
      "Pred: ['PRON', 'VERB', 'VERB', 'VERB', 'DET', 'NOUN', 'ADP', 'PRON', 'ADJ', 'NOUN', '.']\n",
      "Gold: ['.', 'PRT', '.', 'NOUN', 'CONJ', 'NOUN', 'VERB', 'ADV', '.', '.', 'PRON', 'VERB', 'ADV', '.', 'VERB', '.', '.', 'PRON', 'VERB', 'VERB', 'DET', 'NOUN', 'ADP', 'DET', '.', '.']\n",
      "Pred: ['.', 'ADV', '.', 'NOUN', 'CONJ', 'NOUN', 'VERB', 'ADV', '.', '.', 'PRON', 'VERB', 'ADV', '.', 'VERB', '.', '.', 'PRON', 'VERB', 'VERB', 'PRON', 'NOUN', 'ADP', 'PRON', '.', '.']\n",
      "Gold: ['.', 'PRT', '.', 'NOUN', '.', 'PRON', 'VERB', 'ADV', 'DET', 'NOUN', 'PRT', 'VERB', 'PRON', '.']\n",
      "Pred: ['.', 'ADV', '.', 'NOUN', '.', 'PRON', 'VERB', 'ADV', 'PRON', 'NOUN', 'PRT', 'VERB', 'PRON', '.']\n",
      "Gold: ['.']\n",
      "Pred: ['.']\n",
      "Gold: ['DET', 'VERB', 'PRON', 'ADV', 'ADJ', 'PRON', 'VERB', 'PRT', 'VERB', 'ADP', 'PRON', '.']\n",
      "Pred: ['PRON', 'VERB', 'PRON', 'ADV', 'ADJ', 'PRON', 'VERB', 'PRT', 'VERB', 'ADP', 'PRON', '.']\n"
     ]
    },
    {
     "name": "stderr",
     "output_type": "stream",
     "text": [
      "LLM POS Tagging:  62%|██████▏   | 31/50 [16:32<09:52, 31.17s/it]"
     ]
    },
    {
     "name": "stdout",
     "output_type": "stream",
     "text": [
      "Gold: ['PRON', 'VERB', 'DET', 'VERB', 'ADJ', 'NOUN', 'VERB', '.', 'CONJ', 'PRON', 'VERB', 'DET', 'ADJ', 'NUM', 'PRON', 'VERB', 'VERB', 'VERB', '.']\n",
      "Pred: ['PRON', 'VERB', 'PRON', 'ADJ', 'ADJ', 'NOUN', 'VERB', '.', 'CONJ', 'PRON', 'VERB', 'DET', 'ADJ', 'NOUN', 'PRON', 'VERB', 'VERB', 'VERB', '.']\n",
      "Gold: ['PRON', 'ADV', 'VERB', 'DET', 'NOUN', '.']\n",
      "Pred: ['PRON', 'ADV', 'VERB', 'DET', 'NOUN', '.']\n",
      "Gold: ['PRON', 'VERB', 'ADP', 'PRON', '.', 'CONJ', 'PRON', 'VERB', 'DET', 'ADV', 'ADJ', 'NOUN', '.']\n",
      "Pred: ['PRON', 'VERB', 'ADP', 'PRON', '.', 'CONJ', 'PRON', 'VERB', 'DET', 'ADV', 'ADJ', 'NOUN', '.']\n",
      "Gold: ['PRON', 'VERB', 'ADV', 'ADV', 'ADJ', 'ADP', 'PRON', '.']\n",
      "Pred: ['PRON', 'VERB', 'ADV', 'ADV', 'ADJ', 'ADP', 'PRON', '.']\n",
      "Gold: ['DET', 'NOUN', 'VERB', 'VERB', '.', 'ADV', '.', 'CONJ', 'ADV', 'ADV', '.', 'CONJ', 'PRT', 'VERB', 'NOUN', 'CONJ', 'ADJ', 'NOUN', 'ADP', 'PRON', '.']\n",
      "Pred: ['PRON', 'NOUN', 'VERB', 'VERB', '.', 'ADV', '.', 'CONJ', 'ADV', 'ADV', '.', 'CONJ', 'PRON', 'VERB', 'NOUN', 'CONJ', 'ADJ', 'NOUN', 'ADP', 'PRON', '.']\n",
      "Gold: ['.', 'ADV', 'VERB', 'PRON', 'ADJ', 'PRT', 'VERB', '.', '.', '.']\n",
      "Pred: ['.', 'ADV', 'VERB', 'PRON', 'ADJ', 'PRT', 'VERB', '.', '.', '.']\n",
      "Gold: ['PRON', 'VERB', '.']\n",
      "Pred: ['PRON', 'VERB', '.']\n",
      "Gold: ['ADP', 'PRON', 'VERB', 'DET', 'ADJ', 'NOUN', 'ADV', 'ADV', '.', 'PRON', 'VERB', '.', '.', 'VERB', 'PRON', 'VERB', 'DET', 'NOUN', 'ADP', 'PRON', '.', '.', '.']\n",
      "Pred: ['CONJ', 'PRON', 'VERB', 'DET', 'ADJ', 'NOUN', 'ADV', 'ADV', '.', 'PRON', 'VERB', '.', '.', 'VERB', 'PRON', 'VERB', 'DET', 'NOUN', 'ADP', 'PRON', '.', '.', '.']\n",
      "Gold: ['PRON', 'VERB', 'VERB', 'DET', 'ADJ', 'NOUN', 'VERB', 'PRON', 'ADP', 'DET', 'NOUN', '.', 'CONJ', 'PRON', 'VERB', 'ADV', 'ADJ', 'NOUN', 'PRON', 'VERB', 'VERB', 'PRT', 'ADP', 'DET', 'ADJ', 'NOUN', '.']\n",
      "Pred: ['PRON', 'VERB', 'VERB', 'DET', 'ADJ', 'NOUN', 'VERB', 'PRON', 'ADP', 'PRON', 'NOUN', '.', 'CONJ', 'PRON', 'VERB', 'ADV', 'NUM', 'NOUN', 'PRON', 'VERB', 'VERB', 'PRT', 'ADP', 'DET', 'ADJ', 'NOUN', '.']\n",
      "Gold: ['ADV', '.', 'PRON', 'VERB', 'DET', 'NOUN', 'ADP', 'NOUN', 'NOUN', 'ADP', 'ADP', 'DET', 'NOUN', '.', 'VERB', 'DET', 'NOUN', '.', 'CONJ', 'VERB', 'PRON', 'ADP', 'PRON', '.']\n",
      "Pred: ['ADV', '.', 'PRON', 'VERB', 'DET', 'NOUN', 'ADP', 'NOUN', 'NOUN', 'PRT', 'ADP', 'PRON', 'NOUN', '.', 'VERB', 'DET', 'NOUN', '.', 'CONJ', 'VERB', 'PRON', 'ADP', 'PRON', '.']\n"
     ]
    },
    {
     "name": "stderr",
     "output_type": "stream",
     "text": [
      "LLM POS Tagging:  64%|██████▍   | 32/50 [17:17<10:33, 35.21s/it]"
     ]
    },
    {
     "name": "stdout",
     "output_type": "stream",
     "text": [
      "Gold: ['PRON', 'VERB', 'VERB', 'PRON', 'VERB', 'VERB', '.']\n",
      "Pred: ['PRON', 'VERB', 'VERB', 'PRON', 'VERB', 'ADJ', '.']\n",
      "Gold: ['.', 'PRT', 'ADJ', 'PRON', 'VERB', 'VERB', 'DET', 'NOUN', '.', '.', 'PRON', 'VERB', '.']\n",
      "Pred: ['.', 'PRON', 'ADJ', 'PRON', 'VERB', 'VERB', 'DET', 'NOUN', '.', '.', 'PRON', 'VERB', '.']\n",
      "Gold: ['.', 'X', '.', 'X', '.', '.', 'PRON', 'VERB', '.', 'VERB', 'DET', 'NOUN', '.', '.', 'ADV', 'ADP', 'DET', 'VERB', 'ADJ', '.', '.']\n",
      "Pred: ['.', 'ADV', '.', 'ADV', '.', '.', 'PRON', 'VERB', '.', 'VERB', 'DET', 'NOUN', '.', '.', 'ADV', 'ADP', 'PRON', 'VERB', 'ADJ', '.', '.']\n",
      "Gold: ['PRON', 'VERB', 'PRT', 'CONJ', 'VERB', '.', 'CONJ', 'ADV', 'PRON', 'VERB', '.']\n",
      "Pred: ['PRON', 'VERB', 'PRT', 'CONJ', 'VERB', '.', 'CONJ', 'ADV', 'PRON', 'VERB', '.']\n",
      "Gold: ['PRT', 'ADV', 'ADJ', 'PRT', 'VERB', 'ADJ', 'NOUN', 'ADP', 'DET', '.', 'CONJ', 'PRON', 'VERB', 'VERB', 'ADV', '.']\n",
      "Pred: ['PRON', 'ADV', 'ADJ', 'ADP', 'VERB', 'ADJ', 'NOUN', 'ADP', 'DET', '.', 'CONJ', 'PRON', 'VERB', 'VERB', 'ADV', '.']\n",
      "Gold: ['PRON', 'VERB', 'VERB', 'PRT', 'VERB', 'ADV', 'DET', 'NOUN', '.']\n",
      "Pred: ['PRON', 'VERB', 'VERB', 'ADP', 'VERB', 'ADV', 'DET', 'NOUN', '.']\n",
      "Gold: ['PRT', 'VERB', 'ADJ', 'NOUN', 'ADP', 'DET', 'ADJ', 'NOUN', '.', 'CONJ', 'PRON', 'VERB', 'VERB', 'PRON', 'ADV', '.']\n",
      "Pred: ['PRON', 'VERB', 'ADJ', 'NOUN', 'ADP', 'DET', 'ADJ', 'NOUN', '.', 'CONJ', 'PRON', 'VERB', 'VERB', 'PRON', 'ADV', '.']\n",
      "Gold: ['DET', 'NOUN', '.', 'DET', 'NOUN', '.', 'PRON', 'VERB', 'VERB', 'VERB', 'NUM', 'CONJ', 'ADV', 'NUM', '.']\n",
      "Pred: ['ADV', 'NOUN', '.', 'DET', 'NOUN', '.', 'PRON', 'VERB', 'VERB', 'VERB', 'NUM', 'CONJ', 'ADV', 'NUM', '.']\n",
      "Gold: ['PRON', 'VERB', 'VERB', 'ADJ', '.']\n",
      "Pred: ['PRON', 'VERB', 'VERB', 'ADJ', '.']\n",
      "Gold: ['ADV', 'PRON', 'VERB', 'ADJ', '.']\n",
      "Pred: ['ADV', 'PRON', 'VERB', 'ADJ', '.']\n"
     ]
    },
    {
     "name": "stderr",
     "output_type": "stream",
     "text": [
      "LLM POS Tagging:  66%|██████▌   | 33/50 [17:55<10:14, 36.14s/it]"
     ]
    },
    {
     "name": "stdout",
     "output_type": "stream",
     "text": [
      "Gold: ['ADV', 'ADJ', 'VERB', '.', 'CONJ', 'ADJ', 'CONJ', 'ADJ', 'ADP', 'ADP', 'PRON', 'VERB', 'PRON', 'ADJ', '.']\n",
      "Pred: ['ADV', 'ADJ', 'ADJ', '.', 'CONJ', 'ADJ', 'CONJ', 'ADJ', 'ADV', 'CONJ', 'PRON', 'VERB', 'PRON', 'ADJ', '.']\n",
      "Gold: ['PRON', 'VERB', 'PRON', '.', 'CONJ', 'PRT', 'ADP', 'ADP', 'PRON', 'VERB', 'ADJ', 'PRON', 'VERB', 'ADV', '.']\n",
      "Pred: ['PRON', 'VERB', 'PRON', '.', 'CONJ', 'ADV', 'ADP', 'ADV', 'PRON', 'VERB', 'ADJ', 'PRON', 'VERB', 'ADV', '.']\n",
      "Gold: ['PRON', 'VERB', 'DET', 'NOUN', '.', 'PRON', 'VERB', 'VERB', 'DET', 'NOUN', 'ADP', 'ADP', 'PRON', 'ADV', '.', 'ADV', 'VERB', 'ADV', 'ADP', 'DET', 'ADJ', '.', 'CONJ', 'PRON', 'VERB', 'ADJ', '.']\n",
      "Pred: ['PRON', 'VERB', 'DET', 'NOUN', '.', 'PRON', 'VERB', 'VERB', 'DET', 'NOUN', 'ADP', 'ADP', 'PRON', 'ADV', '.', 'ADV', 'VERB', 'ADV', 'ADP', 'DET', 'ADJ', '.', 'CONJ', 'PRON', 'VERB', 'ADJ', '.']\n",
      "Gold: ['PRON', 'VERB', 'PRON', 'VERB', 'ADJ', '.', 'CONJ', 'PRON', 'VERB', 'VERB', 'PRON', '.']\n",
      "Pred: ['PRON', 'VERB', 'PRON', 'VERB', 'ADJ', '.', 'CONJ', 'PRON', 'VERB', 'VERB', 'PRON', '.']\n",
      "Gold: ['PRON', 'VERB', 'PRT', 'VERB', 'VERB', '.', 'ADV', '.', 'ADV', '.', 'ADP', 'DET', 'ADJ', '.', 'ADJ', 'NOUN', 'ADP', 'DET', 'NOUN', 'VERB', '.']\n",
      "Pred: ['PRON', 'VERB', 'PRT', 'VERB', 'VERB', '.', 'ADV', '.', 'ADV', '.', 'ADP', 'DET', 'ADJ', '.', 'ADJ', 'NOUN', 'CONJ', 'DET', 'NOUN', 'VERB', '.']\n",
      "Gold: ['ADV', 'PRON', 'VERB', '.', '.', 'X', '.', '.', 'CONJ', 'PRON', 'VERB', 'PRT', 'CONJ', 'VERB', 'ADP', 'DET', 'NOUN', 'ADP', 'DET', 'NOUN', '.']\n",
      "Pred: ['ADV', 'PRON', 'VERB', '.', '.', 'VERB', '.', '.', 'CONJ', 'PRON', 'VERB', 'PRT', 'CONJ', 'VERB', 'ADP', 'DET', 'NOUN', 'ADP', 'DET', 'NOUN', '.']\n",
      "Gold: ['PRON', 'VERB', 'DET', 'NOUN', 'ADP', 'PRON', '.']\n",
      "Pred: ['PRON', 'VERB', 'DET', 'NOUN', 'ADP', 'PRON', '.']\n",
      "Gold: ['PRON', 'VERB', 'CONJ', 'VERB', 'NOUN', 'ADP', 'DET', 'ADJ', 'NOUN', 'PRON', 'VERB', 'ADV', 'VERB', 'ADP', 'NOUN', '.']\n",
      "Pred: ['PRON', 'VERB', 'CONJ', 'VERB', 'NOUN', 'ADP', 'DET', 'ADJ', 'NOUN', 'PRON', 'VERB', 'ADV', 'VERB', 'ADP', 'NOUN', '.']\n",
      "Gold: ['PRON', 'VERB', 'NUM', 'VERB', 'DET', 'ADJ', 'NOUN', 'ADP', 'DET', 'NOUN', '.']\n",
      "Pred: ['PRON', 'VERB', 'NUM', 'VERB', 'DET', 'ADJ', 'NOUN', 'ADP', 'PRON', 'NOUN', '.']\n",
      "Gold: ['PRON', 'VERB', 'DET', 'ADJ', 'ADJ', 'NOUN', 'ADP', 'DET', 'NOUN', '.', 'ADP', 'DET', 'ADJ', 'NOUN', '.']\n",
      "Pred: ['PRON', 'VERB', 'DET', 'ADJ', 'ADJ', 'NOUN', 'ADP', 'PRON', 'NOUN', '.', 'ADP', 'DET', 'ADJ', 'NOUN', '.']\n"
     ]
    },
    {
     "name": "stderr",
     "output_type": "stream",
     "text": [
      "LLM POS Tagging:  68%|██████▊   | 34/50 [18:28<09:23, 35.22s/it]"
     ]
    },
    {
     "name": "stdout",
     "output_type": "stream",
     "text": [
      "Gold: ['PRON', 'VERB', 'PRON', 'VERB', 'ADV', 'VERB', '.', 'ADP', 'PRON', 'VERB', 'ADP', 'DET', 'ADJ', 'NOUN', '.', 'ADV', 'VERB', '.', 'VERB', 'PRT', 'VERB', 'DET', 'ADJ', 'NOUN', 'NOUN', 'ADP', 'DET', 'NOUN', '.', 'DET', 'VERB', 'ADJ', 'ADV', 'DET', 'NOUN', 'VERB', 'VERB', '.']\n",
      "Pred: ['PRON', 'VERB', 'PRON', 'VERB', 'ADV', 'ADJ', '.', 'CONJ', 'PRON', 'VERB', 'ADP', 'DET', 'ADJ', 'NOUN', '.', 'ADV', 'ADJ', '.', 'ADJ', 'PRT', 'VERB', 'DET', 'ADJ', 'NOUN', 'NOUN', 'ADP', 'DET', 'NOUN', '.', 'PRON', 'VERB', 'ADJ', 'ADV', 'DET', 'NOUN', 'VERB', 'VERB', '.']\n",
      "Gold: ['PRON', 'VERB', 'ADJ', '.', 'DET', 'ADJ', 'NOUN', 'ADP', 'ADJ', 'NOUN', 'NOUN', '.']\n",
      "Pred: ['PRON', 'VERB', 'ADJ', '.', 'DET', 'ADJ', 'NOUN', 'ADP', 'ADJ', 'NOUN', 'NOUN', '.']\n",
      "Gold: ['DET', 'NOUN', 'VERB', 'ADJ', '.']\n",
      "Pred: ['PRON', 'NOUN', 'VERB', 'ADJ', '.']\n",
      "Gold: ['PRON', 'VERB', 'ADJ', 'ADP', 'DET', 'NOUN', '.', 'CONJ', 'DET', 'NOUN', 'VERB', 'ADJ', 'CONJ', 'ADJ', '.']\n",
      "Pred: ['PRON', 'VERB', 'ADJ', 'ADP', 'DET', 'NOUN', '.', 'CONJ', 'PRON', 'NOUN', 'VERB', 'ADJ', 'CONJ', 'ADJ', '.']\n",
      "Gold: ['.', 'X', 'X', '.', '.', 'PRON', 'VERB', 'ADV', '.', 'VERB', 'PRT', '.', 'DET', 'VERB', 'DET', 'NOUN', 'ADP', 'DET', 'NOUN', '.']\n",
      "Pred: ['.', 'X', 'X', '.', '.', 'PRON', 'VERB', 'ADV', '.', 'VERB', 'PRT', '.', 'PRON', 'VERB', 'DET', 'NOUN', 'PRT', 'PRON', 'NOUN', '.']\n",
      "Gold: ['PRON', 'VERB', 'ADV', '.', 'ADP', 'DET', 'ADJ', 'VERB', 'NOUN', 'CONJ', 'DET', 'NOUN', '.']\n",
      "Pred: ['PRON', 'VERB', 'ADJ', '.', 'ADP', 'PRON', 'ADJ', 'ADJ', 'NOUN', 'CONJ', 'DET', 'NOUN', '.']\n",
      "Gold: ['ADV', 'ADV', 'ADP', 'NUM', '.', 'PRON', 'VERB', '.']\n",
      "Pred: ['ADV', 'ADJ', 'ADP', 'NUM', '.', 'PRON', 'VERB', '.']\n",
      "Gold: ['.', 'X', 'X', '.', '.', '.']\n",
      "Pred: ['.', 'X', 'X', '.', '.', '.']\n",
      "Gold: ['PRON', 'VERB', '.', 'VERB', '.']\n",
      "Pred: ['PRON', 'VERB', '.', 'VERB', '.']\n",
      "Gold: ['.', 'X', 'X', '.', '.', '.']\n",
      "Pred: ['.', 'X', 'X', '.', '.', '.']\n"
     ]
    },
    {
     "name": "stderr",
     "output_type": "stream",
     "text": [
      "LLM POS Tagging:  70%|███████   | 35/50 [18:53<08:01, 32.09s/it]"
     ]
    },
    {
     "name": "stdout",
     "output_type": "stream",
     "text": [
      "Gold: ['.', 'ADV', '.', 'CONJ', 'NOUN', 'ADV', '.', '.']\n",
      "Pred: ['.', 'X', '.', 'CONJ', 'NOUN', 'ADV', '.', '.']\n",
      "Gold: ['ADP', 'DET', 'NOUN', 'PRON', 'VERB', 'PRON', 'ADP', 'DET', 'NOUN', '.']\n",
      "Pred: ['ADP', 'DET', 'NOUN', 'PRON', 'VERB', 'PRON', 'PRT', 'DET', 'NOUN', '.']\n",
      "Gold: ['PRON', 'VERB', 'ADV', 'ADP', 'NOUN', 'CONJ', 'DET', 'NOUN', 'ADP', 'PRON', '.']\n",
      "Pred: ['PRON', 'VERB', 'ADV', 'ADP', 'NOUN', 'CONJ', 'DET', 'NOUN', 'ADP', 'PRON', '.']\n",
      "Gold: ['PRON', 'VERB', 'PRT', 'ADJ', 'ADP', 'DET', 'ADJ', 'NOUN', '.', 'CONJ', 'PRON', 'VERB', 'PRON', 'DET', 'NOUN', '.']\n",
      "Pred: ['PRON', 'VERB', 'PRT', 'ADJ', 'ADP', 'DET', 'ADJ', 'NOUN', '.', 'CONJ', 'PRON', 'VERB', 'PRON', 'DET', 'NOUN', '.']\n",
      "Gold: ['PRON', 'VERB', 'VERB', 'DET', 'NOUN', '.', 'VERB', '.', 'VERB', 'CONJ', 'VERB', 'ADP', 'DET', 'NOUN', 'DET', 'NOUN', 'VERB', 'PRT', 'NOUN', '.']\n",
      "Pred: ['PRON', 'VERB', 'VERB', 'DET', 'NOUN', '.', 'VERB', '.', 'VERB', 'CONJ', 'VERB', 'ADP', 'DET', 'NOUN', 'DET', 'NOUN', 'VERB', 'PRT', 'NOUN', '.']\n",
      "Gold: ['.', 'DET', 'NOUN', 'NOUN', '.', '.', 'PRON', 'VERB', '.', 'VERB', 'PRON', '.']\n",
      "Pred: ['.', 'DET', 'NOUN', 'NOUN', '.', '.', 'PRON', 'VERB', '.', 'VERB', 'PRON', '.']\n",
      "Gold: ['PRON', 'VERB', 'PRON', 'ADP', 'DET', 'NOUN', '.']\n",
      "Pred: ['PRON', 'VERB', 'PRON', 'PRT', 'DET', 'NOUN', '.']\n",
      "Gold: ['.', 'DET', 'VERB', 'DET', 'ADP', '.', '.', '.']\n",
      "Pred: ['.', 'PRON', 'VERB', 'DET', 'ADP', '.', '.']\n",
      "Gold: ['PRON', 'VERB', 'ADV', '.']\n",
      "Pred: ['PRON', 'VERB', 'ADV', '.']\n",
      "Gold: ['.', 'ADV', '.', 'PRT', 'VERB', 'DET', 'NOUN', '.', '.']\n",
      "Pred: ['.', 'ADV', '.', 'PRT', 'VERB', 'PRON', 'NOUN', '.', '.']\n"
     ]
    },
    {
     "name": "stderr",
     "output_type": "stream",
     "text": [
      "LLM POS Tagging:  72%|███████▏  | 36/50 [19:24<07:25, 31.83s/it]"
     ]
    },
    {
     "name": "stdout",
     "output_type": "stream",
     "text": [
      "Gold: ['.', 'CONJ', 'PRON', 'ADV', 'VERB', '.', '.']\n",
      "Pred: ['.', 'CONJ', 'PRON', 'ADV', 'VERB', '.', '.']\n",
      "Gold: ['PRON', 'VERB', 'PRON', '.', '.']\n",
      "Pred: ['PRON', 'VERB', 'PRON', '.', '.']\n",
      "Gold: ['.', 'PRT', '.', '.', '.']\n",
      "Pred: ['.', 'X', '.', '.', '.']\n",
      "Gold: ['PRON', 'VERB', 'ADP', 'ADJ', 'NOUN', '.']\n",
      "Pred: ['PRON', 'VERB', 'ADP', 'ADJ', 'NOUN', '.']\n",
      "Gold: ['PRON', 'VERB', 'ADP', 'PRON', 'VERB', 'PRT', 'VERB', 'VERB', 'DET', 'ADJ', 'NOUN', 'PRON', '.']\n",
      "Pred: ['PRON', 'VERB', 'CONJ', 'PRON', 'VERB', 'PRT', 'VERB', 'VERB', 'DET', 'ADJ', 'NUM', 'PRON', '.']\n",
      "Gold: ['CONJ', 'PRON', 'VERB', 'DET', 'NOUN', '.', 'CONJ', 'VERB', '.', 'DET', 'DET', 'NOUN', '.', 'VERB', 'ADV', '.', 'PRON', 'VERB', 'PRON', 'VERB', 'VERB', 'DET', 'NOUN', 'ADV', '.']\n",
      "Pred: ['CONJ', 'PRON', 'VERB', 'DET', 'NOUN', '.', 'CONJ', 'VERB', '.', 'PRON', 'DET', 'NOUN', '.', 'VERB', 'ADV', '.', 'PRON', 'VERB', 'PRON', 'VERB', 'VERB', 'DET', 'NOUN', 'ADV', '.']\n",
      "Gold: ['DET', 'NOUN', 'VERB', 'ADV', 'ADJ', 'ADV', '.', 'VERB', 'ADP', 'DET', 'NOUN', 'NOUN', '.', 'CONJ', 'PRON', 'VERB', 'ADJ', '.']\n",
      "Pred: ['DET', 'NOUN', 'VERB', 'ADV', 'ADJ', 'CONJ', '.', 'VERB', 'ADP', 'DET', 'ADJ', 'NOUN', '.', 'CONJ', 'PRON', 'VERB', 'ADJ', '.']\n",
      "Gold: ['PRON', 'VERB', 'DET', 'NOUN', 'ADV', 'CONJ', 'VERB', 'DET', 'ADJ', 'VERB', 'ADP', 'ADJ', 'NOUN', '.', 'ADJ', 'ADJ', 'NOUN', 'CONJ', 'ADJ', 'NOUN', 'NOUN', '.']\n",
      "Pred: ['PRON', 'VERB', 'DET', 'NOUN', 'ADV', 'CONJ', 'VERB', 'DET', 'ADJ', 'NOUN', 'ADP', 'ADJ', 'NOUN', '.', 'ADJ', 'ADJ', 'NOUN', 'CONJ', 'ADJ', 'ADJ', 'NOUN', '.']\n",
      "Gold: ['ADP', 'PRON', 'VERB', '.', 'PRON', 'VERB', '.']\n",
      "Pred: ['ADP', 'PRON', 'VERB', '.', 'PRON', 'VERB', '.']\n",
      "Gold: ['DET', 'NOUN', 'VERB', 'NOUN', '.', 'CONJ', 'PRON', 'NOUN', '.']\n",
      "Pred: ['PRON', 'NOUN', 'VERB', 'NOUN', '.', 'CONJ', 'PRON', 'NOUN', '.']\n"
     ]
    },
    {
     "name": "stderr",
     "output_type": "stream",
     "text": [
      "LLM POS Tagging:  74%|███████▍  | 37/50 [19:58<07:00, 32.36s/it]"
     ]
    },
    {
     "name": "stdout",
     "output_type": "stream",
     "text": [
      "Gold: ['PRON', 'VERB', 'ADV', 'ADV', 'ADP', 'DET', 'NOUN', 'ADP', 'DET', 'ADJ', 'NOUN', 'ADP', 'NOUN', '.']\n",
      "Pred: ['PRON', 'VERB', 'ADV', 'ADV', 'ADP', 'DET', 'NOUN', 'ADP', 'DET', 'ADJ', 'NOUN', 'ADP', 'NOUN', '.']\n",
      "Gold: ['.', 'PRON', 'VERB', 'ADV', 'ADJ', '.', 'VERB', 'PRON', 'VERB', '.', 'NOUN', '.', '.', 'PRON', 'VERB', '.']\n",
      "Pred: ['.', 'PRON', 'VERB', 'ADV', 'ADJ', '.', 'VERB', 'PRON', 'VERB', '.', 'NOUN', '.', '.', 'PRON', 'VERB', '.']\n",
      "Gold: ['.', 'PRT', '.', '.', '.']\n",
      "Pred: ['.', 'X', '.', '.', '.']\n",
      "Gold: ['PRON', 'VERB', '.', 'VERB', '.']\n",
      "Pred: ['PRON', 'VERB', '.', 'VERB', '.']\n",
      "Gold: ['.', 'ADV', '.', 'ADP', 'PRON', 'VERB', 'VERB', 'PRT', 'PRT', 'VERB', 'DET', 'ADJ', 'NOUN', '.', '.']\n",
      "Pred: ['.', 'ADV', '.', 'CONJ', 'PRON', 'VERB', 'VERB', 'PRT', 'PRT', 'VERB', 'DET', 'ADJ', 'NOUN', '.', '.']\n",
      "Gold: ['PRON', 'VERB', 'DET', 'NOUN', 'PRT', 'VERB', 'ADP', 'PRON', 'ADP', 'DET', 'NOUN', '.']\n",
      "Pred: ['PRON', 'VERB', 'DET', 'NOUN', 'PRT', 'VERB', 'ADP', 'PRON', 'ADP', 'DET', 'NOUN', '.']\n",
      "Gold: ['.', 'PRON', 'VERB', 'ADV', 'VERB', 'PRON', '.', '.', 'PRON', 'VERB', 'PRT', '.']\n",
      "Pred: ['.', 'PRON', 'VERB', 'ADV', 'VERB', 'PRON', '.', '.', 'PRON', 'VERB', 'PRT', '.']\n",
      "Gold: ['.', 'PRON', 'VERB', 'NUM', 'ADP', 'DET', 'NOUN', '.']\n",
      "Pred: ['.', 'PRON', 'VERB', 'NUM', 'ADP', 'DET', 'NOUN', '.']\n",
      "Gold: ['PRON', 'VERB', 'NOUN', 'ADV', 'VERB', 'X', 'X', '.', '.']\n",
      "Pred: ['PRON', 'VERB', 'NOUN', 'ADV', 'VERB', 'DET', 'NOUN', '.', '.']\n",
      "Gold: ['ADP', 'DET', 'ADJ', 'NOUN', '.', 'PRON', 'VERB', 'DET', 'NOUN', 'ADP', 'DET', 'ADJ', 'NOUN', '.', '.', 'VERB', 'PRON', 'VERB', 'ADP', 'DET', 'NOUN', 'NOUN', '.', '.', '.']\n",
      "Pred: ['PRT', 'DET', 'ADJ', 'NOUN', '.', 'PRON', 'VERB', 'DET', 'NOUN', 'ADP', 'DET', 'ADJ', 'NOUN', '.', '.', 'VERB', 'PRON', 'VERB', 'ADP', 'DET', 'NOUN', 'ADV', '.', '.', '.']\n"
     ]
    },
    {
     "name": "stderr",
     "output_type": "stream",
     "text": [
      "LLM POS Tagging:  76%|███████▌  | 38/50 [20:19<05:50, 29.19s/it]"
     ]
    },
    {
     "name": "stdout",
     "output_type": "stream",
     "text": [
      "Gold: ['.', 'ADV', 'ADV', '.', '.']\n",
      "Pred: ['.', 'DET', 'ADJ', '.', '.']\n",
      "Gold: ['PRON', 'VERB', 'ADP', 'NOUN', 'ADP', 'DET', 'NOUN', '.']\n",
      "Pred: ['PRON', 'VERB', 'ADP', 'NOUN', 'ADP', 'DET', 'NOUN', '.']\n",
      "Gold: ['.', 'CONJ', 'ADV', 'ADV', '.', '.']\n",
      "Pred: ['.', 'CONJ', 'ADV', 'ADV', '.', '.']\n",
      "Gold: ['PRON', 'VERB', 'ADV', 'DET', 'ADJ', 'NOUN', '.']\n",
      "Pred: ['PRON', 'VERB', 'PRT', 'PRON', 'ADJ', 'NOUN', '.']\n",
      "Gold: ['PRON', 'VERB', 'PRT', 'DET', 'NOUN', 'ADP', 'DET', 'ADJ', '.', 'ADJ', 'NOUN', '.', 'CONJ', 'VERB', 'DET', 'ADJ', '.']\n",
      "Pred: ['PRON', 'VERB', 'PRT', 'DET', 'NOUN', 'ADP', 'PRON', 'ADJ', '.', 'ADJ', 'NOUN', '.', 'CONJ', 'VERB', 'PRON', 'PRON', '.']\n",
      "Gold: ['PRON', 'VERB', 'ADV', 'VERB', '.']\n",
      "Pred: ['PRON', 'VERB', 'ADV', 'VERB', '.']\n",
      "Gold: ['.', 'DET', 'VERB', 'DET', 'ADP', '.', '.', '.']\n",
      "Pred: ['.', 'PRON', 'VERB', 'PRON', 'ADP', '.', '.', '.']\n",
      "Gold: ['PRON', 'VERB', '.', 'VERB', 'DET', 'NOUN', 'ADP', 'DET', 'NOUN', '.']\n",
      "Pred: ['PRON', 'VERB', '.', 'VERB', 'DET', 'NOUN', 'ADP', 'PRON', 'NOUN', '.']\n",
      "Gold: ['PRON', 'VERB', 'ADP', 'DET', 'ADJ', 'ADJ', 'NOUN', 'VERB', 'ADP', 'DET', 'ADJ', 'NOUN', '.']\n",
      "Pred: ['PRON', 'VERB', 'ADP', 'DET', 'ADJ', 'ADJ', 'NOUN', 'VERB', 'ADP', 'DET', 'ADJ', 'NOUN', '.']\n",
      "Gold: ['.', 'DET', 'NOUN', '.', '.', 'PRON', 'VERB', '.']\n",
      "Pred: ['.', 'DET', 'NOUN', '.', '.', 'PRON', 'VERB', '.']\n"
     ]
    },
    {
     "name": "stderr",
     "output_type": "stream",
     "text": [
      "LLM POS Tagging:  78%|███████▊  | 39/50 [20:57<05:50, 31.87s/it]"
     ]
    },
    {
     "name": "stdout",
     "output_type": "stream",
     "text": [
      "Gold: ['DET', 'NOUN', 'VERB', 'ADV', 'ADP', 'DET', 'NOUN', '.', 'DET', 'ADJ', 'NOUN', '.', 'CONJ', 'PRON', 'VERB', 'ADP', 'NUM', 'VERB', 'ADV', 'ADV', 'ADV', 'ADJ', 'ADP', 'PRT', '.']\n",
      "Pred: ['DET', 'NOUN', 'VERB', 'ADV', 'ADP', 'PRON', 'NOUN', '.', 'DET', 'ADJ', 'NOUN', '.', 'CONJ', 'PRON', 'VERB', 'CONJ', 'NUM', 'VERB', 'PRT', 'ADV', 'ADV', 'ADJ', 'ADV', 'ADV', '.']\n",
      "Gold: ['PRON', 'VERB', 'NOUN', 'ADV', '.', 'CONJ', 'VERB', 'ADP', 'PRON', 'ADV', '.']\n",
      "Pred: ['PRON', 'VERB', 'NOUN', 'ADV', '.', 'CONJ', 'VERB', 'ADP', 'PRON', 'ADV', '.']\n",
      "Gold: ['PRON', 'VERB', 'ADP', 'DET', 'NOUN', 'ADP', 'DET', 'ADJ', 'NOUN', '.', 'ADV', 'ADP', 'NOUN', 'ADP', 'DET', 'NOUN', 'ADP', 'NOUN', '.']\n",
      "Pred: ['PRON', 'VERB', 'ADP', 'DET', 'NOUN', 'ADP', 'DET', 'ADJ', 'NOUN', '.', 'ADV', 'ADP', 'NOUN', 'ADP', 'DET', 'NOUN', 'ADP', 'NOUN', '.']\n",
      "Gold: ['PRON', 'VERB', 'DET', 'ADJ', 'NOUN', '.', 'ADV', 'VERB', 'ADP', 'NOUN', '.']\n",
      "Pred: ['PRON', 'VERB', 'DET', 'ADJ', 'NOUN', '.', 'PRT', 'VERB', 'ADP', 'NOUN', '.']\n",
      "Gold: ['PRON', 'VERB', 'NOUN', 'CONJ', 'VERB', 'NOUN', '.']\n",
      "Pred: ['PRON', 'VERB', 'NOUN', 'CONJ', 'ADJ', 'NOUN', '.']\n",
      "Gold: ['DET', 'NOUN', 'VERB', 'DET', 'NOUN', 'ADV', '.', 'DET', 'NOUN', 'ADV', 'ADP', 'DET', 'NOUN', 'PRON', 'VERB', 'VERB', '.']\n",
      "Pred: ['DET', 'NOUN', 'VERB', 'DET', 'NOUN', 'ADV', '.', 'DET', 'NOUN', 'ADV', 'ADP', 'DET', 'NOUN', 'PRON', 'VERB', 'VERB', '.']\n",
      "Gold: ['PRON', 'VERB', 'VERB', 'VERB', 'PRON', 'VERB', 'DET', 'NOUN', '.']\n",
      "Pred: ['PRON', 'VERB', 'VERB', 'VERB', 'PRON', 'VERB', 'DET', 'NOUN', '.']\n",
      "Gold: ['PRON', 'VERB', 'PRON', 'ADP', 'DET', 'ADJ', 'NOUN', 'CONJ', 'VERB', '.', '.', 'PRT', 'DET', 'ADP', '.', '.']\n",
      "Pred: ['PRON', 'VERB', 'PRON', 'ADP', 'DET', 'ADJ', 'NOUN', 'CONJ', 'VERB', '.', '.', 'PRON', 'VERB', 'PRON', 'ADP', '.', '.']\n",
      "Gold: ['PRON', 'VERB', 'VERB', 'ADP', 'DET', 'NOUN', 'ADP', 'NOUN', '.', '.']\n",
      "Pred: ['PRON', 'VERB', 'PRT', 'VERB', 'ADP', 'DET', 'NOUN', 'ADP', 'NOUN', '.', '.']\n",
      "Gold: ['PRON', 'VERB', 'DET', 'VERB', 'ADV', 'ADJ', '.', 'CONJ', 'PRON', 'VERB', 'VERB', '.']\n",
      "Pred: ['PRON', 'VERB', 'CONJ', 'VERB', 'ADV', 'ADJ', '.', 'CONJ', 'PRON', 'VERB', 'PRT', 'VERB', '.']\n"
     ]
    },
    {
     "name": "stderr",
     "output_type": "stream",
     "text": [
      "LLM POS Tagging:  80%|████████  | 40/50 [21:50<06:21, 38.18s/it]"
     ]
    },
    {
     "name": "stdout",
     "output_type": "stream",
     "text": [
      "Gold: ['NUM', 'NOUN', 'VERB', 'VERB', 'ADP', 'NOUN', 'NOUN', 'NOUN', '.', 'PRON', 'VERB', 'PRON', 'ADP', 'DET', 'NOUN', '.']\n",
      "Pred: ['NUM', 'NOUN', 'VERB', 'VERB', 'ADP', 'DET', 'NOUN', 'NOUN', '.', 'PRON', 'VERB', 'PRON', 'ADP', 'PRON', 'NOUN', '.']\n",
      "Gold: ['PRON', 'VERB', 'ADV', 'VERB', 'PRT', 'VERB', 'PRON', 'ADP', 'ADJ', 'NOUN', '.', 'ADP', 'ADJ', 'VERB', 'VERB', '.', 'VERB', 'ADP', 'NOUN', 'CONJ', 'VERB', 'ADP', 'DET', 'NOUN', '.', 'CONJ', 'VERB', 'DET', 'NOUN', 'PRT', 'ADP', 'DET', 'NOUN', '.']\n",
      "Pred: ['PRON', 'VERB', 'ADV', 'VERB', 'PRT', 'VERB', 'PRON', 'ADP', 'NOUN', 'NOUN', '.', 'ADP', 'DET', 'VERB', 'VERB', '.', 'VERB', 'ADP', 'NOUN', 'CONJ', 'VERB', 'ADP', 'DET', 'NOUN', '.', 'CONJ', 'VERB', 'PRON', 'NOUN', 'PRT', 'ADP', 'DET', 'NOUN', '.']\n",
      "Gold: ['DET', 'VERB', 'DET', 'ADJ', 'NOUN', 'ADP', 'NOUN', 'CONJ', 'PRON', 'VERB', 'NOUN', '.']\n",
      "Pred: ['DET', 'VERB', 'PRON', 'ADJ', 'NOUN', 'ADP', 'NOUN', 'CONJ', 'PRON', 'VERB', 'NOUN', '.']\n",
      "Gold: ['DET', 'ADJ', 'NOUN', 'ADP', 'DET', 'ADV', 'ADJ', 'NOUN', 'VERB', 'ADV', '.']\n",
      "Pred: ['DET', 'ADJ', 'NOUN', 'ADP', 'DET', 'ADV', 'ADJ', 'ADJ', 'VERB', 'ADV', '.']\n",
      "Gold: ['ADP', 'DET', 'NOUN', 'NOUN', '.', 'DET', 'NOUN', 'VERB', 'ADV', '.', 'ADV', 'ADV', '.', 'ADP', 'DET', 'NOUN', 'ADJ', 'NOUN', 'ADP', 'NOUN', '.', 'PRON', 'VERB', 'DET', 'NOUN', 'ADP', 'ADP', 'ADV', '.', 'VERB', 'ADP', 'DET', 'ADJ', 'ADJ', 'NOUN', 'ADP', 'DET', 'NOUN', 'VERB', '.', 'NOUN', 'CONJ', 'NOUN', '.', 'ADV', 'DET', 'NOUN', '.', 'ADV', 'DET', 'NOUN', '.', 'CONJ', 'PRT', 'ADV', 'DET', 'ADJ', 'ADJ', 'NOUN', '.']\n",
      "Pred: ['ADP', 'PRON', 'NOUN', 'NOUN', '.', 'PRON', 'NOUN', 'VERB', 'ADV', '.', 'ADV', 'ADV', '.', 'ADP', 'DET', 'NOUN', 'ADJ', 'NOUN', 'ADP', 'NOUN', '.', 'PRON', 'VERB', 'DET', 'NOUN', 'ADP', 'ADP', 'ADV', '.', 'VERB', 'ADP', 'PRON', 'ADJ', 'ADJ', 'NOUN', 'PRON', 'DET', 'NOUN', 'VERB', '.', 'NOUN', 'CONJ', 'NOUN', '.', 'ADV', 'DET', 'NOUN', '.', 'ADV', 'DET', 'NOUN', '.', 'CONJ', 'ADV', 'ADP', 'DET', 'ADJ', 'ADJ', 'NOUN', '.']\n",
      "Gold: ['NOUN', 'ADP', 'ADJ', 'ADJ', 'NOUN', 'VERB', 'ADP', 'PRON', '.', 'DET', 'NOUN', 'NOUN', 'NOUN', '.', 'DET', 'NOUN', '.', 'DET', 'NOUN', 'ADP', 'NOUN', '.']\n",
      "Pred: ['NOUN', 'ADP', 'ADJ', 'ADJ', 'NOUN', 'VERB', 'ADP', 'PRON', '.', 'DET', 'NOUN', 'NOUN', 'NOUN', '.', 'DET', 'NOUN', '.', 'DET', 'NOUN', 'ADP', 'NOUN', '.']\n",
      "Gold: ['PRON', 'VERB', 'VERB', 'PRON', '.', 'VERB', 'ADV', 'ADP', 'PRON', 'VERB', 'ADP', 'DET', 'NOUN', '.', 'CONJ', 'DET', 'VERB', 'VERB', 'PRT', 'DET', 'NOUN', 'ADP', 'DET', 'NOUN', '.']\n",
      "Pred: ['PRON', 'VERB', 'VERB', 'PRON', '.', 'VERB', 'ADV', 'ADP', 'PRON', 'VERB', 'ADP', 'DET', 'NOUN', '.', 'CONJ', 'DET', 'VERB', 'VERB', 'PRT', 'DET', 'NOUN', 'ADP', 'PRON', 'NOUN', '.']\n",
      "Gold: ['ADV', '.', 'VERB', 'ADJ', 'NOUN', '.', 'DET', 'NOUN', '.', 'ADV', 'DET', 'NOUN', '.', 'ADV', 'DET', 'NOUN', '.', 'ADP', 'DET', 'ADJ', 'NOUN', '.', 'NOUN', 'VERB', 'VERB', 'PRON', 'DET', 'NOUN', 'VERB', 'ADV', 'ADJ', '.', '.', 'NOUN', 'VERB', 'VERB', 'DET', 'NOUN', 'PRT', 'VERB', 'PRT', 'DET', 'NOUN', '.']\n",
      "Pred: ['ADV', '.', 'VERB', 'ADJ', 'NOUN', '.', 'PRON', 'NOUN', '.', 'ADV', 'PRON', 'NOUN', '.', 'ADV', 'PRON', 'NOUN', '.', 'ADP', 'PRON', 'ADJ', 'NOUN', '.', 'PRON', 'VERB', 'VERB', 'PRON', 'DET', 'NOUN', 'VERB', 'ADV', 'ADJ', '.', '.', 'NOUN', 'VERB', 'VERB', 'DET', 'NOUN', 'PRT', 'VERB', 'ADV', 'DET', 'NOUN', '.']\n",
      "Gold: ['NOUN', '.', 'NOUN', '.', 'NOUN', '.', 'NOUN', '.', 'CONJ', 'NOUN', 'VERB', 'PRT', 'VERB', 'VERB', 'ADP', 'PRON', 'NOUN', 'CONJ', 'ADV', '.', 'CONJ', 'ADP', 'DET', 'VERB', 'NOUN', 'ADP', 'NOUN', 'CONJ', 'NOUN', '.', 'PRON', 'VERB', 'VERB', 'DET', 'ADJ', 'NOUN', 'ADP', 'NOUN', '.', 'PRT', 'VERB', 'PRT', 'DET', 'NOUN', 'ADP', 'DET', 'ADJ', 'NOUN', '.']\n",
      "Pred: ['NOUN', '.', 'NOUN', '.', 'NOUN', '.', 'NOUN', '.', 'CONJ', 'NOUN', 'VERB', 'ADV', 'VERB', 'VERB', 'ADP', 'PRON', 'NOUN', 'CONJ', 'ADV', '.', 'CONJ', 'ADP', 'DET', 'ADJ', 'NOUN', 'ADP', 'NOUN', 'CONJ', 'NOUN', '.', 'PRON', 'VERB', 'VERB', 'DET', 'ADJ', 'NOUN', 'ADP', 'NOUN', '.', 'PRT', 'VERB', 'DET', 'DET', 'NOUN', 'ADP', 'PRON', 'ADJ', 'NOUN', '.']\n",
      "Gold: ['DET', 'ADJ', 'NOUN', 'ADP', 'DET', 'NOUN', 'NOUN', 'PRON', 'VERB', 'VERB', '.', 'ADP', 'ADV', 'VERB', 'ADP', 'DET', 'NOUN', '.', 'ADV', 'PRON', 'VERB', 'VERB', '.']\n",
      "Pred: ['DET', 'ADV', 'NOUN', 'ADP', 'PRON', 'NOUN', 'NOUN', 'PRON', 'VERB', 'VERB', '.', 'ADV', 'ADV', 'VERB', 'ADP', 'DET', 'NOUN', '.', 'ADV', 'PRON', 'VERB', 'VERB', '.']\n"
     ]
    },
    {
     "name": "stderr",
     "output_type": "stream",
     "text": [
      "LLM POS Tagging:  82%|████████▏ | 41/50 [22:30<05:46, 38.46s/it]"
     ]
    },
    {
     "name": "stdout",
     "output_type": "stream",
     "text": [
      "Gold: ['PRT', 'NOUN', 'PRT', 'VERB', 'PRON', 'ADV', '.']\n",
      "Pred: ['PRON', 'VERB', 'PRON', 'PRT', 'VERB', 'PRON', 'ADV', '.']\n",
      "Gold: ['ADP', 'ADV', 'PRON', 'VERB', '.', 'ADV', 'VERB', 'NOUN', '.', 'ADV', '.', 'CONJ', 'ADV', 'ADJ', '.']\n",
      "Pred: ['ADV', 'ADV', 'PRON', 'VERB', '.', 'ADV', 'VERB', 'NOUN', '.', 'ADV', '.', 'CONJ', 'ADV', 'ADJ', '.']\n",
      "Gold: ['ADP', 'DET', 'NOUN', 'DET', 'NOUN', 'VERB', 'ADV', 'VERB', '.']\n",
      "Pred: ['ADP', 'DET', 'NOUN', 'DET', 'NOUN', 'VERB', 'ADV', 'ADJ', '.']\n",
      "Gold: ['NOUN', '.', 'NOUN', '.', 'NOUN', '.', 'CONJ', 'NOUN', 'PRT', 'VERB', 'VERB', 'ADP', 'ADV', 'ADP', 'DET', 'ADJ', 'NOUN', 'ADP', 'PRON', 'CONJ', 'VERB', 'ADV', 'ADP', 'DET', 'NOUN', '.']\n",
      "Pred: ['NOUN', '.', 'NOUN', '.', 'NOUN', '.', 'CONJ', 'NOUN', 'ADV', 'VERB', 'VERB', 'ADP', 'ADV', 'ADP', 'DET', 'ADJ', 'NOUN', 'ADP', 'PRON', 'CONJ', 'VERB', 'ADV', 'ADP', 'DET', 'NOUN', '.']\n",
      "Gold: ['NOUN', 'ADP', 'NOUN', 'VERB', 'ADP', 'PRON', 'ADP', 'ADJ', 'NOUN', '.', 'ADJ', 'NOUN', 'NOUN', 'ADP', 'ADJ', 'NOUN', '.', 'ADJ', 'NOUN', 'ADP', 'NOUN', 'VERB', '.', 'ADV', 'VERB', 'NOUN', 'VERB', 'ADP', 'NOUN', 'NOUN', '.']\n",
      "Pred: ['NOUN', 'ADP', 'NOUN', 'VERB', 'ADP', 'PRON', 'ADP', 'ADJ', 'NOUN', '.', 'ADJ', 'NOUN', 'NOUN', 'ADP', 'ADJ', 'NOUN', '.', 'ADJ', 'NOUN', 'ADP', 'NOUN', 'ADJ', '.', 'ADV', 'ADJ', 'NOUN', 'VERB', 'ADP', 'NOUN', 'NOUN', '.']\n",
      "Gold: ['ADJ', 'PRT', 'VERB', 'ADV', '.', 'NOUN', 'VERB', 'DET', 'ADJ', 'ADJ', 'NOUN', 'PRON', 'VERB', 'ADP', 'DET', 'NOUN', '.']\n",
      "Pred: ['ADJ', 'PRT', 'VERB', 'ADJ', '.', 'NOUN', 'VERB', 'DET', 'ADJ', 'ADJ', 'NOUN', 'PRON', 'VERB', 'ADP', 'PRON', 'ADV', '.']\n",
      "Gold: ['DET', 'ADJ', 'NOUN', '.']\n",
      "Pred: ['DET', 'ADJ', 'NOUN', '.']\n",
      "Gold: ['NOUN', 'NOUN', 'VERB', 'VERB', 'PRT', 'ADV', 'ADV', 'ADV', '.', 'DET', 'ADJ', 'NOUN', 'ADP', 'NOUN', 'NOUN', '.']\n",
      "Pred: ['PRON', 'ADJ', 'VERB', 'VERB', 'ADP', 'ADV', 'ADV', 'ADV', '.', 'DET', 'ADJ', 'NOUN', 'ADP', 'ADJ', 'NOUN', '.']\n",
      "Gold: ['PRON', 'VERB', 'VERB', 'ADP', 'PRON', 'DET', 'NOUN', 'ADV', 'ADP', 'DET', 'NOUN', '.']\n",
      "Pred: ['PRON', 'VERB', 'VERB', 'ADP', 'PRON', 'DET', 'NOUN', 'ADV', 'ADP', 'PRON', 'NOUN', '.']\n",
      "Gold: ['PRON', 'VERB', 'ADV', 'ADV', 'ADJ', '.', 'NOUN', 'VERB', 'VERB', 'DET', 'VERB', 'NOUN', 'ADP', 'DET', 'NOUN', 'CONJ', 'VERB', 'PRON', 'ADP', 'VERB', 'NOUN', 'ADP', 'DET', 'NOUN', 'ADV', '.']\n",
      "Pred: ['PRON', 'VERB', 'ADV', 'ADV', 'ADJ', '.', 'NOUN', 'VERB', 'VERB', 'DET', 'ADJ', 'NOUN', 'ADP', 'DET', 'NOUN', 'CONJ', 'VERB', 'PRON', 'ADP', 'ADJ', 'NOUN', 'ADP', 'DET', 'NOUN', 'ADV', '.']\n"
     ]
    },
    {
     "name": "stderr",
     "output_type": "stream",
     "text": [
      "LLM POS Tagging:  84%|████████▍ | 42/50 [23:12<05:17, 39.67s/it]"
     ]
    },
    {
     "name": "stdout",
     "output_type": "stream",
     "text": [
      "Gold: ['DET', 'NOUN', 'VERB', 'ADV', 'ADJ', 'ADP', 'NOUN', '.', 'CONJ', 'DET', 'ADJ', 'NOUN', '.', 'ADJ', 'ADV', 'ADJ', 'ADP', 'DET', 'NOUN', '.', 'VERB', 'ADP', 'NOUN', 'ADP', 'ADJ', 'ADP', 'NOUN', 'CONJ', 'ADJ', 'ADP', 'DET', 'ADJ', 'ADJ', '.', 'ADP', 'ADP', 'ADJ', 'ADJ', 'NOUN', 'ADV', '.']\n",
      "Pred: ['DET', 'NOUN', 'VERB', 'ADP', 'ADJ', 'ADP', 'NOUN', '.', 'CONJ', 'PRON', 'ADJ', 'NOUN', '.', 'DET', 'ADV', 'ADJ', 'ADP', 'DET', 'NOUN', '.', 'VERB', 'ADP', 'NOUN', 'ADP', 'NOUN', 'ADP', 'NOUN', 'CONJ', 'NOUN', 'ADP', 'DET', 'ADJ', 'NOUN', '.', 'ADP', 'ADP', 'DET', 'ADJ', 'NOUN', 'ADV', '.']\n",
      "Gold: ['ADJ', '.', 'VERB', 'NOUN', '.', 'VERB', 'ADP', 'DET', 'ADJ', '.', 'ADJ', 'NOUN', '.', 'ADP', 'PRON', 'VERB', 'NOUN', 'PRON', 'VERB', 'VERB', 'ADP', 'ADP', 'PRON', 'ADV', 'VERB', 'ADV', 'ADV', 'PRON', 'VERB', 'NOUN', 'PRT', 'VERB', 'NOUN', '.']\n",
      "Pred: ['ADJ', '.', 'VERB', 'NOUN', '.', 'VERB', 'ADP', 'PRON', 'ADJ', '.', 'ADJ', 'NOUN', '.', 'ADP', 'PRON', 'VERB', 'NOUN', 'PRON', 'VERB', 'VERB', 'CONJ', 'CONJ', 'PRON', 'ADV', 'VERB', 'ADV', 'ADV', 'PRON', 'VERB', 'NOUN', 'PRT', 'VERB', 'NOUN', '.']\n",
      "Gold: ['ADP', 'NOUN', '.', 'PRT', 'ADP', 'NOUN', '.', 'PRON', 'VERB', 'PRT', 'VERB', 'ADV', 'ADV', 'ADV', '.']\n",
      "Pred: ['ADP', 'NOUN', '.', 'DET', 'ADP', 'NOUN', '.', 'PRON', 'VERB', 'PRT', 'VERB', 'ADV', 'ADV', 'ADV', '.']\n",
      "Gold: ['ADV', 'ADP', 'DET', 'NOUN', 'PRON', 'VERB', 'CONJ', 'VERB', 'PRT', '.']\n",
      "Pred: ['ADV', 'ADP', 'DET', 'NOUN', 'PRON', 'VERB', 'CONJ', 'VERB', 'PRT', '.']\n",
      "Gold: ['ADJ', 'NOUN', 'VERB', 'VERB', 'PRON', '.', 'ADV', '.', 'VERB', 'PRT', 'ADP', 'DET', 'ADJ', 'NOUN', 'CONJ', 'VERB', 'ADP', 'DET', 'NOUN', 'ADV', '.', 'VERB', 'DET', 'NOUN', 'VERB', '.', 'CONJ', 'ADV', 'VERB', 'DET', 'NOUN', '.']\n",
      "Pred: ['DET', 'NOUN', 'VERB', 'VERB', 'PRON', '.', 'ADV', '.', 'VERB', 'DET', 'ADP', 'DET', 'ADJ', 'NOUN', 'CONJ', 'VERB', 'ADP', 'DET', 'NOUN', 'ADV', '.', 'VERB', 'DET', 'NOUN', 'VERB', '.', 'CONJ', 'ADV', 'VERB', 'DET', 'NOUN', '.']\n",
      "Gold: ['NOUN', 'VERB', 'ADP', 'DET', 'NOUN', 'ADP', 'DET', 'NOUN', '.', 'VERB', 'NOUN', 'NOUN', '.']\n",
      "Pred: ['NOUN', 'VERB', 'ADP', 'PRON', 'NOUN', 'ADP', 'PRON', 'NOUN', '.', 'VERB', 'ADJ', 'NOUN', '.']\n",
      "Gold: ['DET', 'NOUN', 'VERB', 'PRON', '.', 'ADP', 'PRON', 'VERB', 'PRT', 'VERB', 'VERB', 'NOUN', '.', 'ADV', 'ADV', 'DET', 'NOUN', 'ADP', 'NOUN', 'CONJ', 'DET', 'NOUN', 'NOUN', 'ADP', 'NOUN', '.']\n",
      "Pred: ['DET', 'NOUN', 'VERB', 'PRON', '.', 'ADP', 'PRON', 'VERB', 'PRT', 'VERB', 'VERB', 'NOUN', '.', 'ADV', 'ADV', 'DET', 'NOUN', 'ADP', 'NOUN', 'CONJ', 'DET', 'ADJ', 'NOUN', 'ADP', 'NOUN', '.']\n",
      "Gold: ['PRON', 'VERB', 'PRON', 'NOUN', 'NOUN', 'CONJ', 'VERB', 'DET', 'NOUN', '.']\n",
      "Pred: ['PRON', 'VERB', 'PRON', 'ADJ', 'NOUN', 'CONJ', 'VERB', 'DET', 'NOUN', '.']\n",
      "Gold: ['ADJ', 'VERB', '.', '.']\n",
      "Pred: ['ADJ', 'ADJ', '.', '.']\n",
      "Gold: ['ADV', 'VERB', 'PRON', 'VERB', 'DET', 'ADP', 'ADV', '.', '.']\n",
      "Pred: ['ADV', 'VERB', 'PRON', 'VERB', 'DET', 'ADP', 'ADV', '.', '.']\n"
     ]
    },
    {
     "name": "stderr",
     "output_type": "stream",
     "text": [
      "LLM POS Tagging:  86%|████████▌ | 43/50 [23:55<04:44, 40.58s/it]"
     ]
    },
    {
     "name": "stdout",
     "output_type": "stream",
     "text": [
      "Gold: ['ADJ', '.', 'CONJ', 'PRON', 'VERB', '.']\n",
      "Pred: ['ADJ', '.', 'CONJ', 'PRON', 'VERB', '.']\n",
      "Gold: ['ADV', '.', 'PRON', 'VERB', 'PRT', 'DET', 'ADJ', 'ADP', 'DET', 'NOUN', '.']\n",
      "Pred: ['ADV', '.', 'PRON', 'VERB', 'PRT', 'DET', 'ADJ', 'ADP', 'DET', 'NOUN', '.']\n",
      "Gold: ['DET', 'ADJ', 'NOUN', 'ADV', 'DET', 'NOUN', 'VERB', 'VERB', 'CONJ', 'DET', 'NOUN', 'VERB', 'VERB', 'ADP', 'NOUN', 'CONJ', 'NOUN', '.']\n",
      "Pred: ['DET', 'ADJ', 'NOUN', 'ADV', 'PRON', 'NOUN', 'VERB', 'VERB', 'CONJ', 'PRON', 'NOUN', 'VERB', 'VERB', 'ADP', 'NOUN', 'CONJ', 'NOUN', '.']\n",
      "Gold: ['ADP', 'NOUN', '.', 'NOUN', 'ADP', 'PRON', 'VERB', 'VERB', 'PRT', 'VERB', 'CONJ', 'VERB', 'DET', '.', '.']\n",
      "Pred: ['ADP', 'NOUN', '.', 'NUM', 'ADP', 'PRON', 'VERB', 'VERB', 'PRT', 'VERB', 'CONJ', 'VERB', 'PRON', '.', '.']\n",
      "Gold: ['ADJ', 'NOUN', 'NOUN', '.', 'PRON', 'VERB', '.', 'NOUN', 'VERB', 'PRT', 'VERB', 'ADP', 'DET', 'NOUN', '.', 'CONJ', 'ADV', 'VERB', 'PRON', 'VERB', 'VERB', 'PRT', 'VERB', 'ADP', 'DET', 'NOUN', '.', '.']\n",
      "Pred: ['ADJ', 'NOUN', 'NOUN', '.', 'PRON', 'VERB', '.', 'NOUN', 'VERB', 'PRT', 'VERB', 'ADP', 'DET', 'NOUN', '.', 'CONJ', 'ADV', 'VERB', 'PRON', 'VERB', 'VERB', 'PRT', 'VERB', 'ADP', 'DET', 'NOUN', '.', '.']\n",
      "Gold: ['CONJ', 'ADV', 'ADP', 'NOUN', 'VERB', 'PRON', 'ADV', 'VERB', 'DET', 'NOUN', 'ADV', '.', '.']\n",
      "Pred: ['CONJ', 'ADV', 'ADP', 'NOUN', 'VERB', 'PRON', 'ADV', 'VERB', 'DET', 'NOUN', 'ADV', '.', '.']\n",
      "Gold: ['PRON', 'VERB', 'NOUN', 'ADV', 'PRT', 'VERB', 'ADV', 'DET', 'NOUN', 'VERB', 'VERB', 'PRT', 'VERB', 'PRON', '.']\n",
      "Pred: ['PRON', 'VERB', 'NOUN', 'ADV', 'PRT', 'VERB', 'ADV', 'DET', 'NOUN', 'VERB', 'VERB', 'PRT', 'VERB', 'PRON', '.']\n",
      "Gold: ['DET', 'NOUN', 'NOUN', 'NOUN', 'VERB', 'VERB', 'PRON', '.', 'ADP', 'DET', 'ADJ', 'ADJ', 'ADJ', 'NOUN', 'NOUN', '.', 'NOUN', 'ADV', 'VERB', '.', 'CONJ', 'NOUN', 'VERB', 'PRT', 'VERB', 'ADP', 'DET', 'ADJ', 'NOUN', 'ADP', 'DET', 'ADV', 'NOUN', '.']\n",
      "Pred: ['PRON', 'NOUN', 'NOUN', 'NOUN', 'VERB', 'VERB', 'PRON', '.', 'ADP', 'PRON', 'ADJ', 'ADJ', 'ADJ', 'NOUN', 'NOUN', '.', 'NOUN', 'ADV', 'VERB', '.', 'CONJ', 'NOUN', 'VERB', 'PRT', 'VERB', 'ADP', 'DET', 'ADJ', 'NOUN', 'ADP', 'DET', 'ADJ', 'NOUN', '.']\n",
      "Gold: ['NOUN', 'NOUN', 'VERB', 'ADV', 'VERB', 'NOUN', 'NOUN', 'NOUN', '.', 'NOUN', '.', 'NOUN', '.', 'ADP', 'DET', 'NOUN', '.', 'VERB', 'VERB', 'PRT', 'ADP', 'DET', 'NOUN', 'NOUN', 'ADP', 'NOUN', '.', 'NOUN', '.', 'CONJ', 'VERB', 'PRON', 'ADP', 'ADV', 'ADJ', 'NOUN', 'ADP', 'ADP', 'PRON', 'VERB', 'VERB', 'DET', 'NOUN', 'NOUN', 'ADP', 'DET', 'ADJ', 'NOUN', '.']\n",
      "Pred: ['NOUN', 'NOUN', 'VERB', 'ADV', 'VERB', 'NOUN', 'NOUN', 'NOUN', '.', 'NOUN', '.', 'NOUN', '.', 'ADP', 'DET', 'NOUN', '.', 'VERB', 'VERB', 'PRT', 'ADP', 'DET', 'NOUN', 'NOUN', 'ADP', 'NOUN', '.', 'NOUN', '.', 'CONJ', 'VERB', 'PRON', 'ADP', 'ADP', 'ADV', 'NOUN', 'ADP', 'ADP', 'PRON', 'VERB', 'VERB', 'DET', 'ADJ', 'NOUN', 'ADP', 'PRON', 'ADJ', 'NOUN', '.']\n",
      "Gold: ['DET', 'NOUN', 'NOUN', 'PRON', '.']\n",
      "Pred: ['DET', 'ADJ', 'NOUN', 'ADV', '.']\n"
     ]
    },
    {
     "name": "stderr",
     "output_type": "stream",
     "text": [
      "LLM POS Tagging:  88%|████████▊ | 44/50 [24:52<04:33, 45.52s/it]"
     ]
    },
    {
     "name": "stdout",
     "output_type": "stream",
     "text": [
      "Gold: ['NOUN', 'VERB', 'VERB', 'ADJ', 'NOUN', '.', 'X', 'X', 'X', '.', '.']\n",
      "Pred: ['PRON', 'VERB', 'VERB', 'ADJ', 'NOUN', '.', 'NOUN', 'ADP', 'NOUN', '.', '.']\n",
      "Gold: ['.', 'ADP', 'DET', 'NOUN', '.', 'CONJ', 'ADV', 'NOUN', 'VERB', 'PRON', '.', 'PRT', 'ADV', 'ADV', 'ADP', 'ADP', 'PRON', 'VERB', 'VERB', 'DET', 'NOUN', 'ADP', 'DET', 'NOUN', 'CONJ', 'DET', 'NOUN', '.']\n",
      "Pred: ['.', 'ADP', 'DET', 'NOUN', '.', 'CONJ', 'ADV', 'NOUN', 'VERB', 'PRON', '.', 'ADV', 'ADP', 'ADV', 'ADP', 'CONJ', 'PRON', 'VERB', 'VERB', 'DET', 'NOUN', 'ADP', 'DET', 'NOUN', 'CONJ', 'DET', 'NOUN', '.']\n",
      "Gold: ['ADV', 'VERB', 'PRT', 'DET', 'NOUN', 'PRON', 'VERB', 'PRON', 'VERB', 'PRT', 'VERB', 'ADP', 'DET', 'ADJ', 'NOUN', '.', 'NOUN', '.', 'CONJ', 'NOUN', 'ADP', 'NOUN', 'NOUN', 'NOUN', '.']\n",
      "Pred: ['ADV', 'VERB', 'DET', 'DET', 'NOUN', 'PRON', 'VERB', 'PRON', 'VERB', 'PRT', 'VERB', 'ADP', 'DET', 'ADJ', 'NOUN', '.', 'NOUN', '.', 'CONJ', 'NOUN', 'ADP', 'NOUN', 'NOUN', 'NOUN', '.']\n",
      "Gold: ['NOUN', 'NOUN', 'CONJ', 'NOUN', 'NOUN', '.', 'NOUN', 'CONJ', 'NOUN', '.', 'ADJ', '.', 'VERB', '.', 'VERB', '.', 'VERB', 'VERB', 'ADJ', 'NOUN', 'ADP', 'DET', 'NOUN', 'ADP', 'NOUN', 'ADP', 'NOUN', 'ADJ', 'ADP', 'DET', 'NOUN', 'VERB', 'VERB', 'ADP', 'NOUN', 'NUM', 'NOUN', 'ADV', '.']\n",
      "Pred: ['NOUN', 'NOUN', 'CONJ', 'NOUN', 'NOUN', '.', 'NOUN', 'CONJ', 'NOUN', '.', 'ADJ', '.', 'ADJ', '.', 'ADJ', '.', 'VERB', 'VERB', 'ADV', 'NOUN', 'ADP', 'DET', 'NOUN', 'ADP', 'NOUN', 'ADP', 'NOUN', 'ADJ', 'ADP', 'DET', 'NOUN', 'VERB', 'VERB', 'ADP', 'NOUN', 'NUM', 'NOUN', 'ADV', '.']\n",
      "Gold: ['NUM', 'NOUN', 'ADP', 'PRON', 'VERB', 'VERB', 'ADJ', '.', 'NOUN', 'NOUN', 'VERB', 'PRT', 'VERB', 'ADP', 'DET', 'ADV', 'ADJ', 'NOUN', 'VERB', 'VERB', 'ADP', 'DET', 'NOUN', '.', 'CONJ', 'NOUN', 'NOUN', 'VERB', 'ADV', 'VERB', 'ADP', 'DET', 'ADJ', 'NOUN', 'ADP', 'DET', 'NOUN', 'DET', 'NOUN', 'NOUN', 'NOUN', 'DET', 'NOUN', 'VERB', 'VERB', 'ADP', 'DET', 'NOUN', 'CONJ', 'DET', 'PRON', 'VERB', 'VERB', 'PRON', 'VERB', 'VERB', 'ADV', 'PRON', 'VERB', '.']\n",
      "Pred: ['NUM', 'NOUN', 'ADP', 'PRON', 'VERB', 'VERB', 'ADJ', '.', 'NOUN', 'NOUN', 'VERB', 'ADV', 'VERB', 'ADP', 'PRON', 'ADV', 'ADJ', 'NOUN', 'VERB', 'VERB', 'ADP', 'PRON', 'NOUN', '.', 'CONJ', 'NOUN', 'NOUN', 'VERB', 'ADV', 'VERB', 'ADP', 'DET', 'ADJ', 'NOUN', 'ADP', 'PRON', 'NOUN', 'DET', 'ADJ', 'NOUN', 'NOUN', 'PRON', 'NOUN', 'VERB', 'VERB', 'ADP', 'DET', 'NOUN', 'CONJ', 'PRON', 'PRON', 'VERB', 'VERB', 'PRON', 'VERB', 'VERB', 'ADP', 'PRON', 'VERB', '.']\n",
      "Gold: ['PRT', 'VERB', 'PRT', 'VERB', 'ADV', 'ADV', 'ADV', 'ADP', 'ADV', '.', 'ADV', 'ADV', 'ADV', 'ADP', 'ADV', '.', 'PRON', 'VERB', '.', 'ADP', 'DET', 'NOUN', '.']\n",
      "Pred: ['PRON', 'VERB', 'VERB', 'PRT', 'VERB', 'ADP', 'ADV', 'ADV', 'ADP', 'ADV', '.', 'ADP', 'ADV', 'ADV', 'ADP', 'ADV', '.', 'PRON', 'VERB', '.', 'ADP', 'DET', 'NOUN', '.']\n",
      "Gold: ['DET', 'NOUN', 'VERB', 'VERB', 'VERB', 'ADP', 'PRON', 'ADP', 'PRON', 'VERB', 'ADV', 'VERB', 'NOUN', '.', 'NOUN', '.', 'ADP', 'PRON', '.']\n",
      "Pred: ['DET', 'NOUN', 'VERB', 'VERB', 'VERB', 'ADP', 'PRON', 'CONJ', 'PRON', 'VERB', 'PRT', 'ADV', 'VERB', 'NOUN', '.', 'NOUN', '.', 'ADP', 'PRON', '.']\n",
      "Gold: ['PRON', 'VERB', 'DET', 'NOUN', '.', 'VERB', 'PRON', 'ADP', 'DET', 'NOUN', '.', 'CONJ', 'VERB', 'ADP', 'NOUN', 'ADP', 'NUM', 'ADP', 'DET', 'NOUN', 'NOUN', '.']\n",
      "Pred: ['PRON', 'VERB', 'DET', 'NOUN', '.', 'VERB', 'PRON', 'ADP', 'PRON', 'NOUN', '.', 'CONJ', 'VERB', 'ADP', 'NOUN', 'ADP', 'PRON', 'ADP', 'PRON', 'NOUN', 'NOUN', '.']\n",
      "Gold: ['CONJ', 'PRT', 'NOUN', '.', 'ADV', 'PRON', 'VERB', 'VERB', '.', 'VERB', 'ADV', 'ADV', 'VERB', 'ADP', 'VERB', 'ADP', 'NOUN', 'ADP', 'NOUN', 'NOUN', 'NOUN', '.']\n",
      "Pred: ['CONJ', 'ADV', 'NOUN', '.', 'CONJ', 'PRON', 'VERB', 'VERB', '.', 'VERB', 'ADV', 'ADV', 'VERB', 'ADP', 'VERB', 'ADP', 'NOUN', 'ADP', 'NOUN', 'NOUN', 'PRT', 'NOUN', '.']\n",
      "Gold: ['PRON', 'VERB', 'ADJ', 'ADP', 'ADJ', 'NOUN', 'NOUN', '.']\n",
      "Pred: ['PRON', 'VERB', 'ADJ', 'ADP', 'ADJ', 'NOUN', 'NOUN', '.']\n"
     ]
    },
    {
     "name": "stderr",
     "output_type": "stream",
     "text": [
      "LLM POS Tagging:  90%|█████████ | 45/50 [25:52<04:10, 50.08s/it]"
     ]
    },
    {
     "name": "stdout",
     "output_type": "stream",
     "text": [
      "Gold: ['ADV', 'DET', 'ADJ', 'ADJ', 'NOUN', 'VERB', 'VERB', 'PRT', '.', 'VERB', 'ADP', 'DET', 'NOUN', 'NOUN', '.']\n",
      "Pred: ['DET', 'DET', 'ADJ', 'ADJ', 'NOUN', 'VERB', 'VERB', 'PRT', '.', 'VERB', 'ADP', 'DET', 'NOUN', 'ADV', '.']\n",
      "Gold: ['DET', 'ADJ', 'NOUN', 'VERB', 'VERB', 'ADP', 'DET', 'NOUN', 'ADP', 'DET', 'NOUN', 'DET', 'PRON', 'CONJ', 'NOUN', 'VERB', 'ADV', 'VERB', 'ADP', 'VERB', '.', 'CONJ', 'ADP', 'ADP', 'DET', 'NOUN', '.', 'PRON', 'VERB', 'NUM', 'ADV', 'ADV', '.', 'ADV', 'ADP', 'NOUN', '.', '.', 'PRON', 'VERB', 'PRT', 'VERB', 'ADP', 'DET', 'ADJ', 'NOUN', 'ADP', 'NOUN', 'VERB', 'ADV', 'VERB', 'ADP', 'PRON', 'ADP', 'PRT', '.']\n",
      "Pred: ['PRON', 'ADJ', 'NOUN', 'VERB', 'VERB', 'ADP', 'DET', 'NOUN', 'ADP', 'DET', 'NOUN', 'PRON', 'PRON', 'CONJ', 'NOUN', 'VERB', 'ADV', 'VERB', 'ADP', 'ADJ', '.', 'CONJ', 'ADP', 'ADP', 'PRON', 'NOUN', '.', 'PRON', 'VERB', 'NUM', 'ADV', 'ADV', '.', 'ADV', 'ADP', 'NOUN', '.', '.', 'PRON', 'VERB', 'PRT', 'VERB', 'CONJ', 'DET', 'ADJ', 'NOUN', 'ADP', 'NOUN', 'VERB', 'ADV', 'VERB', 'ADP', 'PRON', 'ADP', 'ADV', '.']\n",
      "Gold: ['DET', 'NOUN', 'ADP', 'NOUN', 'CONJ', 'NOUN', 'ADJ', 'ADP', 'NOUN', 'NOUN', 'VERB', 'VERB', 'VERB', 'PRT', 'VERB', 'VERB', 'ADP', 'ADJ', 'NOUN', '.']\n",
      "Pred: ['DET', 'NOUN', 'ADP', 'NOUN', 'CONJ', 'NOUN', 'ADJ', 'ADP', 'NOUN', 'NOUN', 'VERB', 'VERB', 'VERB', 'PRT', 'VERB', 'VERB', 'ADP', 'ADV', 'NOUN', '.']\n",
      "Gold: ['ADJ', 'NOUN', '.', '.']\n",
      "Pred: ['ADJ', 'NOUN', '.', '.']\n",
      "Gold: ['DET', 'ADJ', 'NOUN', '.', 'DET', 'NOUN', 'NOUN', '.']\n",
      "Pred: ['DET', 'ADJ', 'NOUN', '.', 'DET', 'NOUN', 'NOUN', '.']\n",
      "Gold: ['ADV', 'ADP', 'DET', 'NOUN', '.', 'DET', 'ADP', 'PRON', 'ADJ', 'ADP', 'NOUN', 'ADP', 'NOUN', 'VERB', 'ADV', 'VERB', 'ADJ', '.']\n",
      "Pred: ['ADV', 'ADP', 'PRON', 'NOUN', '.', 'DET', 'ADP', 'PRON', 'ADJ', 'ADP', 'NOUN', 'ADP', 'NOUN', 'VERB', 'ADV', 'VERB', 'ADV', '.']\n",
      "Gold: ['NOUN', 'VERB', 'VERB', 'PRON', 'ADP', 'DET', 'ADJ', 'NOUN', '.', 'ADP', 'DET', 'ADJ', 'NOUN', '.', 'CONJ', 'ADP', 'VERB', 'ADP', 'ADJ', 'NOUN', 'CONJ', 'ADJ', 'NOUN', 'ADP', 'NOUN', '.', 'ADV', 'VERB', 'ADP', 'DET', 'ADJ', 'NOUN', '.', 'ADV', 'ADV', 'ADP', 'DET', 'ADJ', 'NOUN', 'ADP', 'DET', 'NOUN', 'DET', 'NOUN', '.', 'NOUN', '.', 'VERB', 'ADV', 'VERB', 'PRT', 'VERB', 'ADJ', 'NOUN', '.']\n",
      "Pred: ['NOUN', 'VERB', 'VERB', 'PRON', 'ADP', 'DET', 'ADJ', 'NOUN', '.', 'ADP', 'DET', 'ADJ', 'NOUN', '.', 'CONJ', 'ADP', 'VERB', 'ADP', 'ADJ', 'NOUN', 'CONJ', 'ADJ', 'NOUN', 'ADP', 'NOUN', '.', 'ADV', 'VERB', 'ADP', 'DET', 'ADJ', 'NOUN', '.', 'ADV', 'ADV', 'ADP', 'DET', 'ADJ', 'NOUN', 'ADP', 'DET', 'NOUN', 'PRON', 'NOUN', '.', 'NOUN', '.', 'VERB', 'ADV', 'VERB', 'PRT', 'VERB', 'ADJ', 'NOUN', '.']\n",
      "Gold: ['VERB', 'PRON', 'ADV', 'VERB', '.', 'NOUN', 'VERB', '.', 'ADP', 'NOUN', 'VERB', 'VERB', 'ADV', 'ADV', 'ADV', '.', 'CONJ', 'ADP', 'NOUN', 'PRT', 'ADV', 'VERB', 'ADJ', 'ADV', 'ADP', 'DET', 'NOUN', 'ADP', 'DET', 'PRON', 'VERB', 'ADJ', '.', '.']\n",
      "Pred: ['VERB', 'PRON', 'ADV', 'VERB', '.', 'NOUN', 'VERB', '.', 'CONJ', 'NOUN', 'VERB', 'VERB', 'ADV', 'ADV', 'ADV', '.', 'CONJ', 'CONJ', 'NOUN', 'ADV', 'ADV', 'VERB', 'ADJ', 'ADV', 'ADP', 'DET', 'NOUN', 'ADP', 'PRON', 'PRON', 'VERB', 'ADJ', '.', '.']\n",
      "Gold: ['ADP', 'ADP', 'NOUN', 'NOUN', 'NOUN', '.', 'DET', 'ADJ', 'NOUN', 'NOUN', 'VERB', 'VERB', 'ADP', 'DET', 'NOUN', 'ADP', 'PRON', '.', 'ADP', 'DET', 'NOUN', 'NOUN', '.', 'VERB', 'ADP', 'PRON', 'VERB', 'VERB', 'ADV', 'ADJ', 'NOUN', 'CONJ', 'NOUN', 'CONJ', 'NUM', 'NOUN', 'ADP', 'NUM', 'ADV', 'ADP', 'DET', 'NOUN', 'DET', 'ADJ', 'NOUN', 'NOUN', 'VERB', 'VERB', 'VERB', 'PRT', 'VERB', 'ADJ', 'NOUN', 'ADP', 'NOUN', 'NOUN', 'NOUN', '.', 'ADV', 'NOUN', '.', 'ADV', 'NOUN', '.', 'ADV', 'NOUN', 'CONJ', 'NOUN', '.']\n",
      "Pred: ['ADP', 'ADP', 'NOUN', 'NOUN', 'NOUN', '.', 'DET', 'ADJ', 'NOUN', 'NOUN', 'VERB', 'VERB', 'ADP', 'DET', 'NOUN', 'ADP', 'PRON', '.', 'ADP', 'PRON', 'NOUN', 'NOUN', '.', 'VERB', 'CONJ', 'PRON', 'VERB', 'VERB', 'ADV', 'ADJ', 'NOUN', 'CONJ', 'NOUN', 'CONJ', 'NUM', 'NOUN', 'ADP', 'NUM', 'NOUN', 'ADP', 'DET', 'NOUN', 'DET', 'ADJ', 'NOUN', 'NOUN', 'VERB', 'VERB', 'VERB', 'PRT', 'VERB', 'ADJ', 'NOUN', 'ADP', 'NOUN', 'NOUN', 'NOUN', '.', 'ADJ', 'NOUN', '.', 'ADV', 'NOUN', '.', 'ADV', 'NOUN', 'CONJ', 'NOUN', '.']\n",
      "Gold: ['ADV', 'PRON', 'PRT', 'VERB', 'DET', 'NOUN', 'PRT', 'VERB', 'NOUN', 'NOUN', 'VERB', 'DET', 'NOUN', 'ADP', 'ADP', 'DET', 'NOUN', '.']\n",
      "Pred: ['ADV', 'PRON', 'ADV', 'VERB', 'PRON', 'ADJ', 'PRT', 'VERB', 'NOUN', 'NOUN', 'VERB', 'DET', 'NOUN', 'PRT', 'ADP', 'PRON', 'NOUN', '.']\n"
     ]
    },
    {
     "name": "stderr",
     "output_type": "stream",
     "text": [
      "LLM POS Tagging:  92%|█████████▏| 46/50 [26:34<03:10, 47.65s/it]"
     ]
    },
    {
     "name": "stdout",
     "output_type": "stream",
     "text": [
      "Gold: ['PRON', 'VERB', 'VERB', 'ADV', 'ADP', 'DET', 'NOUN', '.', 'ADP', 'DET', 'NOUN', '.', 'CONJ', 'VERB', 'VERB', '.', 'VERB', 'ADP', 'DET', 'NOUN', '.', 'ADP', 'DET', 'NOUN', '.']\n",
      "Pred: ['PRON', 'VERB', 'VERB', 'ADV', 'ADP', 'DET', 'NOUN', '.', 'ADP', 'PRON', 'NOUN', '.', 'CONJ', 'VERB', 'VERB', '.', 'VERB', 'ADP', 'PRON', 'NOUN', '.', 'ADP', 'DET', 'NOUN', '.']\n",
      "Gold: ['PRON', 'VERB', 'DET', 'ADJ', 'VERB', 'NOUN', 'ADP', 'DET', 'NOUN', '.', 'CONJ', 'DET', 'CONJ', 'DET', 'VERB', 'NOUN', '.', 'PRON', 'VERB', 'VERB', 'ADV', 'ADV', 'PRT', 'VERB', 'PRT', '.', 'VERB', 'PRON', 'VERB', 'ADP', 'DET', 'ADJ', 'ADJ', 'ADJ', 'NOUN', '.']\n",
      "Pred: ['PRON', 'VERB', 'PRON', 'ADJ', 'ADJ', 'NOUN', 'ADP', 'DET', 'NOUN', '.', 'CONJ', 'PRON', 'CONJ', 'PRON', 'ADJ', 'NOUN', '.', 'PRON', 'VERB', 'VERB', 'ADV', 'ADV', 'PRT', 'VERB', 'PRT', '.', 'VERB', 'PRON', 'VERB', 'ADP', 'DET', 'ADJ', 'ADJ', 'ADJ', 'NOUN', '.']\n",
      "Gold: ['PRON', 'PRT', 'VERB', 'PRON', '.', 'DET', 'NOUN', 'NOUN', '.', 'NOUN', 'CONJ', 'NOUN', 'ADV', 'ADJ', 'ADP', 'ADP', 'PRON', 'VERB', 'VERB', 'DET', 'NOUN', 'VERB', 'NOUN', '.', 'CONJ', 'NOUN', 'NOUN', 'VERB', 'ADV', 'CONJ', 'ADV', 'ADP', 'DET', 'NOUN', 'ADP', 'ADJ', 'NOUN', 'DET', 'PRON', 'VERB', 'VERB', 'ADP', 'DET', 'ADJ', 'VERB', 'NOUN', '.']\n",
      "Pred: ['PRON', 'ADV', 'VERB', 'PRON', '.', 'DET', 'NOUN', 'NOUN', '.', 'NOUN', 'CONJ', 'NOUN', 'ADP', 'ADJ', 'ADP', 'ADP', 'PRON', 'VERB', 'VERB', 'DET', 'NOUN', 'VERB', 'NOUN', '.', 'CONJ', 'NOUN', 'NOUN', 'VERB', 'ADV', 'CONJ', 'ADV', 'ADP', 'DET', 'NOUN', 'ADP', 'ADJ', 'NOUN', 'PRON', 'PRON', 'VERB', 'VERB', 'ADP', 'DET', 'ADJ', 'ADJ', 'NOUN', '.']\n",
      "Gold: ['.', 'VERB', 'PRON', 'VERB', 'ADP', 'NOUN', 'PRT', 'VERB', '.', '.', '.']\n",
      "Pred: ['.', 'VERB', 'PRON', 'VERB', 'ADP', 'PRON', 'PRT', 'VERB', '.', '.', '.']\n",
      "Gold: ['PRON', 'VERB', 'VERB', '.']\n",
      "Pred: ['PRON', 'VERB', 'VERB', '.']\n",
      "Gold: ['.', 'PRON', 'VERB', 'PRT', 'VERB', 'DET', 'NOUN', 'CONJ', 'ADP', 'DET', 'VERB', 'PRT', 'PRT', 'ADV', 'VERB', 'PRT', '.', '.']\n",
      "Pred: ['.', 'PRON', 'VERB', 'PRT', 'VERB', 'DET', 'NOUN', 'CONJ', 'ADP', 'PRON', 'VERB', 'ADV', 'PRON', 'PRT', 'ADV', 'VERB', 'PRT', '.', '.']\n",
      "Gold: ['VERB', 'PRON', 'VERB', 'ADP', 'NOUN', 'PRT', 'VERB', '.', '.', '.']\n",
      "Pred: ['VERB', 'PRON', 'VERB', 'ADP', 'PRON', 'PRT', 'VERB', '.', '.', '.']\n",
      "Gold: ['.', 'PRON', 'VERB', 'VERB', 'PRON', 'ADP', 'DET', 'NOUN', '.', '.', 'VERB', 'NOUN', '.']\n",
      "Pred: ['.', 'PRON', 'VERB', 'VERB', 'PRON', 'ADP', 'DET', 'NOUN', '.', '.', 'VERB', 'NOUN', '.']\n",
      "Gold: ['.', 'VERB', 'DET', 'ADJ', 'NOUN', 'ADP', 'DET', 'NOUN', '.', '.']\n",
      "Pred: ['.', 'VERB', 'DET', 'ADJ', 'NOUN', 'ADP', 'PRON', 'NOUN', '.', '.']\n",
      "Gold: ['.', 'PRON', 'ADV', 'VERB', 'DET', 'VERB', 'ADP', 'PRON', 'ADV', '.', '.', 'VERB', 'NOUN', 'NOUN', '.', 'PRON', 'VERB', 'ADV', 'ADP', 'DET', 'ADJ', '.']\n",
      "Pred: ['.', 'PRON', 'ADV', 'VERB', 'PRON', 'VERB', 'ADP', 'PRON', 'ADV', '.', '.', 'VERB', 'NOUN', 'NOUN', '.', 'PRON', 'VERB', 'ADV', 'ADP', 'PRON', 'ADJ', '.']\n"
     ]
    },
    {
     "name": "stderr",
     "output_type": "stream",
     "text": [
      "LLM POS Tagging:  94%|█████████▍| 47/50 [27:34<02:33, 51.14s/it]"
     ]
    },
    {
     "name": "stdout",
     "output_type": "stream",
     "text": [
      "Gold: ['.', 'ADJ', 'NOUN', 'NOUN', '.', '.', 'NOUN', 'VERB', '.']\n",
      "Pred: ['.', 'ADJ', 'NOUN', 'NOUN', '.', '.', 'NOUN', 'VERB', '.']\n",
      "Gold: ['PRON', 'VERB', 'ADJ', 'ADP', 'NOUN', '.', 'PRON', 'VERB', 'VERB', 'PRT', 'CONJ', 'VERB', 'DET', 'ADJ', 'ADJ', 'NOUN', '.', 'ADP', 'ADP', 'DET', 'ADJ', 'NOUN', 'PRON', 'VERB', 'ADV', 'ADJ', 'ADP', 'DET', 'NOUN', 'CONJ', 'NOUN', 'VERB', 'ADV', 'ADJ', '.']\n",
      "Pred: ['PRON', 'VERB', 'ADJ', 'ADP', 'NOUN', '.', 'PRON', 'VERB', 'VERB', 'ADV', 'CONJ', 'VERB', 'PRON', 'ADJ', 'ADJ', 'NOUN', '.', 'CONJ', 'ADP', 'DET', 'ADJ', 'NOUN', 'PRON', 'VERB', 'ADV', 'ADJ', 'CONJ', 'PRON', 'NOUN', 'CONJ', 'NOUN', 'VERB', 'ADV', 'ADJ', '.']\n",
      "Gold: ['.', 'ADJ', 'NOUN', 'NOUN', '.', '.']\n",
      "Pred: ['.', 'ADJ', 'NOUN', 'NOUN', '.', '.']\n",
      "Gold: ['ADV', '.', 'ADV', 'PRON', 'DET', 'VERB', '.', 'ADV', 'DET', 'ADJ', '.', 'NOUN', 'ADJ', 'ADP', 'ADJ', 'NOUN', '.', 'CONJ', 'NOUN', 'NOUN', 'ADP', 'NOUN', '.']\n",
      "Pred: ['ADV', '.', 'ADV', 'PRON', 'DET', 'VERB', '.', 'ADV', 'DET', 'ADJ', '.', 'NOUN', 'ADJ', 'ADP', 'ADJ', 'NOUN', '.', 'CONJ', 'NOUN', 'NOUN', 'ADP', 'NOUN', '.']\n",
      "Gold: ['NOUN', 'VERB', 'ADP', 'DET', 'ADJ', 'NOUN', '.']\n",
      "Pred: ['NOUN', 'VERB', 'ADP', 'DET', 'ADJ', 'NOUN', '.']\n",
      "Gold: ['.', 'ADP', 'NOUN', '.', 'NOUN', 'NOUN', 'VERB', '.', '.', 'PRT', 'VERB', 'ADJ', 'NOUN', 'PRT', 'VERB', 'VERB', '.']\n",
      "Pred: ['.', 'ADP', 'ADV', '.', 'NOUN', 'NOUN', 'VERB', '.', '.', 'PRON', 'VERB', 'ADJ', 'NOUN', 'PRT', 'VERB', 'VERB', '.']\n",
      "Gold: ['NOUN', 'NOUN', 'VERB', 'ADV', 'ADP', 'DET', 'ADJ', 'ADJ', 'NOUN', 'CONJ', 'VERB', 'VERB', 'ADP', 'VERB', 'ADP', 'PRON', '.']\n",
      "Pred: ['NOUN', 'NOUN', 'VERB', 'ADJ', 'ADP', 'DET', 'ADJ', 'ADJ', 'NOUN', 'CONJ', 'VERB', 'VERB', 'PRT', 'VERB', 'ADP', 'PRON', '.']\n",
      "Gold: ['NOUN', 'CONJ', 'NOUN', 'VERB', 'DET', 'ADJ', 'PRT', 'VERB', 'PRON', 'PRT', 'VERB', 'CONJ', 'VERB', 'ADP', 'PRON', '.', 'CONJ', 'NOUN', 'CONJ', 'PRON', 'VERB', 'VERB', 'PRON', 'PRT', 'ADJ', 'ADP', 'ADJ', 'ADV', '.', 'CONJ', 'PRON', 'VERB', 'PRON', 'VERB', 'ADP', 'PRON', 'VERB', 'VERB', 'DET', 'NOUN', '.', 'ADV', 'ADV', 'ADJ', 'ADP', 'DET', 'NOUN', 'VERB', 'ADV', 'ADP', 'ADJ', 'NOUN', '.']\n",
      "Pred: ['NOUN', 'CONJ', 'NOUN', 'VERB', 'PRON', 'NOUN', 'PRT', 'VERB', 'PRON', 'PRT', 'VERB', 'CONJ', 'VERB', 'ADP', 'PRON', '.', 'CONJ', 'NOUN', 'CONJ', 'PRON', 'VERB', 'VERB', 'PRON', 'VERB', 'ADV', 'ADP', 'ADJ', 'ADV', '.', 'CONJ', 'PRON', 'VERB', 'PRON', 'VERB', 'CONJ', 'PRON', 'VERB', 'VERB', 'DET', 'NOUN', '.', 'ADV', 'ADP', 'ADJ', 'ADP', 'DET', 'NOUN', 'VERB', 'ADV', 'ADP', 'ADJ', 'NOUN', '.']\n",
      "Gold: ['DET', 'ADJ', 'NOUN', 'VERB', 'PRT', 'VERB', 'NOUN', 'ADP', 'PRON', 'PRT', 'VERB', 'PRT', 'NUM', 'CONJ', 'NUM', 'ADP', 'DET', 'NOUN', 'ADP', 'DET', 'NOUN', 'ADP', 'ADJ', 'NOUN', 'CONJ', 'NUM', 'ADP', 'DET', 'ADJ', 'ADJ', 'NOUN', 'PRON', 'NOUN', 'VERB', 'VERB', 'ADP', '.', 'NOUN', 'NOUN', 'NOUN', '.', 'ADP', 'NOUN', '.']\n",
      "Pred: ['DET', 'ADJ', 'NOUN', 'VERB', 'PRT', 'VERB', 'NOUN', 'ADP', 'PRON', 'PRT', 'VERB', 'PRT', 'NUM', 'CONJ', 'NUM', 'ADP', 'DET', 'NOUN', 'ADP', 'DET', 'NOUN', 'ADP', 'ADJ', 'NOUN', 'CONJ', 'NUM', 'ADP', 'DET', 'ADJ', 'ADJ', 'NOUN', 'CONJ', 'NOUN', 'VERB', 'VERB', 'ADP', '.', 'NOUN', 'NOUN', 'NOUN', '.', 'ADP', 'NOUN', '.']\n",
      "Gold: ['CONJ', 'PRT', 'VERB', 'ADJ', 'ADP', 'DET', 'ADP', 'VERB', 'DET', 'NOUN', '.']\n",
      "Pred: ['CONJ', 'PRON', 'VERB', 'ADV', 'ADP', 'DET', 'ADP', 'VERB', 'DET', 'NOUN', '.']\n"
     ]
    },
    {
     "name": "stderr",
     "output_type": "stream",
     "text": [
      "LLM POS Tagging:  96%|█████████▌| 48/50 [28:02<01:28, 44.40s/it]"
     ]
    },
    {
     "name": "stdout",
     "output_type": "stream",
     "text": [
      "Gold: ['DET', 'ADJ', 'NOUN', 'VERB', 'ADV', 'VERB', 'PRT', 'VERB', 'VERB', 'PRT', '.']\n",
      "Pred: ['DET', 'ADJ', 'NOUN', 'VERB', 'ADV', 'VERB', 'PRT', 'VERB', 'VERB', 'PRT', '.']\n",
      "Gold: ['DET', 'NOUN', 'ADP', 'DET', 'ADJ', 'NOUN', 'VERB', 'ADV', 'VERB', 'PRT', '.']\n",
      "Pred: ['DET', 'NOUN', 'ADP', 'DET', 'ADJ', 'NOUN', 'VERB', 'ADV', 'VERB', 'PRT', '.']\n",
      "Gold: ['.', '.', 'NOUN', 'VERB', 'DET', 'NOUN', 'ADP', 'NOUN', 'ADP', 'DET', 'NOUN', '.']\n",
      "Pred: ['.', '.', 'PRON', 'VERB', 'DET', 'NOUN', 'ADP', 'NOUN', 'ADP', 'DET', 'NOUN', '.']\n",
      "Gold: ['.', '.', 'PRON', 'VERB', 'ADP', 'PRON', 'VERB', 'DET', 'NOUN', 'ADP', 'DET', 'NOUN', 'PRON', 'VERB', 'VERB', 'PRON', 'ADP', 'PRON', '.']\n",
      "Pred: ['.', '.', 'PRON', 'VERB', 'CONJ', 'PRON', 'VERB', 'DET', 'NOUN', 'ADP', 'DET', 'NOUN', 'PRON', 'VERB', 'VERB', 'PRON', 'ADP', 'PRON', '.']\n",
      "Gold: ['PRON', 'VERB', 'VERB', 'ADP', 'DET', 'ADJ', 'NOUN', 'ADP', 'DET', 'NOUN', 'CONJ', 'VERB', 'ADP', 'PRON', 'VERB', 'ADP', 'DET', 'NOUN', 'ADP', 'PRON', 'VERB', 'VERB', 'PRT', 'ADV', 'DET', 'ADJ', '.']\n",
      "Pred: ['PRON', 'VERB', 'VERB', 'ADP', 'DET', 'ADJ', 'NOUN', 'ADP', 'DET', 'NOUN', 'CONJ', 'VERB', 'ADP', 'PRON', 'VERB', 'ADP', 'DET', 'NOUN', 'CONJ', 'PRON', 'VERB', 'VERB', 'PRT', 'ADV', 'DET', 'ADJ', '.']\n",
      "Gold: ['.']\n",
      "Pred: ['.']\n",
      "Gold: ['PRON', 'ADV', 'VERB', 'VERB', 'VERB', 'DET', 'NOUN', 'ADV', 'ADV', 'ADP', 'DET', 'NOUN', '.', 'VERB', 'NOUN', '.', 'PRON', 'ADV', 'VERB', 'PRON', 'ADJ', '.']\n",
      "Pred: ['PRON', 'ADV', 'VERB', 'VERB', 'VERB', 'DET', 'NOUN', 'CONJ', 'ADV', 'ADP', 'DET', 'NOUN', '.', 'VERB', 'PRON', '.', 'PRON', 'ADV', 'VERB', 'PRON', 'ADJ', '.']\n",
      "Gold: ['PRT', 'VERB', 'VERB', 'ADP', 'DET', 'NOUN', '.', 'VERB', 'ADP', 'DET', 'ADJ', 'NOUN', '.']\n",
      "Pred: ['PRON', 'VERB', 'VERB', 'ADP', 'DET', 'NOUN', '.', 'VERB', 'ADP', 'DET', 'ADJ', 'NOUN', '.']\n",
      "Gold: ['PRON', 'VERB', 'PRT', '.', 'VERB', 'ADV', 'ADP', 'DET', 'NOUN', '.', 'ADV', 'VERB', 'ADV', 'PRT', 'VERB', 'VERB', 'ADP', 'PRON', '.', 'VERB', '.', 'DET', 'NOUN', 'ADP', 'ADJ', 'NOUN', '.']\n",
      "Pred: ['PRON', 'VERB', 'PRT', '.', 'VERB', 'ADV', 'ADP', 'DET', 'NOUN', '.', 'ADV', 'VERB', 'ADV', 'PRT', 'VERB', 'PRT', 'ADP', 'PRON', '.', 'VERB', '.', 'DET', 'NOUN', 'ADP', 'ADJ', 'NOUN', '.']\n",
      "Gold: ['PRON', 'VERB', 'NOUN', 'ADP', 'VERB', 'NOUN', '.', 'ADJ', 'ADP', 'ADJ', 'NOUN', '.', 'CONJ', 'ADJ', 'NOUN', '.', 'CONJ', 'DET', 'NOUN', 'VERB', 'ADV', 'ADJ', 'CONJ', 'ADJ', '.']\n",
      "Pred: ['PRON', 'VERB', 'NOUN', 'ADP', 'ADJ', 'NOUN', '.', 'ADJ', 'ADP', 'ADJ', 'NOUN', '.', 'CONJ', 'ADJ', 'NOUN', '.', 'CONJ', 'PRON', 'NOUN', 'VERB', 'ADV', 'ADJ', 'CONJ', 'ADJ', '.']\n"
     ]
    },
    {
     "name": "stderr",
     "output_type": "stream",
     "text": [
      "LLM POS Tagging:  98%|█████████▊| 49/50 [28:33<00:40, 40.36s/it]"
     ]
    },
    {
     "name": "stdout",
     "output_type": "stream",
     "text": [
      "Gold: ['ADV', 'ADV', 'PRON', 'VERB', 'ADV', 'VERB', 'PRT', 'VERB', 'ADJ', '.', 'CONJ', 'VERB', 'PRON', 'PRT', 'VERB', 'ADV', '.']\n",
      "Pred: ['ADV', 'ADV', 'PRON', 'VERB', 'ADV', 'VERB', 'PRT', 'VERB', 'ADJ', '.', 'CONJ', 'VERB', 'PRON', 'PRT', 'VERB', 'ADV', '.']\n",
      "Gold: ['ADV', 'ADV', 'DET', 'NOUN', 'VERB', 'PRON', 'ADP', 'DET', 'NOUN', 'ADP', 'ADJ', 'NOUN', '.', 'NOUN', 'NOUN', 'NOUN', '.', 'NOUN', '.', 'ADJ', 'NOUN', '.']\n",
      "Pred: ['ADV', 'ADV', 'DET', 'NOUN', 'VERB', 'PRON', 'ADP', 'DET', 'NOUN', 'ADP', 'ADJ', 'NOUN', '.', 'NOUN', 'NOUN', 'NOUN', '.', 'NOUN', '.', 'ADJ', 'NOUN', '.']\n",
      "Gold: ['.', 'ADV', '.', '.', 'VERB', 'NOUN', '.']\n",
      "Pred: ['.', 'X', '.', '.', 'VERB', 'NOUN', '.']\n",
      "Gold: ['.', 'ADV', '.', 'ADV', '.', '.', '.']\n",
      "Pred: ['.', 'X', '.', 'X', '.', '.', '.']\n",
      "Gold: ['PRON', 'VERB', '.']\n",
      "Pred: ['PRON', 'VERB', '.']\n",
      "Gold: ['DET', 'NOUN', 'VERB', 'ADV', 'VERB', 'PRT', 'VERB', '.']\n",
      "Pred: ['DET', 'NOUN', 'VERB', 'ADV', 'VERB', 'PRT', 'VERB', '.']\n",
      "Gold: ['PRON', 'VERB', 'ADV', 'PRT', 'VERB', 'PRON', 'ADP', 'DET', 'NOUN', 'ADP', 'DET', 'NOUN', 'PRON', 'VERB', 'PRT', 'VERB', 'PRON', '.']\n",
      "Pred: ['PRON', 'VERB', 'ADV', 'PRT', 'VERB', 'PRON', 'ADP', 'DET', 'NOUN', 'ADP', 'DET', 'NOUN', 'CONJ', 'VERB', 'PRT', 'VERB', 'PRON', '.']\n",
      "Gold: ['X', 'NOUN', 'ADP', 'DET', 'NOUN', '.', 'DET', 'NOUN', 'ADP', 'NOUN', '.', 'PRON', 'VERB', '.']\n",
      "Pred: ['NOUN', 'VERB', 'ADP', 'DET', 'NOUN', '.', 'DET', 'NOUN', 'ADP', 'NOUN', '.', 'PRON', 'VERB', '.']\n",
      "Gold: ['NOUN', 'VERB', 'ADV', 'PRT', 'VERB', '.', 'CONJ', 'VERB', 'ADP', 'DET', 'ADJ', 'NOUN', 'ADV', 'DET', 'NOUN', 'VERB', 'ADP', 'NUM', '.']\n",
      "Pred: ['NOUN', 'VERB', 'ADV', 'PRT', 'VERB', '.', 'CONJ', 'VERB', 'PRT', 'DET', 'ADJ', 'NOUN', 'ADV', 'DET', 'NOUN', 'VERB', 'ADP', 'NUM', '.']\n",
      "Gold: ['ADV', 'PRON', 'VERB', 'ADP', 'DET', 'ADV', 'NOUN', 'CONJ', 'VERB', 'ADP', 'DET', 'ADJ', 'NOUN', 'ADP', 'NOUN', '.', 'ADP', 'DET', 'NOUN', 'VERB', 'PRON', 'DET', 'ADJ', 'ADJ', 'NOUN', '.', 'VERB', 'DET', 'NOUN', 'CONJ', 'DET', 'ADJ', 'NOUN', 'NOUN', '.', 'VERB', 'DET', 'NOUN', 'ADV', '.']\n",
      "Pred: ['ADV', 'PRON', 'VERB', 'PRT', 'DET', 'ADJ', 'NOUN', 'CONJ', 'VERB', 'ADP', 'DET', 'ADJ', 'NOUN', 'ADP', 'NOUN', '.', 'CONJ', 'DET', 'NOUN', 'VERB', 'PRON', 'DET', 'ADJ', 'ADJ', 'NOUN', '.', 'VERB', 'DET', 'NOUN', 'CONJ', 'DET', 'ADJ', 'ADJ', 'NOUN', '.', 'VERB', 'DET', 'NOUN', 'ADV', '.']\n"
     ]
    },
    {
     "name": "stderr",
     "output_type": "stream",
     "text": [
      "LLM POS Tagging: 100%|██████████| 50/50 [29:17<00:00, 35.16s/it]"
     ]
    },
    {
     "name": "stdout",
     "output_type": "stream",
     "text": [
      "Gold: ['VERB', 'PRON', 'ADV', 'ADJ', '.', 'NOUN', 'VERB', '.']\n",
      "Pred: ['VERB', 'PRON', 'ADV', 'ADJ', '.', 'NOUN', 'VERB', '.']\n",
      "Gold: ['DET', 'NOUN', 'ADP', 'DET', 'NOUN', 'NOUN', 'VERB', 'NOUN', '.', 'NOUN', '.', 'ADJ', 'NOUN', '.', '.']\n",
      "Pred: ['DET', 'NOUN', 'ADP', 'DET', 'ADJ', 'NOUN', 'VERB', 'NOUN', '.', 'NOUN', '.', 'ADV', 'NOUN', '.', '.']\n",
      "Gold: ['ADP', 'ADV', '.', 'NOUN', '.']\n",
      "Pred: ['ADP', 'ADV', '.', 'NOUN', '.']\n",
      "Gold: ['PRON', 'VERB', 'ADV', 'ADP', 'ADP', 'VERB', 'ADP', 'DET', 'NOUN', '.', 'DET', 'ADV', 'VERB', 'VERB', 'VERB', '.', '.']\n",
      "Pred: ['PRON', 'VERB', 'PRT', 'ADP', 'CONJ', 'VERB', 'ADP', 'DET', 'NOUN', '.', 'PRON', 'ADV', 'VERB', 'VERB', 'VERB', '.', '.']\n",
      "Gold: ['ADV', '.', 'PRON', 'VERB', 'ADV', 'ADP', 'DET', 'NOUN', '.']\n",
      "Pred: ['ADV', '.', 'PRON', 'VERB', 'ADV', 'ADP', 'DET', 'NOUN', '.']\n",
      "Gold: ['NOUN', 'NOUN', '.', 'ADV', 'VERB', 'DET', 'NOUN', 'NOUN', 'ADP', 'NUM', 'NOUN', '.', 'VERB', 'ADP', 'DET', 'ADJ', 'NOUN', 'ADP', 'NOUN', 'VERB', 'VERB', 'ADP', 'NOUN', 'NOUN', 'ADP', 'DET', 'NOUN', 'ADP', 'NOUN', 'NOUN', 'NOUN', 'CONJ', '.', 'VERB', 'NOUN', '.', 'ADP', 'NOUN', 'NOUN', '.']\n",
      "Pred: ['NOUN', 'NOUN', '.', 'ADV', 'VERB', 'DET', 'NOUN', 'NOUN', 'ADP', 'NUM', 'NOUN', '.', 'VERB', 'CONJ', 'PRON', 'ADJ', 'NOUN', 'ADP', 'NOUN', 'VERB', 'VERB', 'ADP', 'NOUN', 'NOUN', 'ADP', 'DET', 'NOUN', 'ADP', 'NOUN', 'NOUN', 'NOUN', 'CONJ', '.', 'VERB', 'PRON', '.', 'ADP', 'NOUN', 'NOUN', '.']\n",
      "Gold: ['PRON', 'VERB', 'ADV', '.', 'NOUN', 'CONJ', 'NOUN', '.', 'ADV', 'VERB', 'PRON', 'ADV', 'ADJ', 'ADP', 'ADV', 'VERB', 'ADP', 'PRON', 'ADV', 'VERB', 'VERB', 'PRT', '.', 'NUM', 'CONJ', 'NUM', 'NOUN', '.', 'CONJ', 'VERB', 'NOUN', 'ADP', 'NOUN', 'PRT', 'VERB', 'NOUN', 'NOUN', 'NOUN', 'ADJ', 'ADP', 'DET', 'NOUN', 'VERB', 'ADP', 'NOUN', 'ADP', 'NOUN', '.']\n",
      "Pred: ['PRON', 'VERB', 'ADV', '.', 'NOUN', 'CONJ', 'NOUN', '.', 'ADV', 'VERB', 'PRON', 'ADV', 'ADJ', 'ADP', 'ADV', 'VERB', 'CONJ', 'PRON', 'ADV', 'VERB', 'VERB', 'PRT', '.', 'NUM', 'CONJ', 'NUM', 'NOUN', '.', 'CONJ', 'VERB', 'ADV', 'ADP', 'NOUN', 'ADP', 'VERB', 'NOUN', 'NOUN', 'NOUN', 'ADJ', 'ADP', 'DET', 'NOUN', 'VERB', 'ADP', 'NOUN', 'ADP', 'NOUN', '.']\n",
      "Gold: ['ADP', 'NOUN', '.', 'PRON', 'VERB', 'NOUN', 'CONJ', 'NOUN', 'NOUN', 'ADP', 'NUM', 'NOUN', 'NOUN', 'VERB', 'PRT', 'VERB', 'DET', '.', 'CONJ', 'VERB', 'PRON', 'ADV', 'VERB', 'ADP', 'PRON', 'ADV', 'VERB', 'VERB', 'DET', 'PRON', 'VERB', 'VERB', 'ADP', 'NOUN', '.', '.']\n",
      "Pred: ['ADP', 'NOUN', '.', 'PRON', 'VERB', 'NOUN', 'CONJ', 'NOUN', 'NOUN', 'CONJ', 'NUM', 'NOUN', 'NOUN', 'VERB', 'ADP', 'VERB', 'DET', '.', 'CONJ', 'VERB', 'PRON', 'ADV', 'VERB', 'CONJ', 'PRON', 'ADV', 'VERB', 'VERB', 'PRON', 'PRON', 'VERB', 'VERB', 'ADP', 'NOUN', '.', '.']\n",
      "Gold: ['DET', 'NOUN', 'VERB', '.', 'NOUN', 'VERB', '.', 'ADP', 'ADP', 'NOUN', 'DET', 'VERB', 'PRT', 'VERB', 'VERB', 'PRT', 'VERB', 'ADV', '.', 'NOUN', 'ADV', 'VERB', 'VERB', 'ADV', 'PRT', 'VERB', '.']\n",
      "Pred: ['DET', 'NOUN', 'VERB', '.', 'NOUN', 'VERB', '.', 'CONJ', 'ADP', 'PRON', 'CONJ', 'VERB', 'ADV', 'VERB', 'VERB', 'ADP', 'VERB', 'ADV', '.', 'PRON', 'ADV', 'VERB', 'VERB', 'ADV', 'ADP', 'VERB', '.']\n",
      "Gold: ['PRON', 'VERB', 'ADV', 'VERB', 'ADP', 'PRT', 'ADP', 'NOUN', 'VERB', 'PRT', 'VERB', 'ADP', 'DET', 'NOUN', 'NOUN', '.']\n",
      "Pred: ['PRON', 'VERB', 'ADV', 'VERB', 'CONJ', 'DET', 'ADP', 'NOUN', 'VERB', 'ADP', 'VERB', 'ADP', 'DET', 'NOUN', 'ADV', '.']\n",
      "\n",
      "Classification Report:\n",
      "              precision    recall  f1-score   support\n",
      "\n",
      "         ADJ       0.81      0.91      0.85       448\n",
      "         ADP       0.89      0.82      0.85       710\n",
      "         ADV       0.78      0.79      0.78       518\n",
      "        CONJ       0.72      0.95      0.82       257\n",
      "         DET       0.90      0.74      0.81       727\n",
      "        NOUN       0.93      0.90      0.92      1260\n",
      "         NUM       0.80      0.85      0.82        47\n",
      "         PRT       0.67      0.47      0.56       331\n",
      "        PRON       0.71      0.96      0.82       687\n",
      "        VERB       0.93      0.92      0.93      1390\n",
      "           .       0.97      0.94      0.96      1305\n",
      "           X       0.35      0.21      0.26        29\n",
      "\n",
      "    accuracy                           0.87      7709\n",
      "   macro avg       0.79      0.79      0.78      7709\n",
      "weighted avg       0.87      0.87      0.87      7709\n",
      "\n"
     ]
    },
    {
     "name": "stderr",
     "output_type": "stream",
     "text": [
      "\n"
     ]
    },
    {
     "data": {
      "image/png": "[encoded data removed]",
      "text/plain": [
       "<Figure size 640x480 with 2 Axes>"
      ]
     },
     "metadata": {},
     "output_type": "display_data"
    }
   ],
   "source": [
    "import os\n",
    "import json\n",
    "from tqdm import tqdm\n",
    "from dotenv import load_dotenv\n",
    "from openai import OpenAI\n",
    "from sklearn.metrics import classification_report, confusion_matrix, ConfusionMatrixDisplay\n",
    "import matplotlib.pyplot as plt\n",
    "\n",
    "# Load API key\n",
    "load_dotenv()\n",
    "client = OpenAI(api_key=os.getenv(\"OPENAI_API_KEY\"))\n",
    "\n",
    "# Universal POS tagset\n",
    "UNIVERSAL_TAGS = [\"ADJ\",\"ADP\",\"ADV\",\"CONJ\",\"DET\",\"NOUN\",\"NUM\",\"PRT\",\"PRON\",\"VERB\",\".\",\"X\"]\n",
    "\n",
    "def convert_back(data):\n",
    "    \"\"\"Convert [{'word':'tag'}, ...] → [(word, tag), ...].\"\"\"\n",
    "    return [[(list(d.keys())[0], list(d.values())[0]) for d in sent] for sent in data]\n",
    "\n",
    "def call_llm_batch(sentences):\n",
    "    \"\"\"\n",
    "    Call the LLM on a batch of sentences.\n",
    "    sentences: list of lists of (word, tag) pairs (tags unused in prompt).\n",
    "    \"\"\"\n",
    "    inputs = [\" \".join([w for w, _ in sent]) for sent in sentences]\n",
    "    prompt = {\n",
    "        \"role\": \"user\",\n",
    "        \"content\": (\n",
    "            f\"You are a POS tagger.\\n\"\n",
    "            f\"Use only these tags: {', '.join(UNIVERSAL_TAGS)}.\\n\"\n",
    "            f\"For each input sentence, return a JSON object with key 'results' \"\n",
    "            f\"that is a list of items, each item being a list of [word, tag] pairs \"\n",
    "            f\"for the corresponding input sentence.\\n\\n\"\n",
    "            f\"Sentences:\\n\" + \"\\n\".join(f\"{i+1}. {s}\" for i, s in enumerate(inputs))\n",
    "        )\n",
    "    }\n",
    "\n",
    "    resp = client.responses.create(\n",
    "        model=\"gpt-5-mini\",\n",
    "        input=[prompt],\n",
    "        reasoning={\"effort\": \"low\"}  # disable reasoning\n",
    "    )\n",
    "\n",
    "    try:\n",
    "        parsed = json.loads(resp.output[1].content[0].text)\n",
    "        return parsed[\"results\"]  # list of sentences with [word, tag] pairs\n",
    "    except Exception as e:\n",
    "        print(\"Error parsing batch:\", e, \"\\nRaw output:\", resp)\n",
    "        return [[(w, \"X\") for w, _ in sent] for sent in sentences]\n",
    "\n",
    "def evaluate_llm(test_data, batch_size=10, results_path=\"llm_results.json\"):\n",
    "    y_true, y_pred = [], []\n",
    "    results_to_save = []\n",
    "\n",
    "    for i in tqdm(range(0, len(test_data), batch_size), desc=\"LLM POS Tagging\"):\n",
    "        batch = test_data[i:i+batch_size]\n",
    "        predicted_batch = call_llm_batch(batch)\n",
    "\n",
    "        for sent, pred in zip(batch, predicted_batch):\n",
    "            words = [w for w, _ in sent]\n",
    "            gold_tags = [t for _, t in sent]\n",
    "            pred_tags = [t for _, t in pred]\n",
    "\n",
    "            print(\"Gold:\", gold_tags)\n",
    "            print(\"Pred:\", pred_tags)\n",
    "\n",
    "            # 🔑 Fix misalignment\n",
    "            if len(pred_tags) != len(gold_tags):\n",
    "                # Pad with \"X\" if shorter, truncate if longer\n",
    "                if len(pred_tags) < len(gold_tags):\n",
    "                    pred_tags.extend([\"X\"] * (len(gold_tags) - len(pred_tags)))\n",
    "                else:\n",
    "                    pred_tags = pred_tags[:len(gold_tags)]\n",
    "\n",
    "            y_true.extend(gold_tags)\n",
    "            y_pred.extend(pred_tags)\n",
    "\n",
    "            results_to_save.append({\n",
    "                \"words\": words,\n",
    "                \"gold\": gold_tags,\n",
    "                \"pred\": pred_tags\n",
    "            })\n",
    "\n",
    "\n",
    "    # Save raw results\n",
    "    with open(results_path, \"w\") as f:\n",
    "        json.dump(results_to_save, f, indent=2)\n",
    "\n",
    "    print(\"\\nClassification Report:\")\n",
    "    print(classification_report(\n",
    "        y_true, y_pred,\n",
    "        labels=UNIVERSAL_TAGS,\n",
    "        target_names=UNIVERSAL_TAGS,\n",
    "        zero_division=0   # <-- handle division by zero gracefully\n",
    "    ))\n",
    "\n",
    "    cm = confusion_matrix(y_true, y_pred, labels=UNIVERSAL_TAGS)\n",
    "    disp = ConfusionMatrixDisplay(confusion_matrix=cm, display_labels=UNIVERSAL_TAGS)\n",
    "    disp.plot(xticks_rotation=45, cmap=\"Blues\", values_format=\"d\")\n",
    "    plt.title(\"LLM POS Tagging Confusion Matrix\")\n",
    "    plt.show()\n",
    "\n",
    "if __name__ == \"__main__\":\n",
    "    with open(\"test-data.json\") as f:\n",
    "        test_data = json.load(f)\n",
    "    test_data = convert_back(test_data)\n",
    "\n",
    "    # Run on subset to control API cost\n",
    "    evaluate_llm(test_data[:500], batch_size=10)"
   ]
  },
  {
   "cell_type": "markdown",
   "id": "5e46084f",
   "metadata": {},
   "source": [
    "## Demo"
   ]
  },
  {
   "cell_type": "code",
   "execution_count": 1,
   "id": "e6a21d65",
   "metadata": {},
   "outputs": [
    {
     "name": "stdout",
     "output_type": "stream",
     "text": [
      "\n",
      "=== POS Tagging Demo ===\n",
      "Input: Hello, how are you?\n",
      "\n",
      "Word-Tag pairs:\n",
      " Hello           -> X\n",
      " ,               -> .\n",
      " how             -> ADV\n",
      " are             -> VERB\n",
      " you             -> PRON\n",
      " ?               -> .\n"
     ]
    }
   ],
   "source": [
    "import os\n",
    "import json\n",
    "from dotenv import load_dotenv\n",
    "from openai import OpenAI\n",
    "\n",
    "# Load API key\n",
    "load_dotenv()\n",
    "client = OpenAI(api_key=os.getenv(\"OPENAI_API_KEY\"))\n",
    "\n",
    "# Universal POS tagset\n",
    "UNIVERSAL_TAGS = [\"ADJ\",\"ADP\",\"ADV\",\"CONJ\",\"DET\",\"NOUN\",\"NUM\",\"PRT\",\"PRON\",\"VERB\",\".\",\"X\"]\n",
    "\n",
    "def tag_single_sentence(sentence: str):\n",
    "    \"\"\"Tag a single input sentence using the LLM POS tagger.\"\"\"\n",
    "    sentence = sentence.strip()\n",
    "    if not sentence:\n",
    "        print(\"Please enter a valid sentence.\")\n",
    "        return\n",
    "\n",
    "    prompt = {\n",
    "        \"role\": \"user\",\n",
    "        \"content\": (\n",
    "            f\"You are a POS tagger.\\n\"\n",
    "            f\"Use only these tags: {', '.join(UNIVERSAL_TAGS)}.\\n\"\n",
    "            f\"For the given input sentence, return a JSON object with key 'results', \"\n",
    "            f\"which is a list of [word, tag] pairs.\\n\\n\"\n",
    "            f\"Sentence: {sentence}\"\n",
    "        )\n",
    "    }\n",
    "\n",
    "    resp = client.responses.create(\n",
    "        model=\"gpt-5-mini\",\n",
    "        input=[prompt],\n",
    "        reasoning={\"effort\": \"low\"}  # disable reasoning\n",
    "    )\n",
    "\n",
    "    try:\n",
    "        parsed = json.loads(resp.output[1].content[0].text)\n",
    "        results = parsed[\"results\"]\n",
    "    except Exception as e:\n",
    "        print(\"Error parsing response:\", e, \"\\nRaw output:\", resp)\n",
    "        words = sentence.split()\n",
    "        results = [[w, \"X\"] for w in words]  # fallback\n",
    "\n",
    "    # Display nicely\n",
    "    print(\"\\n=== POS Tagging Demo ===\")\n",
    "    print(f\"Input: {sentence}\")\n",
    "    print(\"\\nWord-Tag pairs:\")\n",
    "    for word, tag in results:\n",
    "        print(f\" {word:15} -> {tag}\")\n",
    "\n",
    "if __name__ == \"__main__\":\n",
    "    user_input = input(\"Enter a sentence: \")\n",
    "    tag_single_sentence(user_input)"
   ]
  }
 ],
 "metadata": {
  "kernelspec": {
   "display_name": "this_env",
   "language": "python",
   "name": "python3"
  },
  "language_info": {
   "codemirror_mode": {
    "name": "ipython",
    "version": 3
   },
   "file_extension": ".py",
   "mimetype": "text/x-python",
   "name": "python",
   "nbconvert_exporter": "python",
   "pygments_lexer": "ipython3",
   "version": "3.12.3"
  }
 },
 "nbformat": 4,
 "nbformat_minor": 5
}
